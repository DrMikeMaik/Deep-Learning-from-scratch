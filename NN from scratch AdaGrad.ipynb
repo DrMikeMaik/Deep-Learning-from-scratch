{
 "cells": [
  {
   "cell_type": "code",
   "execution_count": 105,
   "metadata": {
    "collapsed": true
   },
   "outputs": [],
   "source": [
    "import numpy as np\n",
    "import pandas as pd\n",
    "import matplotlib.pyplot as plt\n",
    "from sklearn.datasets import make_classification\n",
    "from sklearn.datasets import make_blobs"
   ]
  },
  {
   "cell_type": "code",
   "execution_count": 141,
   "metadata": {
    "collapsed": true
   },
   "outputs": [],
   "source": [
    "# set the dimensions\n",
    "N = 100\n",
    "D = 2\n",
    "M = 4\n",
    "K = 3"
   ]
  },
  {
   "cell_type": "code",
   "execution_count": 142,
   "metadata": {
    "collapsed": true
   },
   "outputs": [],
   "source": [
    "# set the initial weights\n",
    "# np.random.seed(1234)\n",
    "W1 = np.random.randn(D,M)\n",
    "b1 = np.random.randn(M)\n",
    "W2 = np.random.randn(M,K)\n",
    "b2 = np.random.randn(K)"
   ]
  },
  {
   "cell_type": "code",
   "execution_count": 143,
   "metadata": {},
   "outputs": [
    {
     "name": "stdout",
     "output_type": "stream",
     "text": [
      "(2, 4)\n",
      "(4,)\n",
      "(4, 3)\n",
      "(3,)\n"
     ]
    }
   ],
   "source": [
    "print(W1.shape)\n",
    "print(b1.shape)\n",
    "print(W2.shape)\n",
    "print(b2.shape)"
   ]
  },
  {
   "cell_type": "code",
   "execution_count": 144,
   "metadata": {},
   "outputs": [
    {
     "name": "stdout",
     "output_type": "stream",
     "text": [
      "[[-0.47558663 -2.86830138 -0.32191666 -0.97762822]\n",
      " [-0.8564992   0.67168116  0.71628435  0.57981259]]\n",
      "\n",
      "[-0.26397671 -0.73030499 -0.63792452 -0.76446733]\n"
     ]
    }
   ],
   "source": [
    "print(W1)\n",
    "print()\n",
    "print(b1)"
   ]
  },
  {
   "cell_type": "code",
   "execution_count": 145,
   "metadata": {},
   "outputs": [
    {
     "name": "stdout",
     "output_type": "stream",
     "text": [
      "[[ 1.11481351e+00  1.57289403e+00 -3.68483363e-01]\n",
      " [-9.09584162e-01  7.78213885e-01  2.97001597e-01]\n",
      " [ 6.59324812e-02 -1.29226484e-04 -8.34501012e-01]\n",
      " [-1.28148813e+00 -4.58801462e-01 -3.45849524e-01]]\n",
      "\n",
      "[1.90062434 0.66546294 0.43725675]\n"
     ]
    }
   ],
   "source": [
    "print(W2)\n",
    "print()\n",
    "print(b2)"
   ]
  },
  {
   "cell_type": "code",
   "execution_count": 146,
   "metadata": {
    "collapsed": true
   },
   "outputs": [],
   "source": [
    "# X, t = make_classification(n_samples=N, n_features=D, n_classes=K, n_redundant=0, \n",
    "#                            n_informative=D, n_clusters_per_class=1)\n",
    "X, t = make_blobs(n_features=2, centers=3)"
   ]
  },
  {
   "cell_type": "code",
   "execution_count": 147,
   "metadata": {},
   "outputs": [
    {
     "name": "stdout",
     "output_type": "stream",
     "text": [
      "(100, 2)\n",
      "(100,)\n"
     ]
    }
   ],
   "source": [
    "print(X.shape)\n",
    "print(t.shape)"
   ]
  },
  {
   "cell_type": "code",
   "execution_count": 148,
   "metadata": {
    "collapsed": true
   },
   "outputs": [],
   "source": [
    "X1 = pd.DataFrame(X, columns=['f1', 'f2'])\n",
    "t1 = pd.DataFrame(t, columns=['target'])\n",
    "df = pd.concat([X1, t1], axis=1)"
   ]
  },
  {
   "cell_type": "markdown",
   "metadata": {},
   "source": [
    "## Graph"
   ]
  },
  {
   "cell_type": "code",
   "execution_count": 149,
   "metadata": {},
   "outputs": [
    {
     "data": {
      "image/png": "[encoded data removed]",
      "text/plain": [
       "<matplotlib.figure.Figure at 0x11b7d2c88>"
      ]
     },
     "metadata": {},
     "output_type": "display_data"
    }
   ],
   "source": [
    "plt.scatter(df.loc[df['target']==0, 'f1'], df.loc[df['target']==0, 'f2'],\n",
    "           label = 't1')\n",
    "plt.scatter(df.loc[df['target']==1, 'f1'], df.loc[df['target']==1, 'f2'],\n",
    "            label = 't2')\n",
    "plt.scatter(df.loc[df['target']==2, 'f1'], df.loc[df['target']==2, 'f2'],\n",
    "            label = 't3')\n",
    "plt.legend()\n",
    "plt.show()"
   ]
  },
  {
   "cell_type": "markdown",
   "metadata": {},
   "source": [
    "## Log reg"
   ]
  },
  {
   "cell_type": "code",
   "execution_count": 150,
   "metadata": {
    "collapsed": true
   },
   "outputs": [],
   "source": [
    "def Z(X, W, b):\n",
    "    return np.dot(X, W) + b"
   ]
  },
  {
   "cell_type": "code",
   "execution_count": 151,
   "metadata": {
    "collapsed": true
   },
   "outputs": [],
   "source": [
    "def sig(Z):\n",
    "    return 1/(1+np.exp(-Z))"
   ]
  },
  {
   "cell_type": "code",
   "execution_count": 152,
   "metadata": {
    "collapsed": true
   },
   "outputs": [],
   "source": [
    "def soft(Z):\n",
    "    exp_Z = np.exp(Z)\n",
    "    return exp_Z/np.sum(exp_Z, axis=1, keepdims=True)"
   ]
  },
  {
   "cell_type": "code",
   "execution_count": 153,
   "metadata": {},
   "outputs": [
    {
     "data": {
      "text/plain": [
       "(100, 4)"
      ]
     },
     "execution_count": 153,
     "metadata": {},
     "output_type": "execute_result"
    }
   ],
   "source": [
    "Z1 = Z(X, W1, b1)\n",
    "Z1.shape"
   ]
  },
  {
   "cell_type": "code",
   "execution_count": 154,
   "metadata": {},
   "outputs": [
    {
     "data": {
      "text/plain": [
       "(100, 4)"
      ]
     },
     "execution_count": 154,
     "metadata": {},
     "output_type": "execute_result"
    }
   ],
   "source": [
    "y1 = sig(Z1)\n",
    "y1.shape"
   ]
  },
  {
   "cell_type": "code",
   "execution_count": 155,
   "metadata": {},
   "outputs": [
    {
     "data": {
      "text/plain": [
       "(100, 3)"
      ]
     },
     "execution_count": 155,
     "metadata": {},
     "output_type": "execute_result"
    }
   ],
   "source": [
    "Z2 = Z(y1, W2, b2)\n",
    "Z2.shape"
   ]
  },
  {
   "cell_type": "code",
   "execution_count": 156,
   "metadata": {},
   "outputs": [
    {
     "data": {
      "text/plain": [
       "(100, 3)"
      ]
     },
     "execution_count": 156,
     "metadata": {},
     "output_type": "execute_result"
    }
   ],
   "source": [
    "y2 = soft(Z2)\n",
    "y2.shape"
   ]
  },
  {
   "cell_type": "code",
   "execution_count": 157,
   "metadata": {
    "collapsed": true
   },
   "outputs": [],
   "source": [
    "def ohe(t):\n",
    "    result = np.zeros((N,K))\n",
    "    for i in range(len(t)):\n",
    "        result[i, t[i]] = 1\n",
    "    return result"
   ]
  },
  {
   "cell_type": "code",
   "execution_count": 158,
   "metadata": {
    "collapsed": true
   },
   "outputs": [],
   "source": [
    "def cost(t, y):\n",
    "    return -t*np.log(y)"
   ]
  },
  {
   "cell_type": "code",
   "execution_count": 159,
   "metadata": {},
   "outputs": [
    {
     "data": {
      "text/plain": [
       "(100, 3)"
      ]
     },
     "execution_count": 159,
     "metadata": {},
     "output_type": "execute_result"
    }
   ],
   "source": [
    "cost1 = cost(ohe(t), y2)\n",
    "cost1.shape"
   ]
  },
  {
   "cell_type": "code",
   "execution_count": 160,
   "metadata": {
    "collapsed": true
   },
   "outputs": [],
   "source": [
    "def error(cost):\n",
    "    return (cost.sum())/N"
   ]
  },
  {
   "cell_type": "code",
   "execution_count": 161,
   "metadata": {},
   "outputs": [
    {
     "data": {
      "text/plain": [
       "1.156132068506528"
      ]
     },
     "execution_count": 161,
     "metadata": {},
     "output_type": "execute_result"
    }
   ],
   "source": [
    "err0 = error(cost1)\n",
    "err0"
   ]
  },
  {
   "cell_type": "code",
   "execution_count": 162,
   "metadata": {
    "collapsed": true
   },
   "outputs": [],
   "source": [
    "def accuracy(t, y):\n",
    "    return (t==np.round(y)).mean()"
   ]
  },
  {
   "cell_type": "code",
   "execution_count": 163,
   "metadata": {},
   "outputs": [
    {
     "data": {
      "text/plain": [
       "0.78"
      ]
     },
     "execution_count": 163,
     "metadata": {},
     "output_type": "execute_result"
    }
   ],
   "source": [
    "acc0 = accuracy(ohe(t), y2)\n",
    "acc0"
   ]
  },
  {
   "cell_type": "code",
   "execution_count": 164,
   "metadata": {
    "collapsed": true
   },
   "outputs": [],
   "source": [
    "err_reg = [err0]\n",
    "acc_reg = [acc0]"
   ]
  },
  {
   "cell_type": "code",
   "execution_count": 165,
   "metadata": {},
   "outputs": [
    {
     "name": "stdout",
     "output_type": "stream",
     "text": [
      "initial error: 1.156132068506528\n"
     ]
    }
   ],
   "source": [
    "lr = 0.001\n",
    "cache_W1 = 0\n",
    "cache_b1 = 0\n",
    "cache_W2 = 0\n",
    "cache_b2 = 0\n",
    "decay = 0.99\n",
    "eps = 10e-8\n",
    "\n",
    "print('initial error: {}'.format(err0))"
   ]
  },
  {
   "cell_type": "code",
   "execution_count": 172,
   "metadata": {
    "scrolled": true
   },
   "outputs": [
    {
     "name": "stdout",
     "output_type": "stream",
     "text": [
      "error:0.44057564944935224\n",
      "error:0.4402083460215097\n",
      "error:0.439842072537502\n",
      "error:0.4394768239051727\n",
      "error:0.43911259506508943\n",
      "error:0.43874938099029154\n",
      "error:0.43838717668603705\n",
      "error:0.4380259771895559\n",
      "error:0.4376657775698016\n",
      "error:0.43730657292720876\n",
      "error:0.4369483583934499\n",
      "error:0.4365911291311973\n",
      "error:0.436234880333884\n",
      "error:0.43587960722547\n",
      "error:0.4355253050602078\n",
      "error:0.4351719691224132\n",
      "error:0.434819594726235\n",
      "error:0.4344681772154294\n",
      "error:0.4341177119631348\n",
      "error:0.4337681943716501\n",
      "error:0.43341961987221306\n",
      "error:0.43307198392478274\n",
      "error:0.4327252820178227\n",
      "error:0.43237950966808664\n",
      "error:0.4320346624204056\n",
      "error:0.4316907358474772\n",
      "error:0.43134772554965795\n",
      "error:0.4310056271547548\n",
      "error:0.4306644363178219\n",
      "error:0.4303241487209556\n",
      "error:0.42998476007309505\n",
      "error:0.4296462661098214\n",
      "error:0.42930866259316036\n",
      "error:0.42897194531138694\n",
      "error:0.42863611007883046\n",
      "error:0.4283011527356822\n",
      "error:0.427967069147805\n",
      "error:0.427633855206544\n",
      "error:0.4273015068285397\n",
      "error:0.4269700199555417\n",
      "error:0.42663939055422484\n",
      "error:0.4263096146160066\n",
      "error:0.42598068815686657\n",
      "error:0.4256526072171677\n",
      "error:0.4253253678614773\n",
      "error:0.4249989661783917\n",
      "error:0.4246733982803626\n",
      "error:0.4243486603035221\n",
      "error:0.4240247484075132\n",
      "error:0.42370165877531824\n",
      "error:0.4233793876130912\n",
      "error:0.4230579311499901\n",
      "error:0.4227372856380123\n",
      "error:0.4224174473518296\n",
      "error:0.42209841258862524\n",
      "error:0.4217801776679331\n",
      "error:0.42146273893147795\n",
      "error:0.42114609274301607\n",
      "error:0.4208302354881788\n",
      "error:0.42051516357431606\n",
      "error:0.4202008734303428\n",
      "error:0.41988736150658407\n",
      "error:0.41957462427462516\n",
      "error:0.41926265822715986\n",
      "error:0.41895145987784127\n",
      "error:0.41864102576113393\n",
      "error:0.418331352432167\n",
      "error:0.4180224364665891\n",
      "error:0.4177142744604228\n",
      "error:0.41740686302992325\n",
      "error:0.41710019881143545\n",
      "error:0.41679427846125316\n",
      "error:0.41648909865548034\n",
      "error:0.41618465608989214\n",
      "error:0.4158809474797988\n",
      "error:0.41557796955990833\n",
      "error:0.4152757190841922\n",
      "error:0.4149741928257518\n",
      "error:0.41467338757668587\n",
      "error:0.4143733001479589\n",
      "error:0.4140739273692711\n",
      "error:0.41377526608892845\n",
      "error:0.41347731317371433\n",
      "error:0.41318006550876346\n",
      "error:0.4128835199974351\n",
      "error:0.41258767356118725\n",
      "error:0.41229252313945425\n",
      "error:0.4119980656895226\n",
      "error:0.41170429818640897\n",
      "error:0.4114112176227398\n",
      "error:0.41111882100863106\n",
      "error:0.41082710537156897\n",
      "error:0.41053606775629214\n",
      "error:0.41024570522467485\n",
      "error:0.40995601485561034\n",
      "error:0.4096669937448956\n",
      "error:0.4093786390051183\n",
      "error:0.409090947765542\n",
      "error:0.4088039171719943\n",
      "error:0.4085175443867559\n",
      "error:0.40823182658844914\n",
      "error:0.40794676097192933\n",
      "error:0.40766234474817464\n",
      "error:0.4073785751441801\n",
      "error:0.40709544940284814\n",
      "error:0.4068129647828846\n",
      "error:0.40653111855869206\n",
      "error:0.4062499080202661\n",
      "error:0.4059693304730909\n",
      "error:0.40568938323803705\n",
      "error:0.40541006365125937\n",
      "error:0.40513136906409564\n",
      "error:0.40485329684296617\n",
      "error:0.40457584436927424\n",
      "error:0.40429900903930766\n",
      "error:0.40402278826414006\n",
      "error:0.40374717946953437\n",
      "error:0.4034721800958457\n",
      "error:0.40319778759792585\n",
      "error:0.4029239994450288\n",
      "error:0.40265081312071616\n",
      "error:0.4023782261227632\n",
      "error:0.4021062359630669\n",
      "error:0.40183484016755344\n",
      "error:0.4015640362760868\n",
      "error:0.40129382184237855\n",
      "error:0.4010241944338981\n",
      "error:0.40075515163178305\n",
      "error:0.4004866910307504\n",
      "error:0.4002188102390102\n",
      "error:0.39995150687817627\n",
      "error:0.3996847785831816\n",
      "error:0.39941862300219155\n",
      "error:0.3991530377965193\n",
      "error:0.39888802064054046\n",
      "error:0.3986235692216107\n",
      "error:0.39835968123998095\n",
      "error:0.3980963544087157\n",
      "error:0.39783358645361133\n",
      "error:0.39757137511311413\n",
      "error:0.39730971813823984\n",
      "error:0.3970486132924938\n",
      "error:0.3967880583517918\n",
      "error:0.39652805110437966\n",
      "error:0.3962685893507566\n",
      "error:0.39600967090359745\n",
      "error:0.39575129358767414\n",
      "error:0.39549345523978074\n",
      "error:0.395236153708657\n",
      "error:0.3949793868549126\n"
     ]
    }
   ],
   "source": [
    "for e in range(15000):\n",
    "\n",
    "    Z1 = Z(X, W1, b1)\n",
    "    y1 = sig(Z1)\n",
    "    Z2 = Z(y1, W2, b2)\n",
    "    y2 = soft(Z2)\n",
    "    cost1 = cost(ohe(t), y2)\n",
    "    error1 = error(cost1)\n",
    "    \n",
    "    dZ2 = (ohe(t) - y2)\n",
    "    dw2 = np.dot(y1.T, dZ2)\n",
    "    db2 = (dZ2.sum(axis=0))\n",
    "    cache_W2 += dw2*dw2\n",
    "    cache_b2 += db2*db2\n",
    "    \n",
    "    dZ1 = np.dot(dZ2, W2.T)*(y1*(1-y1))\n",
    "    dw1 = np.dot(X.T, dZ1)\n",
    "    db1 = (dZ1.sum(axis=0))\n",
    "    cache_W1 += dw1*dw1\n",
    "    cache_b1 += db1*db1\n",
    "    \n",
    "    W2 += (lr*dw2)/(np.sqrt(cache_W2 + eps))\n",
    "    b2 += (lr*db2)/(np.sqrt(cache_b2 + eps))\n",
    "    W1 += (lr*dw1)/(np.sqrt(cache_W1 + eps))\n",
    "    b1 += (lr*db1) /(np.sqrt(cache_b1 + eps))   \n",
    "    \n",
    "    if e % 100 == 0:\n",
    "        err_reg.append(error1)\n",
    "        acc_reg.append(accuracy(ohe(t), y2))\n",
    "        print('error:{}'.format(error1))"
   ]
  },
  {
   "cell_type": "code",
   "execution_count": 173,
   "metadata": {},
   "outputs": [
    {
     "data": {
      "text/plain": [
       "0.9966666666666667"
      ]
     },
     "execution_count": 173,
     "metadata": {},
     "output_type": "execute_result"
    }
   ],
   "source": [
    "accuracy(ohe(t), y2)"
   ]
  },
  {
   "cell_type": "markdown",
   "metadata": {},
   "source": [
    "## Graph"
   ]
  },
  {
   "cell_type": "markdown",
   "metadata": {},
   "source": [
    "### Constant learning rate"
   ]
  },
  {
   "cell_type": "code",
   "execution_count": 174,
   "metadata": {},
   "outputs": [
    {
     "data": {
      "image/png": "[encoded data removed]",
      "text/plain": [
       "<matplotlib.figure.Figure at 0x11b58a470>"
      ]
     },
     "metadata": {},
     "output_type": "display_data"
    }
   ],
   "source": [
    "plt.plot(err_reg)\n",
    "plt.show()"
   ]
  },
  {
   "cell_type": "code",
   "execution_count": 175,
   "metadata": {},
   "outputs": [
    {
     "data": {
      "image/png": "[encoded data removed]",
      "text/plain": [
       "<matplotlib.figure.Figure at 0x11b958438>"
      ]
     },
     "metadata": {},
     "output_type": "display_data"
    }
   ],
   "source": [
    "plt.plot(acc_reg)\n",
    "plt.show()"
   ]
  },
  {
   "cell_type": "markdown",
   "metadata": {},
   "source": [
    "# test"
   ]
  },
  {
   "cell_type": "code",
   "execution_count": 14,
   "metadata": {
    "collapsed": true
   },
   "outputs": [],
   "source": [
    "lr1 = [0.1]"
   ]
  },
  {
   "cell_type": "code",
   "execution_count": 15,
   "metadata": {
    "collapsed": true
   },
   "outputs": [],
   "source": [
    "for i in range(100):\n",
    "    k = 0.1\n",
    "    lr1.append(lr1[0]*np.exp(- k * i))"
   ]
  },
  {
   "cell_type": "code",
   "execution_count": 16,
   "metadata": {},
   "outputs": [
    {
     "data": {
      "image/png": "[encoded data removed]",
      "text/plain": [
       "<matplotlib.figure.Figure at 0x11562e748>"
      ]
     },
     "metadata": {},
     "output_type": "display_data"
    }
   ],
   "source": [
    "plt.plot(lr)\n",
    "plt.show()"
   ]
  },
  {
   "cell_type": "code",
   "execution_count": 17,
   "metadata": {
    "collapsed": true
   },
   "outputs": [],
   "source": [
    "lr2 = [0.1]"
   ]
  },
  {
   "cell_type": "code",
   "execution_count": 18,
   "metadata": {
    "collapsed": true
   },
   "outputs": [],
   "source": [
    "for i in range(100):\n",
    "    k = 0.1\n",
    "    lr2.append(lr2[0]/((k * i) + 1))"
   ]
  },
  {
   "cell_type": "code",
   "execution_count": 19,
   "metadata": {},
   "outputs": [
    {
     "data": {
      "image/png": "[encoded data removed]",
      "text/plain": [
       "<matplotlib.figure.Figure at 0x115a45780>"
      ]
     },
     "metadata": {},
     "output_type": "display_data"
    }
   ],
   "source": [
    "plt.plot(lr2)\n",
    "plt.show()"
   ]
  },
  {
   "cell_type": "code",
   "execution_count": 20,
   "metadata": {},
   "outputs": [
    {
     "data": {
      "image/png": "[encoded data removed]",
      "text/plain": [
       "<matplotlib.figure.Figure at 0x11574c278>"
      ]
     },
     "metadata": {},
     "output_type": "display_data"
    }
   ],
   "source": [
    "plt.plot(lr1)\n",
    "plt.plot(lr2)\n",
    "plt.show()"
   ]
  },
  {
   "cell_type": "code",
   "execution_count": 176,
   "metadata": {},
   "outputs": [
    {
     "data": {
      "text/plain": [
       "array([[4.16028012e+02, 1.63113329e-01, 1.02483706e+05, 7.93046222e+05],\n",
       "       [1.00747036e+04, 5.28407910e-01, 3.76657120e+05, 1.61470522e+06]])"
      ]
     },
     "execution_count": 176,
     "metadata": {},
     "output_type": "execute_result"
    }
   ],
   "source": [
    "cache_W1"
   ]
  },
  {
   "cell_type": "code",
   "execution_count": null,
   "metadata": {
    "collapsed": true
   },
   "outputs": [],
   "source": []
  }
 ],
 "metadata": {
  "kernelspec": {
   "display_name": "Python 3",
   "language": "python",
   "name": "python3"
  },
  "language_info": {
   "codemirror_mode": {
    "name": "ipython",
    "version": 3
   },
   "file_extension": ".py",
   "mimetype": "text/x-python",
   "name": "python",
   "nbconvert_exporter": "python",
   "pygments_lexer": "ipython3",
   "version": "3.6.1"
  }
 },
 "nbformat": 4,
 "nbformat_minor": 2
}
