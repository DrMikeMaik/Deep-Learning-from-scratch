{
 "cells": [
  {
   "cell_type": "code",
   "execution_count": 1,
   "metadata": {
    "collapsed": true
   },
   "outputs": [],
   "source": [
    "import numpy as np\n",
    "import pandas as pd\n",
    "import matplotlib.pyplot as plt\n",
    "from sklearn.datasets import make_classification\n",
    "from sklearn.datasets import make_blobs"
   ]
  },
  {
   "cell_type": "code",
   "execution_count": 2,
   "metadata": {
    "collapsed": true
   },
   "outputs": [],
   "source": [
    "# set the dimensions\n",
    "N = 100\n",
    "D = 2\n",
    "M = 4\n",
    "K = 3"
   ]
  },
  {
   "cell_type": "code",
   "execution_count": 3,
   "metadata": {
    "collapsed": true
   },
   "outputs": [],
   "source": [
    "# set the initial weights\n",
    "np.random.seed(9)\n",
    "W1 = np.random.randn(D,M)\n",
    "b1 = np.random.randn(M)\n",
    "W2 = np.random.randn(M,K)\n",
    "b2 = np.random.randn(K)"
   ]
  },
  {
   "cell_type": "code",
   "execution_count": 4,
   "metadata": {},
   "outputs": [
    {
     "name": "stdout",
     "output_type": "stream",
     "text": [
      "(2, 4)\n",
      "(4,)\n",
      "(4, 3)\n",
      "(3,)\n"
     ]
    }
   ],
   "source": [
    "print(W1.shape)\n",
    "print(b1.shape)\n",
    "print(W2.shape)\n",
    "print(b2.shape)"
   ]
  },
  {
   "cell_type": "code",
   "execution_count": 5,
   "metadata": {},
   "outputs": [
    {
     "name": "stdout",
     "output_type": "stream",
     "text": [
      "[[ 1.10855471e-03 -2.89544069e-01 -1.11606630e+00 -1.28827567e-02]\n",
      " [-3.78361464e-01 -4.81135363e-01 -1.51733118e+00 -4.90871981e-01]]\n",
      "\n",
      "[-0.24068058 -0.64794746  0.63589108  1.74011731]\n"
     ]
    }
   ],
   "source": [
    "print(W1)\n",
    "print()\n",
    "print(b1)"
   ]
  },
  {
   "cell_type": "code",
   "execution_count": 6,
   "metadata": {},
   "outputs": [
    {
     "name": "stdout",
     "output_type": "stream",
     "text": [
      "[[ 0.29668222  0.70750366  1.82281576]\n",
      " [ 0.43076903  1.54272963 -0.90072117]\n",
      " [-0.13712501  1.29757901  0.67527117]\n",
      " [ 0.03195812  0.9181459   0.38050947]]\n",
      "\n",
      "[ 0.51636749 -0.35523946  0.208777  ]\n"
     ]
    }
   ],
   "source": [
    "print(W2)\n",
    "print()\n",
    "print(b2)"
   ]
  },
  {
   "cell_type": "code",
   "execution_count": 7,
   "metadata": {
    "collapsed": true
   },
   "outputs": [],
   "source": [
    "# Create three blobs\n",
    "X, t = make_blobs(n_features=2, centers=3)"
   ]
  },
  {
   "cell_type": "code",
   "execution_count": 8,
   "metadata": {},
   "outputs": [
    {
     "name": "stdout",
     "output_type": "stream",
     "text": [
      "(100, 2)\n",
      "(100,)\n"
     ]
    }
   ],
   "source": [
    "print(X.shape)\n",
    "print(t.shape)"
   ]
  },
  {
   "cell_type": "code",
   "execution_count": 9,
   "metadata": {
    "collapsed": true
   },
   "outputs": [],
   "source": [
    "X1 = pd.DataFrame(X, columns=['f1', 'f2'])\n",
    "t1 = pd.DataFrame(t, columns=['target'])\n",
    "df = pd.concat([X1, t1], axis=1)"
   ]
  },
  {
   "cell_type": "markdown",
   "metadata": {},
   "source": [
    "## Graph"
   ]
  },
  {
   "cell_type": "code",
   "execution_count": 10,
   "metadata": {},
   "outputs": [
    {
     "data": {
      "image/png": "[encoded data removed]",
      "text/plain": [
       "<matplotlib.figure.Figure at 0x111b65588>"
      ]
     },
     "metadata": {},
     "output_type": "display_data"
    }
   ],
   "source": [
    "plt.figure(figsize=(8, 6), dpi=80)\n",
    "plt.scatter(df.loc[df['target']==0, 'f1'], df.loc[df['target']==0, 'f2'],\n",
    "           label = 't1')\n",
    "plt.scatter(df.loc[df['target']==1, 'f1'], df.loc[df['target']==1, 'f2'],\n",
    "            label = 't2')\n",
    "plt.scatter(df.loc[df['target']==2, 'f1'], df.loc[df['target']==2, 'f2'],\n",
    "            label = 't3')\n",
    "plt.legend()\n",
    "plt.show()"
   ]
  },
  {
   "cell_type": "markdown",
   "metadata": {},
   "source": [
    "## Log reg"
   ]
  },
  {
   "cell_type": "code",
   "execution_count": 11,
   "metadata": {
    "collapsed": true
   },
   "outputs": [],
   "source": [
    "def Z(X, W, b):\n",
    "    return np.dot(X, W) + b"
   ]
  },
  {
   "cell_type": "code",
   "execution_count": 12,
   "metadata": {
    "collapsed": true
   },
   "outputs": [],
   "source": [
    "def sig(Z):\n",
    "    return 1/(1+np.exp(-Z))"
   ]
  },
  {
   "cell_type": "code",
   "execution_count": 13,
   "metadata": {
    "collapsed": true
   },
   "outputs": [],
   "source": [
    "def soft(Z):\n",
    "    exp_Z = np.exp(Z)\n",
    "    return exp_Z/np.sum(exp_Z, axis=1, keepdims=True)"
   ]
  },
  {
   "cell_type": "code",
   "execution_count": 14,
   "metadata": {},
   "outputs": [
    {
     "data": {
      "text/plain": [
       "(100, 4)"
      ]
     },
     "execution_count": 14,
     "metadata": {},
     "output_type": "execute_result"
    }
   ],
   "source": [
    "Z1 = Z(X, W1, b1)\n",
    "Z1.shape"
   ]
  },
  {
   "cell_type": "code",
   "execution_count": 15,
   "metadata": {},
   "outputs": [
    {
     "data": {
      "text/plain": [
       "(100, 4)"
      ]
     },
     "execution_count": 15,
     "metadata": {},
     "output_type": "execute_result"
    }
   ],
   "source": [
    "y1 = sig(Z1)\n",
    "y1.shape"
   ]
  },
  {
   "cell_type": "code",
   "execution_count": 16,
   "metadata": {},
   "outputs": [
    {
     "data": {
      "text/plain": [
       "(100, 3)"
      ]
     },
     "execution_count": 16,
     "metadata": {},
     "output_type": "execute_result"
    }
   ],
   "source": [
    "Z2 = Z(y1, W2, b2)\n",
    "Z2.shape"
   ]
  },
  {
   "cell_type": "code",
   "execution_count": 17,
   "metadata": {},
   "outputs": [
    {
     "data": {
      "text/plain": [
       "(100, 3)"
      ]
     },
     "execution_count": 17,
     "metadata": {},
     "output_type": "execute_result"
    }
   ],
   "source": [
    "y2 = soft(Z2)\n",
    "y2.shape"
   ]
  },
  {
   "cell_type": "code",
   "execution_count": 18,
   "metadata": {
    "collapsed": true
   },
   "outputs": [],
   "source": [
    "def ohe(t):\n",
    "    result = np.zeros((N,K))\n",
    "    for i in range(len(t)):\n",
    "        result[i, t[i]] = 1\n",
    "    return result"
   ]
  },
  {
   "cell_type": "code",
   "execution_count": 19,
   "metadata": {
    "collapsed": true
   },
   "outputs": [],
   "source": [
    "def cost(t, y):\n",
    "    return -t*np.log(y)"
   ]
  },
  {
   "cell_type": "code",
   "execution_count": 20,
   "metadata": {},
   "outputs": [
    {
     "data": {
      "text/plain": [
       "(100, 3)"
      ]
     },
     "execution_count": 20,
     "metadata": {},
     "output_type": "execute_result"
    }
   ],
   "source": [
    "cost1 = cost(ohe(t), y2)\n",
    "cost1.shape"
   ]
  },
  {
   "cell_type": "code",
   "execution_count": 21,
   "metadata": {
    "collapsed": true
   },
   "outputs": [],
   "source": [
    "def error(cost):\n",
    "    return (cost.sum())/N"
   ]
  },
  {
   "cell_type": "code",
   "execution_count": 22,
   "metadata": {},
   "outputs": [
    {
     "data": {
      "text/plain": [
       "1.6850577128658057"
      ]
     },
     "execution_count": 22,
     "metadata": {},
     "output_type": "execute_result"
    }
   ],
   "source": [
    "err0 = error(cost1)\n",
    "err0"
   ]
  },
  {
   "cell_type": "code",
   "execution_count": 23,
   "metadata": {
    "collapsed": true
   },
   "outputs": [],
   "source": [
    "def accuracy(t, y):\n",
    "    return (t==np.round(y)).mean()"
   ]
  },
  {
   "cell_type": "code",
   "execution_count": 24,
   "metadata": {},
   "outputs": [
    {
     "data": {
      "text/plain": [
       "0.4666666666666667"
      ]
     },
     "execution_count": 24,
     "metadata": {},
     "output_type": "execute_result"
    }
   ],
   "source": [
    "acc0 = accuracy(ohe(t), y2)\n",
    "acc0"
   ]
  },
  {
   "cell_type": "code",
   "execution_count": 25,
   "metadata": {
    "collapsed": true
   },
   "outputs": [],
   "source": [
    "err = []\n",
    "acc = []"
   ]
  },
  {
   "cell_type": "code",
   "execution_count": 26,
   "metadata": {
    "scrolled": true
   },
   "outputs": [
    {
     "name": "stdout",
     "output_type": "stream",
     "text": [
      "initial error: 1.6850577128658057\n",
      "error:1.6850577128658057\n",
      "error:0.8358694816444131\n",
      "error:0.597813736680946\n",
      "error:0.4870930401974726\n",
      "error:0.42910019016722595\n",
      "error:0.39513282879978257\n",
      "error:0.3729532616060249\n",
      "error:0.3571951169057971\n",
      "error:0.34524941327973396\n",
      "error:0.33571838885461275\n",
      "error:0.3277967229940127\n",
      "error:0.32099612737377115\n",
      "error:0.3150100941037709\n",
      "error:0.3096417370952901\n",
      "error:0.304762559235665\n",
      "error:0.3002875211872132\n",
      "error:0.29615927452312235\n",
      "error:0.2923378755428897\n",
      "error:0.2887939891507507\n",
      "error:0.2855044485069185\n",
      "error:0.28244946728699327\n",
      "error:0.2796110160572481\n",
      "error:0.2769719905256382\n",
      "error:0.2745158815317499\n",
      "error:0.27222673082563253\n",
      "error:0.27008922579477895\n",
      "error:0.2680888443526771\n",
      "error:0.26621200329312017\n",
      "error:0.2644461891705875\n",
      "error:0.2627800634523586\n",
      "error:0.26120353794799095\n",
      "error:0.259707816652094\n",
      "error:0.25828539933127914\n",
      "error:0.2569300424506189\n",
      "error:0.255636675314779\n",
      "error:0.25440127358943754\n",
      "error:0.25322069782043316\n",
      "error:0.2520925097412302\n",
      "error:0.25101478250425097\n",
      "error:0.24998592142015535\n",
      "error:0.2490045091843258\n",
      "error:0.24806918470556127\n",
      "error:0.24717855890765292\n",
      "error:0.24633116565743765\n",
      "error:0.24552544225502346\n",
      "error:0.24475973204967091\n",
      "error:0.24403230152346636\n",
      "error:0.24334136511289428\n",
      "error:0.24268511255053457\n",
      "error:0.24206173514053467\n",
      "error:0.24146944883351373\n",
      "error:0.24090651309927238\n",
      "error:0.24037124538498403\n",
      "error:0.23986203143482918\n",
      "error:0.23937733200370076\n",
      "error:0.2389156865938183\n",
      "error:0.23847571483905622\n",
      "error:0.23805611610267707\n",
      "error:0.2376556677707532\n",
      "error:0.23727322263501527\n",
      "error:0.23690770567589234\n",
      "error:0.2365581104841663\n",
      "error:0.23622349549953647\n",
      "error:0.23590298019611075\n",
      "error:0.23559574130708982\n",
      "error:0.2353010091520178\n",
      "error:0.23501806410826745\n",
      "error:0.23474623325238944\n",
      "error:0.23448488718530258\n",
      "error:0.23423343704698163\n",
      "error:0.2339913317204797\n",
      "error:0.2337580552211542\n",
      "error:0.2335331242643571\n",
      "error:0.23331608600322762\n",
      "error:0.23310651592730547\n",
      "error:0.2329040159122659\n",
      "error:0.23270821241100642\n",
      "error:0.2325187547764803\n",
      "error:0.23233531370699495\n",
      "error:0.2321575798051127\n",
      "error:0.23198526224177007\n",
      "error:0.23181808751773902\n",
      "error:0.23165579831506342\n",
      "error:0.23149815243161853\n",
      "error:0.2313449217924285\n",
      "error:0.23119589153185133\n",
      "error:0.23105085914118825\n",
      "error:0.23090963367669415\n",
      "error:0.23077203502335816\n",
      "error:0.2306378932101938\n",
      "error:0.23050704777311154\n",
      "error:0.23037934716176778\n",
      "error:0.2302546481870695\n",
      "error:0.2301328155062837\n",
      "error:0.23001372114294533\n",
      "error:0.22989724403898587\n",
      "error:0.22978326963670817\n",
      "error:0.2296716894884272\n",
      "error:0.2295624008917689\n",
      "error:0.22945530654877955\n",
      "error:0.2293503142471433\n",
      "error:0.22924733656194093\n",
      "error:0.22914629057650512\n",
      "error:0.22904709762103842\n",
      "error:0.22894968302776406\n",
      "error:0.228853975901473\n",
      "error:0.22875990890441766\n",
      "error:0.2286674180545792\n",
      "error:0.2285764425364109\n",
      "error:0.22848692452322297\n",
      "error:0.22839880901043716\n",
      "error:0.22831204365899435\n",
      "error:0.22822657864824958\n",
      "error:0.2281423665377359\n",
      "error:0.2280593621372237\n",
      "error:0.22797752238453803\n",
      "error:0.22789680623063863\n",
      "error:0.22781717453149672\n",
      "error:0.22773858994633706\n",
      "error:0.22766101684184264\n",
      "error:0.22758442120194367\n",
      "error:0.22750877054284246\n",
      "error:0.22743403383294464\n",
      "error:0.22736018141739067\n",
      "error:0.22728718494690214\n",
      "error:0.2272150173106751\n",
      "error:0.2271436525730713\n",
      "error:0.22707306591387194\n",
      "error:0.22700323357187835\n",
      "error:0.22693413279165278\n",
      "error:0.22686574177320967\n",
      "error:0.2267980396244787\n",
      "error:0.22673100631637205\n",
      "error:0.2266646226403\n",
      "error:0.22659887016798816\n",
      "error:0.22653373121345985\n",
      "error:0.22646918879705563\n",
      "error:0.22640522661136955\n",
      "error:0.22634182898899038\n",
      "error:0.22627898087194265\n",
      "error:0.22621666778272925\n",
      "error:0.22615487579688281\n",
      "error:0.22609359151694022\n",
      "error:0.22603280204775936\n",
      "error:0.22597249497310146\n",
      "error:0.2259126583334087\n",
      "error:0.22585328060470986\n",
      "error:0.22579435067859216\n",
      "error:0.22573585784317923\n",
      "error:0.22567779176506114\n"
     ]
    }
   ],
   "source": [
    "lr = 0.001\n",
    "mu = 0.9\n",
    "vw1 = 0\n",
    "vw2 = 0\n",
    "vb1 = 0\n",
    "vb2 = 0\n",
    "\n",
    "print('initial error: {}'.format(err0))\n",
    "\n",
    "for e in range(15000):\n",
    "\n",
    "    Z1 = Z(X, W1, b1)\n",
    "    y1 = sig(Z1)\n",
    "    Z2 = Z(y1, W2, b2)\n",
    "    y2 = soft(Z2)\n",
    "    cost1 = cost(ohe(t), y2)\n",
    "    error1 = error(cost1)\n",
    "    \n",
    "    dZ2 = (ohe(t) - y2)\n",
    "    dw2 = np.dot(y1.T, dZ2)\n",
    "    db2 = (dZ2.sum(axis=0))\n",
    "    \n",
    "    dZ1 = np.dot(dZ2, W2.T)*(y1*(1-y1))\n",
    "    dw1 = np.dot(X.T, dZ1)\n",
    "    db1 = (dZ1.sum(axis=0))  \n",
    "\n",
    "    # No momentum\n",
    "#     W2 += lr*dw2\n",
    "#     b2 += lr*db2\n",
    "#     W1 += lr*dw1\n",
    "#     b1 += lr*db1\n",
    "\n",
    "    vw2 = lr*dw2 - mu*vw2\n",
    "    vb2 = lr*db2 - mu*vb2\n",
    "    vw1 = lr*dw1 - mu*vw1\n",
    "    vb1 = lr*db1 - mu*vb1\n",
    "    \n",
    "#     # Regular Momentum\n",
    "#     W2 += vw2\n",
    "#     b2 += vb2\n",
    "#     W1 += vw1\n",
    "#     b1 += vb1\n",
    "\n",
    "    # Nesterov Momentum\n",
    "    W2 += lr*dw2 - mu*vw2\n",
    "    b2 += lr*db2 - mu*vb2\n",
    "    W1 += lr*dw1 - mu*vw1\n",
    "    b1 += lr*db1 - mu*vb1\n",
    "    \n",
    "    if e % 100 == 0:\n",
    "        err.append(error1)\n",
    "        acc.append(accuracy(ohe(t), y2))\n",
    "        print('error:{}'.format(error1))"
   ]
  },
  {
   "cell_type": "code",
   "execution_count": 27,
   "metadata": {},
   "outputs": [
    {
     "data": {
      "text/plain": [
       "0.9266666666666666"
      ]
     },
     "execution_count": 27,
     "metadata": {},
     "output_type": "execute_result"
    }
   ],
   "source": [
    "accuracy(ohe(t), y2)"
   ]
  },
  {
   "cell_type": "markdown",
   "metadata": {
    "collapsed": true
   },
   "source": [
    "## Graph"
   ]
  },
  {
   "cell_type": "code",
   "execution_count": 28,
   "metadata": {},
   "outputs": [
    {
     "data": {
      "image/png": "[encoded data removed]",
      "text/plain": [
       "<matplotlib.figure.Figure at 0x111d3a080>"
      ]
     },
     "metadata": {},
     "output_type": "display_data"
    }
   ],
   "source": [
    "plt.plot(err)\n",
    "plt.show()"
   ]
  },
  {
   "cell_type": "code",
   "execution_count": 29,
   "metadata": {},
   "outputs": [
    {
     "data": {
      "image/png": "[encoded data removed]",
      "text/plain": [
       "<matplotlib.figure.Figure at 0x111c44da0>"
      ]
     },
     "metadata": {},
     "output_type": "display_data"
    }
   ],
   "source": [
    "plt.plot(acc)\n",
    "plt.show()"
   ]
  },
  {
   "cell_type": "markdown",
   "metadata": {
    "collapsed": true
   },
   "source": [
    "## Decision Boundary"
   ]
  },
  {
   "cell_type": "code",
   "execution_count": 30,
   "metadata": {
    "collapsed": true
   },
   "outputs": [],
   "source": [
    "def predict_all(X):\n",
    "    Z1 = Z(X, W1, b1)\n",
    "    y1 = sig(Z1)\n",
    "    Z2 = Z(y1, W2, b2)\n",
    "    y2 = soft(Z2)\n",
    "    return np.argmax(y2, axis=1)"
   ]
  },
  {
   "cell_type": "code",
   "execution_count": 31,
   "metadata": {
    "collapsed": true
   },
   "outputs": [],
   "source": [
    "# Helper function to plot a decision boundary.\n",
    "# If you don't fully understand this function don't worry, it just generates the contour plot below.\n",
    "def plot_decision_boundary(pred_func):\n",
    "    # Set min and max values and give it some padding\n",
    "    x_min, x_max = X[:, 0].min() - .5, X[:, 0].max() + .5\n",
    "    y_min, y_max = X[:, 1].min() - .5, X[:, 1].max() + .5\n",
    "    h = 0.01\n",
    "    # Generate a grid of points with distance h between them\n",
    "    xx, yy = np.meshgrid(np.arange(x_min, x_max, h), np.arange(y_min, y_max, h))\n",
    "    # Predict the function value for the whole gid\n",
    "    Z = pred_func(np.c_[xx.ravel(), yy.ravel()])\n",
    "    Z = Z.reshape(xx.shape)\n",
    "    # Plot the contour and training examples\n",
    "    plt.figure(figsize=(8, 6), dpi=80)\n",
    "    plt.contourf(xx, yy, Z, cmap=plt.cm.brg, alpha=0.18)\n",
    "    plt.scatter(X[:, 0], X[:, 1], c=t, cmap=plt.cm.brg)\n",
    "    plt.title('MLP with Nesterov Momentum Decision Boundary')\n",
    "    plt.savefig('./data/MLP_Nest.png')\n",
    "    plt.show()"
   ]
  },
  {
   "cell_type": "code",
   "execution_count": 32,
   "metadata": {},
   "outputs": [
    {
     "data": {
      "image/png": "[encoded data removed]",
      "text/plain": [
       "<matplotlib.figure.Figure at 0x111ed2f98>"
      ]
     },
     "metadata": {},
     "output_type": "display_data"
    }
   ],
   "source": [
    "plot_decision_boundary(lambda x: predict_all(x))"
   ]
  },
  {
   "cell_type": "code",
   "execution_count": null,
   "metadata": {
    "collapsed": true
   },
   "outputs": [],
   "source": []
  }
 ],
 "metadata": {
  "kernelspec": {
   "display_name": "Python 3",
   "language": "python",
   "name": "python3"
  },
  "language_info": {
   "codemirror_mode": {
    "name": "ipython",
    "version": 3
   },
   "file_extension": ".py",
   "mimetype": "text/x-python",
   "name": "python",
   "nbconvert_exporter": "python",
   "pygments_lexer": "ipython3",
   "version": "3.6.1"
  }
 },
 "nbformat": 4,
 "nbformat_minor": 2
}
