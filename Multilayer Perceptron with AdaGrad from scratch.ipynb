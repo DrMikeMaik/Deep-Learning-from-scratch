{
 "cells": [
  {
   "cell_type": "code",
   "execution_count": 1,
   "metadata": {
    "collapsed": true
   },
   "outputs": [],
   "source": [
    "import numpy as np\n",
    "import pandas as pd\n",
    "import matplotlib.pyplot as plt\n",
    "from sklearn.datasets import make_classification\n",
    "from sklearn.datasets import make_blobs"
   ]
  },
  {
   "cell_type": "code",
   "execution_count": 2,
   "metadata": {
    "collapsed": true
   },
   "outputs": [],
   "source": [
    "# set the dimensions\n",
    "N = 100\n",
    "D = 2\n",
    "M = 4\n",
    "K = 3"
   ]
  },
  {
   "cell_type": "code",
   "execution_count": 3,
   "metadata": {
    "collapsed": true
   },
   "outputs": [],
   "source": [
    "# set the initial weights\n",
    "np.random.seed(9)\n",
    "W1 = np.random.randn(D,M)\n",
    "b1 = np.random.randn(M)\n",
    "W2 = np.random.randn(M,K)\n",
    "b2 = np.random.randn(K)"
   ]
  },
  {
   "cell_type": "code",
   "execution_count": 4,
   "metadata": {},
   "outputs": [
    {
     "name": "stdout",
     "output_type": "stream",
     "text": [
      "(2, 4)\n",
      "(4,)\n",
      "(4, 3)\n",
      "(3,)\n"
     ]
    }
   ],
   "source": [
    "print(W1.shape)\n",
    "print(b1.shape)\n",
    "print(W2.shape)\n",
    "print(b2.shape)"
   ]
  },
  {
   "cell_type": "code",
   "execution_count": 5,
   "metadata": {},
   "outputs": [
    {
     "name": "stdout",
     "output_type": "stream",
     "text": [
      "[[ 1.10855471e-03 -2.89544069e-01 -1.11606630e+00 -1.28827567e-02]\n",
      " [-3.78361464e-01 -4.81135363e-01 -1.51733118e+00 -4.90871981e-01]]\n",
      "\n",
      "[-0.24068058 -0.64794746  0.63589108  1.74011731]\n"
     ]
    }
   ],
   "source": [
    "print(W1)\n",
    "print()\n",
    "print(b1)"
   ]
  },
  {
   "cell_type": "code",
   "execution_count": 6,
   "metadata": {},
   "outputs": [
    {
     "name": "stdout",
     "output_type": "stream",
     "text": [
      "[[ 0.29668222  0.70750366  1.82281576]\n",
      " [ 0.43076903  1.54272963 -0.90072117]\n",
      " [-0.13712501  1.29757901  0.67527117]\n",
      " [ 0.03195812  0.9181459   0.38050947]]\n",
      "\n",
      "[ 0.51636749 -0.35523946  0.208777  ]\n"
     ]
    }
   ],
   "source": [
    "print(W2)\n",
    "print()\n",
    "print(b2)"
   ]
  },
  {
   "cell_type": "code",
   "execution_count": 7,
   "metadata": {
    "collapsed": true
   },
   "outputs": [],
   "source": [
    "# Create three clusters\n",
    "X, t = make_blobs(n_features=2, centers=3)"
   ]
  },
  {
   "cell_type": "code",
   "execution_count": 8,
   "metadata": {},
   "outputs": [
    {
     "name": "stdout",
     "output_type": "stream",
     "text": [
      "(100, 2)\n",
      "(100,)\n"
     ]
    }
   ],
   "source": [
    "print(X.shape)\n",
    "print(t.shape)"
   ]
  },
  {
   "cell_type": "code",
   "execution_count": 9,
   "metadata": {
    "collapsed": true
   },
   "outputs": [],
   "source": [
    "X1 = pd.DataFrame(X, columns=['f1', 'f2'])\n",
    "t1 = pd.DataFrame(t, columns=['target'])\n",
    "df = pd.concat([X1, t1], axis=1)"
   ]
  },
  {
   "cell_type": "markdown",
   "metadata": {},
   "source": [
    "## Graph"
   ]
  },
  {
   "cell_type": "code",
   "execution_count": 10,
   "metadata": {},
   "outputs": [
    {
     "data": {
      "image/png": "[encoded data removed]",
      "text/plain": [
       "<matplotlib.figure.Figure at 0x10f4c66a0>"
      ]
     },
     "metadata": {},
     "output_type": "display_data"
    }
   ],
   "source": [
    "plt.figure(figsize=(8, 6), dpi=80)\n",
    "plt.scatter(df.loc[df['target']==0, 'f1'], df.loc[df['target']==0, 'f2'],\n",
    "           label = 't1')\n",
    "plt.scatter(df.loc[df['target']==1, 'f1'], df.loc[df['target']==1, 'f2'],\n",
    "            label = 't2')\n",
    "plt.scatter(df.loc[df['target']==2, 'f1'], df.loc[df['target']==2, 'f2'],\n",
    "            label = 't3')\n",
    "plt.legend()\n",
    "plt.show()"
   ]
  },
  {
   "cell_type": "markdown",
   "metadata": {},
   "source": [
    "## Log reg"
   ]
  },
  {
   "cell_type": "code",
   "execution_count": 11,
   "metadata": {
    "collapsed": true
   },
   "outputs": [],
   "source": [
    "def Z(X, W, b):\n",
    "    return np.dot(X, W) + b"
   ]
  },
  {
   "cell_type": "code",
   "execution_count": 12,
   "metadata": {
    "collapsed": true
   },
   "outputs": [],
   "source": [
    "def sig(Z):\n",
    "    return 1/(1+np.exp(-Z))"
   ]
  },
  {
   "cell_type": "code",
   "execution_count": 13,
   "metadata": {
    "collapsed": true
   },
   "outputs": [],
   "source": [
    "def soft(Z):\n",
    "    exp_Z = np.exp(Z)\n",
    "    return exp_Z/np.sum(exp_Z, axis=1, keepdims=True)"
   ]
  },
  {
   "cell_type": "code",
   "execution_count": 14,
   "metadata": {},
   "outputs": [
    {
     "data": {
      "text/plain": [
       "(100, 4)"
      ]
     },
     "execution_count": 14,
     "metadata": {},
     "output_type": "execute_result"
    }
   ],
   "source": [
    "Z1 = Z(X, W1, b1)\n",
    "Z1.shape"
   ]
  },
  {
   "cell_type": "code",
   "execution_count": 15,
   "metadata": {},
   "outputs": [
    {
     "data": {
      "text/plain": [
       "(100, 4)"
      ]
     },
     "execution_count": 15,
     "metadata": {},
     "output_type": "execute_result"
    }
   ],
   "source": [
    "y1 = sig(Z1)\n",
    "y1.shape"
   ]
  },
  {
   "cell_type": "code",
   "execution_count": 16,
   "metadata": {},
   "outputs": [
    {
     "data": {
      "text/plain": [
       "(100, 3)"
      ]
     },
     "execution_count": 16,
     "metadata": {},
     "output_type": "execute_result"
    }
   ],
   "source": [
    "Z2 = Z(y1, W2, b2)\n",
    "Z2.shape"
   ]
  },
  {
   "cell_type": "code",
   "execution_count": 17,
   "metadata": {},
   "outputs": [
    {
     "data": {
      "text/plain": [
       "(100, 3)"
      ]
     },
     "execution_count": 17,
     "metadata": {},
     "output_type": "execute_result"
    }
   ],
   "source": [
    "y2 = soft(Z2)\n",
    "y2.shape"
   ]
  },
  {
   "cell_type": "code",
   "execution_count": 18,
   "metadata": {
    "collapsed": true
   },
   "outputs": [],
   "source": [
    "def ohe(t):\n",
    "    result = np.zeros((N,K))\n",
    "    for i in range(len(t)):\n",
    "        result[i, t[i]] = 1\n",
    "    return result"
   ]
  },
  {
   "cell_type": "code",
   "execution_count": 19,
   "metadata": {
    "collapsed": true
   },
   "outputs": [],
   "source": [
    "def cost(t, y):\n",
    "    return -t*np.log(y)"
   ]
  },
  {
   "cell_type": "code",
   "execution_count": 20,
   "metadata": {},
   "outputs": [
    {
     "data": {
      "text/plain": [
       "(100, 3)"
      ]
     },
     "execution_count": 20,
     "metadata": {},
     "output_type": "execute_result"
    }
   ],
   "source": [
    "cost1 = cost(ohe(t), y2)\n",
    "cost1.shape"
   ]
  },
  {
   "cell_type": "code",
   "execution_count": 21,
   "metadata": {
    "collapsed": true
   },
   "outputs": [],
   "source": [
    "def error(cost):\n",
    "    return (cost.sum())/N"
   ]
  },
  {
   "cell_type": "code",
   "execution_count": 22,
   "metadata": {},
   "outputs": [
    {
     "data": {
      "text/plain": [
       "1.6850577128658057"
      ]
     },
     "execution_count": 22,
     "metadata": {},
     "output_type": "execute_result"
    }
   ],
   "source": [
    "err0 = error(cost1)\n",
    "err0"
   ]
  },
  {
   "cell_type": "code",
   "execution_count": 23,
   "metadata": {
    "collapsed": true
   },
   "outputs": [],
   "source": [
    "def accuracy(t, y):\n",
    "    return (t==np.round(y)).mean()"
   ]
  },
  {
   "cell_type": "code",
   "execution_count": 24,
   "metadata": {},
   "outputs": [
    {
     "data": {
      "text/plain": [
       "0.4666666666666667"
      ]
     },
     "execution_count": 24,
     "metadata": {},
     "output_type": "execute_result"
    }
   ],
   "source": [
    "acc0 = accuracy(ohe(t), y2)\n",
    "acc0"
   ]
  },
  {
   "cell_type": "code",
   "execution_count": 25,
   "metadata": {
    "collapsed": true
   },
   "outputs": [],
   "source": [
    "err_reg = []\n",
    "acc_reg = []"
   ]
  },
  {
   "cell_type": "code",
   "execution_count": 26,
   "metadata": {},
   "outputs": [
    {
     "name": "stdout",
     "output_type": "stream",
     "text": [
      "initial error: 1.6850577128658057\n"
     ]
    }
   ],
   "source": [
    "lr = 0.001\n",
    "cache_W1 = 0\n",
    "cache_b1 = 0\n",
    "cache_W2 = 0\n",
    "cache_b2 = 0\n",
    "decay = 0.99\n",
    "eps = 10e-8\n",
    "\n",
    "print('initial error: {}'.format(err0))"
   ]
  },
  {
   "cell_type": "code",
   "execution_count": 27,
   "metadata": {
    "scrolled": true
   },
   "outputs": [
    {
     "name": "stdout",
     "output_type": "stream",
     "text": [
      "error:1.6850577128658057\n",
      "error:1.6179641897313\n",
      "error:1.5905310464142515\n",
      "error:1.5704434520595194\n",
      "error:1.5541484528314518\n",
      "error:1.5402667569005448\n",
      "error:1.5280901950405064\n",
      "error:1.5171978122808059\n",
      "error:1.5073152477505192\n",
      "error:1.498251929786226\n",
      "error:1.4898691501932684\n",
      "error:1.4820622678679023\n",
      "error:1.4747500752126705\n",
      "error:1.4678680894927345\n",
      "error:1.4613641309722574\n",
      "error:1.4551953013079544\n",
      "error:1.449325855369969\n",
      "error:1.4437256631729698\n",
      "error:1.4383690732258794\n",
      "error:1.433234055956371\n",
      "error:1.4283015469097036\n",
      "error:1.4235549352468788\n",
      "error:1.4189796597798365\n",
      "error:1.4145628858669397\n",
      "error:1.4102932440051887\n",
      "error:1.406160616143837\n",
      "error:1.4021559593853028\n",
      "error:1.3982711593310526\n",
      "error:1.394498907198023\n",
      "error:1.3908325961928514\n",
      "error:1.3872662336347188\n",
      "error:1.3837943660653205\n",
      "error:1.380412015147923\n",
      "error:1.3771146225870188\n",
      "error:1.37389800263168\n",
      "error:1.3707583009848014\n",
      "error:1.3676919591454137\n",
      "error:1.3646956833752881\n",
      "error:1.36176641761376\n",
      "error:1.3589013197730375\n",
      "error:1.3560977409354529\n",
      "error:1.3533532070480054\n",
      "error:1.3506654027710825\n",
      "error:1.3480321571897869\n",
      "error:1.3454514311394956\n",
      "error:1.3429213059336975\n",
      "error:1.340439973312883\n",
      "error:1.3380057264591785\n",
      "error:1.3356169519434686\n",
      "error:1.33327212249033\n",
      "error:1.330969790461984\n",
      "error:1.3287085819759352\n",
      "error:1.3264871915824312\n",
      "error:1.3243043774376941\n",
      "error:1.3221589569172352\n",
      "error:1.320049802620742\n",
      "error:1.3179758387261773\n",
      "error:1.3159360376560187\n",
      "error:1.3139294170231222\n",
      "error:1.3119550368276298\n",
      "error:1.3100119968797244\n",
      "error:1.3080994344260026\n",
      "error:1.3062165219597797\n",
      "error:1.3043624651978707\n",
      "error:1.302536501208339\n",
      "error:1.3007378966753882\n",
      "error:1.2989659462890808\n",
      "error:1.2972199712488406\n",
      "error:1.2954993178708816\n",
      "error:1.293803356290677\n",
      "error:1.2921314792525118\n",
      "error:1.290483100978923\n",
      "error:1.2888576561135514\n",
      "error:1.287254598731538\n",
      "error:1.2856734014121654\n",
      "error:1.284113554368924\n",
      "error:1.2825745646326303\n",
      "error:1.2810559552836227\n",
      "error:1.2795572647294065\n",
      "error:1.2780780460244405\n",
      "error:1.2766178662290435\n",
      "error:1.275176305804657\n",
      "error:1.2737529580429223\n",
      "error:1.27234742852626\n",
      "error:1.270959334617804\n",
      "error:1.269588304978739\n",
      "error:1.2682339791112216\n",
      "error:1.266896006925226\n",
      "error:1.265574048327778\n",
      "error:1.2642677728331466\n",
      "error:1.2629768591926949\n",
      "error:1.2617009950431572\n",
      "error:1.2604398765722318\n",
      "error:1.259193208200429\n",
      "error:1.2579607022782155\n",
      "error:1.2567420787975478\n",
      "error:1.2555370651169548\n",
      "error:1.2543453956993948\n",
      "error:1.2531668118621502\n",
      "error:1.2520010615380883\n",
      "error:1.250847899047654\n",
      "error:1.2497070848810012\n",
      "error:1.2485783854897072\n",
      "error:1.2474615730875633\n",
      "error:1.2463564254599426\n",
      "error:1.2452627257813054\n",
      "error:1.2441802624404072\n",
      "error:1.2431088288728156\n",
      "error:1.242048223400359\n",
      "error:1.2409982490771576\n",
      "error:1.2399587135419046\n",
      "error:1.2389294288760857\n",
      "error:1.237910211467847\n",
      "error:1.2369008818812313\n",
      "error:1.2359012647305272\n",
      "error:1.2349111885594881\n",
      "error:1.233930485725179\n",
      "error:1.232958992286246\n",
      "error:1.231996547895398\n",
      "error:1.2310429956959\n",
      "error:1.2300981822219035\n",
      "error:1.2291619573024368\n",
      "error:1.2282341739688833\n",
      "error:1.2273146883658037\n",
      "error:1.2264033596649477\n",
      "error:1.2255000499823152\n",
      "error:1.2246046242981337\n",
      "error:1.2237169503796321\n",
      "error:1.2228368987064833\n",
      "error:1.2219643423988067\n",
      "error:1.2210991571476222\n",
      "error:1.2202412211476534\n",
      "error:1.2193904150323815\n",
      "error:1.2185466218112588\n",
      "error:1.2177097268089927\n",
      "error:1.2168796176068155\n",
      "error:1.216056183985664\n",
      "error:1.2152393178711896\n",
      "error:1.2144289132805226\n",
      "error:1.2136248662707343\n",
      "error:1.2128270748889143\n",
      "error:1.2120354391238144\n",
      "error:1.2112498608589908\n",
      "error:1.2104702438273909\n",
      "error:1.2096964935673287\n",
      "error:1.2089285173797963\n",
      "error:1.2081662242870632\n",
      "error:1.2074095249925145\n",
      "error:1.2066583318416828\n",
      "error:1.2059125587844275\n"
     ]
    }
   ],
   "source": [
    "for e in range(15000):\n",
    "\n",
    "    Z1 = Z(X, W1, b1)\n",
    "    y1 = sig(Z1)\n",
    "    Z2 = Z(y1, W2, b2)\n",
    "    y2 = soft(Z2)\n",
    "    cost1 = cost(ohe(t), y2)\n",
    "    error1 = error(cost1)\n",
    "    \n",
    "    dZ2 = (ohe(t) - y2)\n",
    "    dw2 = np.dot(y1.T, dZ2)\n",
    "    db2 = (dZ2.sum(axis=0))\n",
    "    cache_W2 += dw2*dw2\n",
    "    cache_b2 += db2*db2\n",
    "    \n",
    "    dZ1 = np.dot(dZ2, W2.T)*(y1*(1-y1))\n",
    "    dw1 = np.dot(X.T, dZ1)\n",
    "    db1 = (dZ1.sum(axis=0))\n",
    "    cache_W1 += dw1*dw1\n",
    "    cache_b1 += db1*db1\n",
    "    \n",
    "    W2 += (lr*dw2)/(np.sqrt(cache_W2 + eps))\n",
    "    b2 += (lr*db2)/(np.sqrt(cache_b2 + eps))\n",
    "    W1 += (lr*dw1)/(np.sqrt(cache_W1 + eps))\n",
    "    b1 += (lr*db1) /(np.sqrt(cache_b1 + eps))   \n",
    "    \n",
    "    if e % 100 == 0:\n",
    "        err_reg.append(error1)\n",
    "        acc_reg.append(accuracy(ohe(t), y2))\n",
    "        print('error:{}'.format(error1))"
   ]
  },
  {
   "cell_type": "code",
   "execution_count": 28,
   "metadata": {},
   "outputs": [
    {
     "data": {
      "text/plain": [
       "0.6666666666666666"
      ]
     },
     "execution_count": 28,
     "metadata": {},
     "output_type": "execute_result"
    }
   ],
   "source": [
    "accuracy(ohe(t), y2)"
   ]
  },
  {
   "cell_type": "markdown",
   "metadata": {},
   "source": [
    "## Graph"
   ]
  },
  {
   "cell_type": "markdown",
   "metadata": {},
   "source": [
    "### Constant learning rate"
   ]
  },
  {
   "cell_type": "code",
   "execution_count": 29,
   "metadata": {},
   "outputs": [
    {
     "data": {
      "image/png": "[encoded data removed]",
      "text/plain": [
       "<matplotlib.figure.Figure at 0x10f688a58>"
      ]
     },
     "metadata": {},
     "output_type": "display_data"
    }
   ],
   "source": [
    "plt.plot(err_reg)\n",
    "plt.show()"
   ]
  },
  {
   "cell_type": "code",
   "execution_count": 30,
   "metadata": {},
   "outputs": [
    {
     "data": {
      "image/png": "[encoded data removed]",
      "text/plain": [
       "<matplotlib.figure.Figure at 0x10f68def0>"
      ]
     },
     "metadata": {},
     "output_type": "display_data"
    }
   ],
   "source": [
    "plt.plot(acc_reg)\n",
    "plt.show()"
   ]
  },
  {
   "cell_type": "markdown",
   "metadata": {
    "collapsed": true
   },
   "source": [
    "## Decision boundary"
   ]
  },
  {
   "cell_type": "code",
   "execution_count": 31,
   "metadata": {
    "collapsed": true
   },
   "outputs": [],
   "source": [
    "def predict_all(X):\n",
    "    Z1 = Z(X, W1, b1)\n",
    "    y1 = sig(Z1)\n",
    "    Z2 = Z(y1, W2, b2)\n",
    "    y2 = soft(Z2)\n",
    "    return np.argmax(y2, axis=1)"
   ]
  },
  {
   "cell_type": "code",
   "execution_count": 32,
   "metadata": {
    "collapsed": true
   },
   "outputs": [],
   "source": [
    "# Helper function to plot a decision boundary.\n",
    "# If you don't fully understand this function don't worry, it just generates the contour plot below.\n",
    "def plot_decision_boundary(pred_func):\n",
    "    # Set min and max values and give it some padding\n",
    "    x_min, x_max = X[:, 0].min() - .5, X[:, 0].max() + .5\n",
    "    y_min, y_max = X[:, 1].min() - .5, X[:, 1].max() + .5\n",
    "    h = 0.01\n",
    "    # Generate a grid of points with distance h between them\n",
    "    xx, yy = np.meshgrid(np.arange(x_min, x_max, h), np.arange(y_min, y_max, h))\n",
    "    # Predict the function value for the whole gid\n",
    "    Z = pred_func(np.c_[xx.ravel(), yy.ravel()])\n",
    "    Z = Z.reshape(xx.shape)\n",
    "    # Plot the contour and training examples\n",
    "    plt.figure(figsize=(8, 6), dpi=80)\n",
    "    plt.contourf(xx, yy, Z, cmap=plt.cm.brg, alpha=0.18)\n",
    "    plt.scatter(X[:, 0], X[:, 1], c=t, cmap=plt.cm.brg)\n",
    "    plt.title('MLP with AdaGrad Decision Boundary')\n",
    "    plt.savefig('./data/MLP_Ada.png')\n",
    "    plt.show()"
   ]
  },
  {
   "cell_type": "code",
   "execution_count": 33,
   "metadata": {},
   "outputs": [
    {
     "data": {
      "image/png": "[encoded data removed]",
      "text/plain": [
       "<matplotlib.figure.Figure at 0x10f870cf8>"
      ]
     },
     "metadata": {},
     "output_type": "display_data"
    }
   ],
   "source": [
    "plot_decision_boundary(lambda x: predict_all(x))"
   ]
  },
  {
   "cell_type": "code",
   "execution_count": null,
   "metadata": {
    "collapsed": true
   },
   "outputs": [],
   "source": []
  }
 ],
 "metadata": {
  "kernelspec": {
   "display_name": "Python 3",
   "language": "python",
   "name": "python3"
  },
  "language_info": {
   "codemirror_mode": {
    "name": "ipython",
    "version": 3
   },
   "file_extension": ".py",
   "mimetype": "text/x-python",
   "name": "python",
   "nbconvert_exporter": "python",
   "pygments_lexer": "ipython3",
   "version": "3.6.1"
  }
 },
 "nbformat": 4,
 "nbformat_minor": 2
}
