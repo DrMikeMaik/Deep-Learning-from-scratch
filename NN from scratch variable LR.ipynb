{
 "cells": [
  {
   "cell_type": "code",
   "execution_count": 3,
   "metadata": {
    "collapsed": true
   },
   "outputs": [],
   "source": [
    "import numpy as np\n",
    "import pandas as pd\n",
    "import matplotlib.pyplot as plt\n",
    "from sklearn.datasets import make_classification\n",
    "from sklearn.datasets import make_blobs"
   ]
  },
  {
   "cell_type": "code",
   "execution_count": 2,
   "metadata": {
    "collapsed": true
   },
   "outputs": [],
   "source": [
    "# set the dimensions\n",
    "N = 100\n",
    "D = 2\n",
    "M = 4\n",
    "K = 3"
   ]
  },
  {
   "cell_type": "code",
   "execution_count": 3,
   "metadata": {
    "collapsed": true
   },
   "outputs": [],
   "source": [
    "# set the initial weights\n",
    "# np.random.seed(1234)\n",
    "W1 = np.random.randn(D,M)\n",
    "b1 = np.random.randn(M)\n",
    "W2 = np.random.randn(M,K)\n",
    "b2 = np.random.randn(K)"
   ]
  },
  {
   "cell_type": "code",
   "execution_count": 4,
   "metadata": {},
   "outputs": [
    {
     "name": "stdout",
     "output_type": "stream",
     "text": [
      "(2, 4)\n",
      "(4,)\n",
      "(4, 3)\n",
      "(3,)\n"
     ]
    }
   ],
   "source": [
    "print(W1.shape)\n",
    "print(b1.shape)\n",
    "print(W2.shape)\n",
    "print(b2.shape)"
   ]
  },
  {
   "cell_type": "code",
   "execution_count": 5,
   "metadata": {},
   "outputs": [
    {
     "name": "stdout",
     "output_type": "stream",
     "text": [
      "[[-0.89588961  1.95906589 -0.4664653  -0.534116  ]\n",
      " [ 1.14310461 -0.39358665  0.63691145  0.72709312]]\n",
      "\n",
      "[ 0.56806874 -1.02272974 -0.13293304 -1.66628452]\n"
     ]
    }
   ],
   "source": [
    "print(W1)\n",
    "print()\n",
    "print(b1)"
   ]
  },
  {
   "cell_type": "code",
   "execution_count": 6,
   "metadata": {},
   "outputs": [
    {
     "name": "stdout",
     "output_type": "stream",
     "text": [
      "[[ 1.03381908 -0.33400234 -0.57575056]\n",
      " [ 0.57007912 -0.67624945 -0.47794727]\n",
      " [-0.2524952  -1.42076038 -0.39301721]\n",
      " [-1.22978129  0.82766609 -0.04296181]]\n",
      "\n",
      "[ 0.56357923 -1.27981688 -1.19232066]\n"
     ]
    }
   ],
   "source": [
    "print(W2)\n",
    "print()\n",
    "print(b2)"
   ]
  },
  {
   "cell_type": "code",
   "execution_count": 7,
   "metadata": {
    "collapsed": true
   },
   "outputs": [],
   "source": [
    "# X, t = make_classification(n_samples=N, n_features=D, n_classes=K, n_redundant=0, \n",
    "#                            n_informative=D, n_clusters_per_class=1)\n",
    "X, t = make_blobs(n_features=2, centers=3)"
   ]
  },
  {
   "cell_type": "code",
   "execution_count": 8,
   "metadata": {},
   "outputs": [
    {
     "name": "stdout",
     "output_type": "stream",
     "text": [
      "(100, 2)\n",
      "(100,)\n"
     ]
    }
   ],
   "source": [
    "print(X.shape)\n",
    "print(t.shape)"
   ]
  },
  {
   "cell_type": "code",
   "execution_count": 9,
   "metadata": {
    "collapsed": true
   },
   "outputs": [],
   "source": [
    "X1 = pd.DataFrame(X, columns=['f1', 'f2'])\n",
    "t1 = pd.DataFrame(t, columns=['target'])\n",
    "df = pd.concat([X1, t1], axis=1)"
   ]
  },
  {
   "cell_type": "markdown",
   "metadata": {},
   "source": [
    "## Graph"
   ]
  },
  {
   "cell_type": "code",
   "execution_count": 10,
   "metadata": {},
   "outputs": [
    {
     "data": {
      "image/png": "[encoded data removed]",
      "text/plain": [
       "<matplotlib.figure.Figure at 0x11156ba58>"
      ]
     },
     "metadata": {},
     "output_type": "display_data"
    }
   ],
   "source": [
    "plt.scatter(df.loc[df['target']==0, 'f1'], df.loc[df['target']==0, 'f2'],\n",
    "           label = 't1')\n",
    "plt.scatter(df.loc[df['target']==1, 'f1'], df.loc[df['target']==1, 'f2'],\n",
    "            label = 't2')\n",
    "plt.scatter(df.loc[df['target']==2, 'f1'], df.loc[df['target']==2, 'f2'],\n",
    "            label = 't3')\n",
    "plt.legend()\n",
    "plt.show()"
   ]
  },
  {
   "cell_type": "markdown",
   "metadata": {},
   "source": [
    "## Log reg"
   ]
  },
  {
   "cell_type": "code",
   "execution_count": 11,
   "metadata": {
    "collapsed": true
   },
   "outputs": [],
   "source": [
    "def Z(X, W, b):\n",
    "    return np.dot(X, W) + b"
   ]
  },
  {
   "cell_type": "code",
   "execution_count": 12,
   "metadata": {
    "collapsed": true
   },
   "outputs": [],
   "source": [
    "def sig(Z):\n",
    "    return 1/(1+np.exp(-Z))"
   ]
  },
  {
   "cell_type": "code",
   "execution_count": 13,
   "metadata": {
    "collapsed": true
   },
   "outputs": [],
   "source": [
    "def soft(Z):\n",
    "    exp_Z = np.exp(Z)\n",
    "    return exp_Z/np.sum(exp_Z, axis=1, keepdims=True)"
   ]
  },
  {
   "cell_type": "code",
   "execution_count": 14,
   "metadata": {},
   "outputs": [
    {
     "data": {
      "text/plain": [
       "(100, 4)"
      ]
     },
     "execution_count": 14,
     "metadata": {},
     "output_type": "execute_result"
    }
   ],
   "source": [
    "Z1 = Z(X, W1, b1)\n",
    "Z1.shape"
   ]
  },
  {
   "cell_type": "code",
   "execution_count": 15,
   "metadata": {},
   "outputs": [
    {
     "data": {
      "text/plain": [
       "(100, 4)"
      ]
     },
     "execution_count": 15,
     "metadata": {},
     "output_type": "execute_result"
    }
   ],
   "source": [
    "y1 = sig(Z1)\n",
    "y1.shape"
   ]
  },
  {
   "cell_type": "code",
   "execution_count": 16,
   "metadata": {},
   "outputs": [
    {
     "data": {
      "text/plain": [
       "(100, 3)"
      ]
     },
     "execution_count": 16,
     "metadata": {},
     "output_type": "execute_result"
    }
   ],
   "source": [
    "Z2 = Z(y1, W2, b2)\n",
    "Z2.shape"
   ]
  },
  {
   "cell_type": "code",
   "execution_count": 17,
   "metadata": {},
   "outputs": [
    {
     "data": {
      "text/plain": [
       "(100, 3)"
      ]
     },
     "execution_count": 17,
     "metadata": {},
     "output_type": "execute_result"
    }
   ],
   "source": [
    "y2 = soft(Z2)\n",
    "y2.shape"
   ]
  },
  {
   "cell_type": "code",
   "execution_count": 18,
   "metadata": {
    "collapsed": true
   },
   "outputs": [],
   "source": [
    "def ohe(t):\n",
    "    result = np.zeros((N,K))\n",
    "    for i in range(len(t)):\n",
    "        result[i, t[i]] = 1\n",
    "    return result"
   ]
  },
  {
   "cell_type": "code",
   "execution_count": 19,
   "metadata": {
    "collapsed": true
   },
   "outputs": [],
   "source": [
    "def cost(t, y):\n",
    "    return -t*np.log(y)"
   ]
  },
  {
   "cell_type": "code",
   "execution_count": 20,
   "metadata": {},
   "outputs": [
    {
     "data": {
      "text/plain": [
       "(100, 3)"
      ]
     },
     "execution_count": 20,
     "metadata": {},
     "output_type": "execute_result"
    }
   ],
   "source": [
    "cost1 = cost(ohe(t), y2)\n",
    "cost1.shape"
   ]
  },
  {
   "cell_type": "code",
   "execution_count": 21,
   "metadata": {
    "collapsed": true
   },
   "outputs": [],
   "source": [
    "def error(cost):\n",
    "    return (cost.sum())/N"
   ]
  },
  {
   "cell_type": "code",
   "execution_count": 22,
   "metadata": {},
   "outputs": [
    {
     "data": {
      "text/plain": [
       "2.0047284929687383"
      ]
     },
     "execution_count": 22,
     "metadata": {},
     "output_type": "execute_result"
    }
   ],
   "source": [
    "err0 = error(cost1)\n",
    "err0"
   ]
  },
  {
   "cell_type": "code",
   "execution_count": 32,
   "metadata": {
    "collapsed": true
   },
   "outputs": [],
   "source": [
    "def accuracy(t, y):\n",
    "    return (t==np.round(y)).mean()"
   ]
  },
  {
   "cell_type": "code",
   "execution_count": 33,
   "metadata": {},
   "outputs": [
    {
     "data": {
      "text/plain": [
       "1.0"
      ]
     },
     "execution_count": 33,
     "metadata": {},
     "output_type": "execute_result"
    }
   ],
   "source": [
    "acc0 = accuracy(ohe(t), y2)\n",
    "acc0"
   ]
  },
  {
   "cell_type": "code",
   "execution_count": null,
   "metadata": {
    "collapsed": true
   },
   "outputs": [],
   "source": [
    "err_reg = [err0]\n",
    "acc_reg = [acc0]\n",
    "\n"
   ]
  },
  {
   "cell_type": "code",
   "execution_count": 25,
   "metadata": {
    "scrolled": true
   },
   "outputs": [
    {
     "name": "stdout",
     "output_type": "stream",
     "text": [
      "initial error: 2.0047284929687383\n",
      "error:2.0047284929687383\n",
      "error:1.6912474840243974\n",
      "error:1.4330047963627168\n",
      "error:1.294024632797371\n",
      "error:1.204442101947474\n",
      "error:1.1337593029299784\n",
      "error:1.0724243326143585\n",
      "error:1.0168690952244877\n",
      "error:0.9655217143670256\n",
      "error:0.9176021522156665\n",
      "error:0.8726889649620807\n",
      "error:0.8305407021141781\n",
      "error:0.7910134656897607\n",
      "error:0.7540181347928734\n",
      "error:0.719494862783247\n",
      "error:0.687395565871782\n",
      "error:0.6576708105496226\n",
      "error:0.6302601131785199\n",
      "error:0.6050856892223119\n",
      "error:0.5820497840229946\n",
      "error:0.5610353361963066\n",
      "error:0.5419092567363408\n",
      "error:0.5245273165174866\n",
      "error:0.5087396130794543\n",
      "error:0.49439578153504526\n",
      "error:0.4813494085859938\n",
      "error:0.46946139777549833\n",
      "error:0.4586022573765506\n",
      "error:0.44865342253722157\n",
      "error:0.43950779075190627\n",
      "error:0.4310696654497933\n",
      "error:0.42325428751778077\n",
      "error:0.4159871051538059\n",
      "error:0.40920289919373415\n",
      "error:0.4028448499086734\n",
      "error:0.3968636049202493\n",
      "error:0.39121638704609785\n",
      "error:0.38586616523718675\n",
      "error:0.3807809005187755\n",
      "error:0.37593287109910156\n",
      "error:0.37129807572243406\n",
      "error:0.3668557112024928\n",
      "error:0.3625877183096795\n",
      "error:0.35847838936673254\n",
      "error:0.35451403071131365\n",
      "error:0.3506826733799207\n",
      "error:0.3469738257937706\n",
      "error:0.3433782627736376\n",
      "error:0.339887845803985\n",
      "error:0.33649537006054364\n",
      "error:0.33319443428150747\n",
      "error:0.3299793300851318\n",
      "error:0.32684494780833084\n",
      "error:0.3237866963599598\n",
      "error:0.3208004349501418\n",
      "error:0.3178824148765437\n",
      "error:0.31502922982418313\n",
      "error:0.312237773371778\n",
      "error:0.30950520259950404\n",
      "error:0.30682890686471537\n",
      "error:0.30420648095778285\n",
      "error:0.3016357019734064\n",
      "error:0.2991145093367986\n",
      "error:0.2966409875118925\n",
      "error:0.29421335099264395\n",
      "error:0.2918299312407425\n",
      "error:0.2894891652853993\n",
      "error:0.28718958574493425\n",
      "error:0.2849298120669292\n",
      "error:0.2827085428148822\n",
      "error:0.2805245488555154\n",
      "error:0.27837666732296384\n",
      "error:0.27626379625466085\n",
      "error:0.2741848898094\n",
      "error:0.27213895399126264\n",
      "error:0.27012504281425626\n",
      "error:0.26814225485192594\n",
      "error:0.266189730124175\n",
      "error:0.26426664728027693\n",
      "error:0.26237222104278374\n",
      "error:0.2605056998818944\n",
      "error:0.2586663638939786\n",
      "error:0.25685352286146435\n",
      "error:0.2550665144743042\n",
      "error:0.25330470269579386\n",
      "error:0.2515674762577113\n",
      "error:0.24985424727162445\n",
      "error:0.24816444994483725\n",
      "error:0.24649753939082436\n",
      "error:0.24485299052521495\n",
      "error:0.243230297039417\n",
      "error:0.24162897044487394\n",
      "error:0.240048539181725\n",
      "error:0.23848854778632067\n",
      "error:0.2369485561126347\n",
      "error:0.23542813860313452\n",
      "error:0.23392688360512154\n",
      "error:0.23244439272895867\n",
      "error:0.23098028024494247\n",
      "error:0.2295341725158993\n",
      "error:0.22810570746285067\n",
      "error:0.22669453406133924\n",
      "error:0.22530031186622423\n",
      "error:0.2239227105629466\n",
      "error:0.22256140954343587\n",
      "error:0.2212160975049875\n",
      "error:0.21988647207057688\n",
      "error:0.2185722394292\n",
      "error:0.21727311399494387\n",
      "error:0.2159888180835926\n",
      "error:0.21471908160566483\n",
      "error:0.213463641774864\n",
      "error:0.2122222428309966\n",
      "error:0.21099463577648409\n",
      "error:0.2097805781256573\n",
      "error:0.20857983366607813\n",
      "error:0.20739217223118986\n",
      "error:0.20621736948363903\n",
      "error:0.20505520670866523\n",
      "error:0.2039054706169885\n",
      "error:0.20276795315666377\n",
      "error:0.20164245133340958\n",
      "error:0.20052876703894676\n",
      "error:0.19942670688691283\n",
      "error:0.19833608205594777\n",
      "error:0.19725670813956847\n",
      "error:0.19618840500247675\n",
      "error:0.1951309966429649\n",
      "error:0.19408431106110335\n",
      "error:0.1930481801324158\n",
      "error:0.19202243948676265\n",
      "error:0.1910069283921711\n",
      "error:0.19000148964336575\n",
      "error:0.18900596945476691\n",
      "error:0.18802021735773827\n",
      "error:0.1870440861018764\n",
      "error:0.18607743156014947\n",
      "error:0.18512011263769984\n",
      "error:0.18417199118413558\n",
      "error:0.18323293190915113\n",
      "error:0.18230280230131723\n",
      "error:0.1813814725498969\n",
      "error:0.1804688154695478\n",
      "error:0.17956470642777855\n",
      "error:0.1786690232750368\n",
      "error:0.17778164627730958\n",
      "error:0.17690245805112567\n",
      "error:0.1760313435008533\n",
      "error:0.17516818975819262\n",
      "error:0.17431288612376986\n"
     ]
    }
   ],
   "source": [
    "# lr = 0.00001\n",
    "print('initial error: {}'.format(error1))\n",
    "\n",
    "for e in range(15000):\n",
    "\n",
    "    Z1 = Z(X, W1, b1)\n",
    "    y1 = sig(Z1)\n",
    "    Z2 = Z(y1, W2, b2)\n",
    "    y2 = soft(Z2)\n",
    "    cost1 = cost(ohe(t), y2)\n",
    "    error1 = error(cost1)\n",
    "    \n",
    "    dZ2 = (ohe(t) - y2)\n",
    "    dw2 = np.dot(y1.T, dZ2)\n",
    "    db2 = (dZ2.sum(axis=0))\n",
    "    \n",
    "    dZ1 = np.dot(dZ2, W2.T)*(y1*(1-y1))\n",
    "    dw1 = np.dot(X.T, dZ1)\n",
    "    db1 = (dZ1.sum(axis=0))\n",
    "    \n",
    "    W2 += lr*dw2\n",
    "    b2 += lr*db2\n",
    "    W1 += lr*dw1\n",
    "    b1 += lr*db1    \n",
    "    \n",
    "    if e % 100 == 0:\n",
    "        err_reg.append(error1)\n",
    "        acc_reg.append(accuracy(ohe(t), y2))\n",
    "        print('error:{}'.format(error1))"
   ]
  },
  {
   "cell_type": "code",
   "execution_count": 34,
   "metadata": {},
   "outputs": [
    {
     "data": {
      "text/plain": [
       "1.0"
      ]
     },
     "execution_count": 34,
     "metadata": {},
     "output_type": "execute_result"
    }
   ],
   "source": [
    "accuracy(ohe(t), y2)"
   ]
  },
  {
   "cell_type": "markdown",
   "metadata": {},
   "source": [
    "## Graph"
   ]
  },
  {
   "cell_type": "markdown",
   "metadata": {},
   "source": [
    "### Constant learning rate"
   ]
  },
  {
   "cell_type": "code",
   "execution_count": null,
   "metadata": {
    "collapsed": true
   },
   "outputs": [],
   "source": [
    "plt.plot(err_reg)\n",
    "plt.show()"
   ]
  },
  {
   "cell_type": "code",
   "execution_count": null,
   "metadata": {
    "collapsed": true
   },
   "outputs": [],
   "source": [
    "plt.plot(err_reg)\n",
    "plt.show()"
   ]
  },
  {
   "cell_type": "markdown",
   "metadata": {},
   "source": [
    "###  learning rate"
   ]
  },
  {
   "cell_type": "code",
   "execution_count": null,
   "metadata": {
    "collapsed": true
   },
   "outputs": [],
   "source": [
    "plt.plot(err_reg)\n",
    "plt.show()"
   ]
  },
  {
   "cell_type": "code",
   "execution_count": null,
   "metadata": {
    "collapsed": true
   },
   "outputs": [],
   "source": [
    "plt.plot(err_reg)\n",
    "plt.show()"
   ]
  },
  {
   "cell_type": "markdown",
   "metadata": {},
   "source": [
    "###  learning rate"
   ]
  },
  {
   "cell_type": "code",
   "execution_count": null,
   "metadata": {
    "collapsed": true
   },
   "outputs": [],
   "source": [
    "plt.plot(err_reg)\n",
    "plt.show()"
   ]
  },
  {
   "cell_type": "code",
   "execution_count": null,
   "metadata": {
    "collapsed": true
   },
   "outputs": [],
   "source": [
    "plt.plot(err_reg)\n",
    "plt.show()"
   ]
  },
  {
   "cell_type": "markdown",
   "metadata": {},
   "source": [
    "# test"
   ]
  },
  {
   "cell_type": "code",
   "execution_count": 14,
   "metadata": {
    "collapsed": true
   },
   "outputs": [],
   "source": [
    "lr1 = [0.1]"
   ]
  },
  {
   "cell_type": "code",
   "execution_count": 15,
   "metadata": {},
   "outputs": [],
   "source": [
    "for i in range(100):\n",
    "    k = 0.1\n",
    "    lr1.append(lr1[0]*np.exp(- k * i))"
   ]
  },
  {
   "cell_type": "code",
   "execution_count": 16,
   "metadata": {},
   "outputs": [
    {
     "data": {
      "image/png": "[encoded data removed]",
      "text/plain": [
       "<matplotlib.figure.Figure at 0x11562e748>"
      ]
     },
     "metadata": {},
     "output_type": "display_data"
    }
   ],
   "source": [
    "plt.plot(lr)\n",
    "plt.show()"
   ]
  },
  {
   "cell_type": "code",
   "execution_count": 17,
   "metadata": {
    "collapsed": true
   },
   "outputs": [],
   "source": [
    "lr2 = [0.1]"
   ]
  },
  {
   "cell_type": "code",
   "execution_count": 18,
   "metadata": {
    "collapsed": true
   },
   "outputs": [],
   "source": [
    "for i in range(100):\n",
    "    k = 0.1\n",
    "    lr2.append(lr2[0]/((k * i) + 1))"
   ]
  },
  {
   "cell_type": "code",
   "execution_count": 19,
   "metadata": {},
   "outputs": [
    {
     "data": {
      "image/png": "[encoded data removed]",
      "text/plain": [
       "<matplotlib.figure.Figure at 0x115a45780>"
      ]
     },
     "metadata": {},
     "output_type": "display_data"
    }
   ],
   "source": [
    "plt.plot(lr2)\n",
    "plt.show()"
   ]
  },
  {
   "cell_type": "code",
   "execution_count": 20,
   "metadata": {},
   "outputs": [
    {
     "data": {
      "image/png": "[encoded data removed]",
      "text/plain": [
       "<matplotlib.figure.Figure at 0x11574c278>"
      ]
     },
     "metadata": {},
     "output_type": "display_data"
    }
   ],
   "source": [
    "plt.plot(lr1)\n",
    "plt.plot(lr2)\n",
    "plt.show()"
   ]
  },
  {
   "cell_type": "code",
   "execution_count": null,
   "metadata": {
    "collapsed": true
   },
   "outputs": [],
   "source": []
  },
  {
   "cell_type": "code",
   "execution_count": null,
   "metadata": {
    "collapsed": true
   },
   "outputs": [],
   "source": []
  }
 ],
 "metadata": {
  "kernelspec": {
   "display_name": "Python 3",
   "language": "python",
   "name": "python3"
  },
  "language_info": {
   "codemirror_mode": {
    "name": "ipython",
    "version": 3
   },
   "file_extension": ".py",
   "mimetype": "text/x-python",
   "name": "python",
   "nbconvert_exporter": "python",
   "pygments_lexer": "ipython3",
   "version": "3.6.1"
  }
 },
 "nbformat": 4,
 "nbformat_minor": 2
}
