{
 "cells": [
  {
   "cell_type": "code",
   "execution_count": 1,
   "metadata": {
    "collapsed": true
   },
   "outputs": [],
   "source": [
    "import numpy as np\n",
    "import pandas as pd\n",
    "import matplotlib.pyplot as plt\n",
    "from sklearn.datasets import make_classification\n",
    "from sklearn.datasets import make_blobs"
   ]
  },
  {
   "cell_type": "code",
   "execution_count": 2,
   "metadata": {
    "collapsed": true
   },
   "outputs": [],
   "source": [
    "# set the dimensions\n",
    "N = 100\n",
    "D = 2\n",
    "M = 4\n",
    "K = 3"
   ]
  },
  {
   "cell_type": "code",
   "execution_count": 3,
   "metadata": {
    "collapsed": true
   },
   "outputs": [],
   "source": [
    "# set the initial weights\n",
    "np.random.seed(9)\n",
    "W1 = np.random.randn(D,M)\n",
    "b1 = np.random.randn(M)\n",
    "W2 = np.random.randn(M,K)\n",
    "b2 = np.random.randn(K)"
   ]
  },
  {
   "cell_type": "code",
   "execution_count": 4,
   "metadata": {},
   "outputs": [
    {
     "name": "stdout",
     "output_type": "stream",
     "text": [
      "(2, 4)\n",
      "(4,)\n",
      "(4, 3)\n",
      "(3,)\n"
     ]
    }
   ],
   "source": [
    "print(W1.shape)\n",
    "print(b1.shape)\n",
    "print(W2.shape)\n",
    "print(b2.shape)"
   ]
  },
  {
   "cell_type": "code",
   "execution_count": 5,
   "metadata": {},
   "outputs": [
    {
     "name": "stdout",
     "output_type": "stream",
     "text": [
      "[[ 1.10855471e-03 -2.89544069e-01 -1.11606630e+00 -1.28827567e-02]\n",
      " [-3.78361464e-01 -4.81135363e-01 -1.51733118e+00 -4.90871981e-01]]\n",
      "\n",
      "[-0.24068058 -0.64794746  0.63589108  1.74011731]\n"
     ]
    }
   ],
   "source": [
    "print(W1)\n",
    "print()\n",
    "print(b1)"
   ]
  },
  {
   "cell_type": "code",
   "execution_count": 6,
   "metadata": {},
   "outputs": [
    {
     "name": "stdout",
     "output_type": "stream",
     "text": [
      "[[ 0.29668222  0.70750366  1.82281576]\n",
      " [ 0.43076903  1.54272963 -0.90072117]\n",
      " [-0.13712501  1.29757901  0.67527117]\n",
      " [ 0.03195812  0.9181459   0.38050947]]\n",
      "\n",
      "[ 0.51636749 -0.35523946  0.208777  ]\n"
     ]
    }
   ],
   "source": [
    "print(W2)\n",
    "print()\n",
    "print(b2)"
   ]
  },
  {
   "cell_type": "code",
   "execution_count": 7,
   "metadata": {
    "collapsed": true
   },
   "outputs": [],
   "source": [
    "# Create three clusters\n",
    "X, t = make_blobs(n_features=2, centers=3)"
   ]
  },
  {
   "cell_type": "code",
   "execution_count": 8,
   "metadata": {},
   "outputs": [
    {
     "name": "stdout",
     "output_type": "stream",
     "text": [
      "(100, 2)\n",
      "(100,)\n"
     ]
    }
   ],
   "source": [
    "print(X.shape)\n",
    "print(t.shape)"
   ]
  },
  {
   "cell_type": "code",
   "execution_count": 9,
   "metadata": {
    "collapsed": true
   },
   "outputs": [],
   "source": [
    "X1 = pd.DataFrame(X, columns=['f1', 'f2'])\n",
    "t1 = pd.DataFrame(t, columns=['target'])\n",
    "df = pd.concat([X1, t1], axis=1)"
   ]
  },
  {
   "cell_type": "markdown",
   "metadata": {},
   "source": [
    "## Graph"
   ]
  },
  {
   "cell_type": "code",
   "execution_count": 10,
   "metadata": {},
   "outputs": [
    {
     "data": {
      "image/png": "[encoded data removed]",
      "text/plain": [
       "<matplotlib.figure.Figure at 0x11ab5f6d8>"
      ]
     },
     "metadata": {},
     "output_type": "display_data"
    }
   ],
   "source": [
    "plt.figure(figsize=(8, 6), dpi=80)\n",
    "plt.scatter(df.loc[df['target']==0, 'f1'], df.loc[df['target']==0, 'f2'],\n",
    "           label = 't1')\n",
    "plt.scatter(df.loc[df['target']==1, 'f1'], df.loc[df['target']==1, 'f2'],\n",
    "            label = 't2')\n",
    "plt.scatter(df.loc[df['target']==2, 'f1'], df.loc[df['target']==2, 'f2'],\n",
    "            label = 't3')\n",
    "plt.legend()\n",
    "plt.show()"
   ]
  },
  {
   "cell_type": "markdown",
   "metadata": {},
   "source": [
    "## Log reg"
   ]
  },
  {
   "cell_type": "code",
   "execution_count": 11,
   "metadata": {
    "collapsed": true
   },
   "outputs": [],
   "source": [
    "def Z(X, W, b):\n",
    "    return np.dot(X, W) + b"
   ]
  },
  {
   "cell_type": "code",
   "execution_count": 12,
   "metadata": {
    "collapsed": true
   },
   "outputs": [],
   "source": [
    "def sig(Z):\n",
    "    return 1/(1+np.exp(-Z))"
   ]
  },
  {
   "cell_type": "code",
   "execution_count": 13,
   "metadata": {
    "collapsed": true
   },
   "outputs": [],
   "source": [
    "def soft(Z):\n",
    "    exp_Z = np.exp(Z)\n",
    "    return exp_Z/np.sum(exp_Z, axis=1, keepdims=True)"
   ]
  },
  {
   "cell_type": "code",
   "execution_count": 14,
   "metadata": {},
   "outputs": [
    {
     "data": {
      "text/plain": [
       "(100, 4)"
      ]
     },
     "execution_count": 14,
     "metadata": {},
     "output_type": "execute_result"
    }
   ],
   "source": [
    "Z1 = Z(X, W1, b1)\n",
    "Z1.shape"
   ]
  },
  {
   "cell_type": "code",
   "execution_count": 15,
   "metadata": {},
   "outputs": [
    {
     "data": {
      "text/plain": [
       "(100, 4)"
      ]
     },
     "execution_count": 15,
     "metadata": {},
     "output_type": "execute_result"
    }
   ],
   "source": [
    "y1 = sig(Z1)\n",
    "y1.shape"
   ]
  },
  {
   "cell_type": "code",
   "execution_count": 16,
   "metadata": {},
   "outputs": [
    {
     "data": {
      "text/plain": [
       "(100, 3)"
      ]
     },
     "execution_count": 16,
     "metadata": {},
     "output_type": "execute_result"
    }
   ],
   "source": [
    "Z2 = Z(y1, W2, b2)\n",
    "Z2.shape"
   ]
  },
  {
   "cell_type": "code",
   "execution_count": 17,
   "metadata": {},
   "outputs": [
    {
     "data": {
      "text/plain": [
       "(100, 3)"
      ]
     },
     "execution_count": 17,
     "metadata": {},
     "output_type": "execute_result"
    }
   ],
   "source": [
    "y2 = soft(Z2)\n",
    "y2.shape"
   ]
  },
  {
   "cell_type": "code",
   "execution_count": 18,
   "metadata": {
    "collapsed": true
   },
   "outputs": [],
   "source": [
    "def ohe(t):\n",
    "    result = np.zeros((N,K))\n",
    "    for i in range(len(t)):\n",
    "        result[i, t[i]] = 1\n",
    "    return result"
   ]
  },
  {
   "cell_type": "code",
   "execution_count": 19,
   "metadata": {
    "collapsed": true
   },
   "outputs": [],
   "source": [
    "def cost(t, y):\n",
    "    return -t*np.log(y)"
   ]
  },
  {
   "cell_type": "code",
   "execution_count": 20,
   "metadata": {},
   "outputs": [
    {
     "data": {
      "text/plain": [
       "(100, 3)"
      ]
     },
     "execution_count": 20,
     "metadata": {},
     "output_type": "execute_result"
    }
   ],
   "source": [
    "cost1 = cost(ohe(t), y2)\n",
    "cost1.shape"
   ]
  },
  {
   "cell_type": "code",
   "execution_count": 21,
   "metadata": {
    "collapsed": true
   },
   "outputs": [],
   "source": [
    "def error(cost):\n",
    "    return (cost.sum())/N"
   ]
  },
  {
   "cell_type": "code",
   "execution_count": 22,
   "metadata": {},
   "outputs": [
    {
     "data": {
      "text/plain": [
       "1.6850577128658057"
      ]
     },
     "execution_count": 22,
     "metadata": {},
     "output_type": "execute_result"
    }
   ],
   "source": [
    "err0 = error(cost1)\n",
    "err0"
   ]
  },
  {
   "cell_type": "code",
   "execution_count": 23,
   "metadata": {
    "collapsed": true
   },
   "outputs": [],
   "source": [
    "def accuracy(t, y):\n",
    "    return (t==np.round(y)).mean()"
   ]
  },
  {
   "cell_type": "code",
   "execution_count": 24,
   "metadata": {},
   "outputs": [
    {
     "data": {
      "text/plain": [
       "0.4666666666666667"
      ]
     },
     "execution_count": 24,
     "metadata": {},
     "output_type": "execute_result"
    }
   ],
   "source": [
    "acc0 = accuracy(ohe(t), y2)\n",
    "acc0"
   ]
  },
  {
   "cell_type": "code",
   "execution_count": 25,
   "metadata": {
    "collapsed": true
   },
   "outputs": [],
   "source": [
    "err_reg = []\n",
    "acc_reg = []"
   ]
  },
  {
   "cell_type": "code",
   "execution_count": 26,
   "metadata": {},
   "outputs": [
    {
     "name": "stdout",
     "output_type": "stream",
     "text": [
      "initial error: 1.6850577128658057\n"
     ]
    }
   ],
   "source": [
    "lr = 0.001\n",
    "cache_W1 = 0\n",
    "cache_b1 = 0\n",
    "cache_W2 = 0\n",
    "cache_b2 = 0\n",
    "decay = 0.99\n",
    "eps = 10e-8\n",
    "\n",
    "print('initial error: {}'.format(err0))"
   ]
  },
  {
   "cell_type": "code",
   "execution_count": 27,
   "metadata": {
    "scrolled": true
   },
   "outputs": [
    {
     "name": "stdout",
     "output_type": "stream",
     "text": [
      "error:1.6850577128658057\n",
      "error:1.2468781562693807\n",
      "error:1.144743454870543\n",
      "error:1.0605799474253024\n",
      "error:0.9651318418612592\n",
      "error:0.8652413931025711\n",
      "error:0.7756855198959349\n",
      "error:0.702179928277025\n",
      "error:0.6418250170872706\n",
      "error:0.5911152170950906\n",
      "error:0.5475429638949655\n",
      "error:0.508836423815633\n",
      "error:0.47399841611942944\n",
      "error:0.44289609176642514\n",
      "error:0.41529691819305\n",
      "error:0.3909371976249078\n",
      "error:0.36949908889250255\n",
      "error:0.35078060571789393\n",
      "error:0.334579729942524\n",
      "error:0.32052732206110224\n",
      "error:0.3081095284497964\n",
      "error:0.29695399474449913\n",
      "error:0.28700967791656634\n",
      "error:0.2782825661482725\n",
      "error:0.2706803045602086\n",
      "error:0.2640523638560908\n",
      "error:0.2582374433224672\n",
      "error:0.25314417761426156\n",
      "error:0.24870505188390232\n",
      "error:0.24484572974211474\n",
      "error:0.2414864805983475\n",
      "error:0.23855871330680484\n",
      "error:0.23601313701803706\n",
      "error:0.23380512751344193\n",
      "error:0.23187956184808164\n",
      "error:0.23016818339347217\n",
      "error:0.2286054041967754\n",
      "error:0.22715654731881393\n",
      "error:0.2258013923872344\n",
      "error:0.22451437860505957\n",
      "error:0.22327902600556526\n",
      "error:0.22209553647868213\n",
      "error:0.22096595247688\n",
      "error:0.2198891281800566\n",
      "error:0.21886236853810878\n",
      "error:0.21788347266331493\n",
      "error:0.21695113593818838\n",
      "error:0.2160644312464968\n",
      "error:0.21522219827081088\n",
      "error:0.2144226537755929\n",
      "error:0.21366334013457108\n",
      "error:0.21294130375294634\n",
      "error:0.21225334983333263\n",
      "error:0.2115962758160511\n",
      "error:0.21096704728716428\n",
      "error:0.21036291125753975\n",
      "error:0.2097814525783318\n",
      "error:0.20922060353837085\n",
      "error:0.20867861937687787\n",
      "error:0.2081540336209625\n",
      "error:0.20764560607100385\n",
      "error:0.20715227310978862\n",
      "error:0.20667310597692568\n",
      "error:0.2062072790932858\n",
      "error:0.20575404866955402\n",
      "error:0.20531304059931663\n",
      "error:0.20488383331278903\n",
      "error:0.20446539115573573\n",
      "error:0.2040570326288037\n",
      "error:0.2036582448742323\n",
      "error:0.2032685863382902\n",
      "error:0.20288766204860464\n",
      "error:0.20251511433394967\n",
      "error:0.2021506165838232\n",
      "error:0.20179386931584958\n",
      "error:0.20144459814893007\n",
      "error:0.20110255223086532\n",
      "error:0.20076750215674294\n",
      "error:0.2004392374127357\n",
      "error:0.2001175638014972\n",
      "error:0.19980230113317415\n",
      "error:0.19949328119723375\n",
      "error:0.199190345948046\n",
      "error:0.19889334588495275\n",
      "error:0.19860213864769308\n",
      "error:0.19831658783755216\n",
      "error:0.19803656204715392\n",
      "error:0.19776193406929748\n",
      "error:0.19749258025829752\n",
      "error:0.19722838002319507\n",
      "error:0.19696921543442453\n",
      "error:0.19671497092568951\n",
      "error:0.19646553307379017\n",
      "error:0.19622079044136798\n",
      "error:0.19598063346990127\n",
      "error:0.19574495441212514\n",
      "error:0.19551364729448195\n",
      "error:0.19528660790152624\n",
      "error:0.19506373377552527\n",
      "error:0.19484492422574548\n",
      "error:0.19463008034305257\n",
      "error:0.1944191050164824\n",
      "error:0.19421190294938806\n",
      "error:0.19400838067360798\n",
      "error:0.1938084465608395\n",
      "error:0.1936120108309866\n",
      "error:0.1934189855577029\n",
      "error:0.19322928467164804\n",
      "error:0.19304282396213934\n",
      "error:0.19285952107791432\n",
      "error:0.19267929552763907\n",
      "error:0.19250206868063324\n",
      "error:0.1923277637680616\n",
      "error:0.19215630588458052\n",
      "error:0.19198762199018204\n",
      "error:0.19182164091175252\n",
      "error:0.19165829334369747\n",
      "error:0.1914975118468961\n",
      "error:0.19133923084524157\n",
      "error:0.19118338661910514\n",
      "error:0.19102991729521981\n",
      "error:0.19087876283268343\n",
      "error:0.1907298650050201\n",
      "error:0.1905831673784734\n",
      "error:0.19043861528690167\n",
      "error:0.19029615580379727\n",
      "error:0.19015573771202213\n",
      "error:0.19001731147186426\n",
      "error:0.189880829187945\n",
      "error:0.18974624457539732\n",
      "error:0.18961351292557732\n",
      "error:0.1894825910714121\n",
      "error:0.1893534373523331\n",
      "error:0.18922601157862068\n",
      "error:0.1891002749949054\n",
      "error:0.18897619024253692\n",
      "error:0.1888537213205425\n",
      "error:0.1887328335449559\n",
      "error:0.18861349350638104\n",
      "error:0.18849566902576076\n",
      "error:0.18837932910843577\n",
      "error:0.1882644438966875\n",
      "error:0.1881509846210519\n",
      "error:0.18803892355076685\n",
      "error:0.18792823394376712\n",
      "error:0.1878188899966656\n",
      "error:0.18771086679516139\n",
      "error:0.18760414026529645\n",
      "error:0.1874986871259486\n",
      "error:0.18739448484290083\n"
     ]
    }
   ],
   "source": [
    "for e in range(15000):\n",
    "\n",
    "    Z1 = Z(X, W1, b1)\n",
    "    y1 = sig(Z1)\n",
    "    Z2 = Z(y1, W2, b2)\n",
    "    y2 = soft(Z2)\n",
    "    cost1 = cost(ohe(t), y2)\n",
    "    error1 = error(cost1)\n",
    "    \n",
    "    dZ2 = (ohe(t) - y2)\n",
    "    dw2 = np.dot(y1.T, dZ2)\n",
    "    db2 = (dZ2.sum(axis=0))\n",
    "    cache_W2 = decay*cache_W2 + (1-decay)*dw2*dw2\n",
    "    cache_b2 = decay*cache_b2 + (1-decay)*db2*db2\n",
    "    \n",
    "    dZ1 = np.dot(dZ2, W2.T)*(y1*(1-y1))\n",
    "    dw1 = np.dot(X.T, dZ1)\n",
    "    db1 = (dZ1.sum(axis=0))\n",
    "    cache_W1 = decay*cache_W1 + (1-decay)*dw1*dw1\n",
    "    cache_b1 = decay*cache_b1 + (1-decay)*db1*db1\n",
    "    \n",
    "    W2 += (lr*dw2)/(np.sqrt(cache_W2 + eps))\n",
    "    b2 += (lr*db2)/(np.sqrt(cache_b2 + eps))\n",
    "    W1 += (lr*dw1)/(np.sqrt(cache_W1 + eps))\n",
    "    b1 += (lr*db1) /(np.sqrt(cache_b1 + eps))   \n",
    "    \n",
    "    if e % 100 == 0:\n",
    "        err_reg.append(error1)\n",
    "        acc_reg.append(accuracy(ohe(t), y2))\n",
    "        print('error:{}'.format(error1))"
   ]
  },
  {
   "cell_type": "code",
   "execution_count": 28,
   "metadata": {},
   "outputs": [
    {
     "data": {
      "text/plain": [
       "0.9466666666666667"
      ]
     },
     "execution_count": 28,
     "metadata": {},
     "output_type": "execute_result"
    }
   ],
   "source": [
    "accuracy(ohe(t), y2)"
   ]
  },
  {
   "cell_type": "markdown",
   "metadata": {},
   "source": [
    "## Graph"
   ]
  },
  {
   "cell_type": "markdown",
   "metadata": {},
   "source": [
    "### Constant learning rate"
   ]
  },
  {
   "cell_type": "code",
   "execution_count": 29,
   "metadata": {},
   "outputs": [
    {
     "data": {
      "image/png": "[encoded data removed]",
      "text/plain": [
       "<matplotlib.figure.Figure at 0x11ad370f0>"
      ]
     },
     "metadata": {},
     "output_type": "display_data"
    }
   ],
   "source": [
    "plt.plot(err_reg)\n",
    "plt.show()"
   ]
  },
  {
   "cell_type": "code",
   "execution_count": 30,
   "metadata": {},
   "outputs": [
    {
     "data": {
      "image/png": "[encoded data removed]",
      "text/plain": [
       "<matplotlib.figure.Figure at 0x11ad215f8>"
      ]
     },
     "metadata": {},
     "output_type": "display_data"
    }
   ],
   "source": [
    "plt.plot(acc_reg)\n",
    "plt.show()"
   ]
  },
  {
   "cell_type": "markdown",
   "metadata": {
    "collapsed": true
   },
   "source": [
    "## Decision Boundary"
   ]
  },
  {
   "cell_type": "code",
   "execution_count": 31,
   "metadata": {
    "collapsed": true
   },
   "outputs": [],
   "source": [
    "def predict_all(X):\n",
    "    Z1 = Z(X, W1, b1)\n",
    "    y1 = sig(Z1)\n",
    "    Z2 = Z(y1, W2, b2)\n",
    "    y2 = soft(Z2)\n",
    "    return np.argmax(y2, axis=1)"
   ]
  },
  {
   "cell_type": "code",
   "execution_count": 32,
   "metadata": {
    "collapsed": true
   },
   "outputs": [],
   "source": [
    "# Helper function to plot a decision boundary.\n",
    "# If you don't fully understand this function don't worry, it just generates the contour plot below.\n",
    "def plot_decision_boundary(pred_func):\n",
    "    # Set min and max values and give it some padding\n",
    "    x_min, x_max = X[:, 0].min() - .5, X[:, 0].max() + .5\n",
    "    y_min, y_max = X[:, 1].min() - .5, X[:, 1].max() + .5\n",
    "    h = 0.01\n",
    "    # Generate a grid of points with distance h between them\n",
    "    xx, yy = np.meshgrid(np.arange(x_min, x_max, h), np.arange(y_min, y_max, h))\n",
    "    # Predict the function value for the whole gid\n",
    "    Z = pred_func(np.c_[xx.ravel(), yy.ravel()])\n",
    "    Z = Z.reshape(xx.shape)\n",
    "    # Plot the contour and training examples\n",
    "    plt.figure(figsize=(8, 6), dpi=80)\n",
    "    plt.contourf(xx, yy, Z, cmap=plt.cm.brg, alpha=0.18)\n",
    "    plt.scatter(X[:, 0], X[:, 1], c=t, cmap=plt.cm.brg)\n",
    "    plt.title('MLP with RMSprop Decision Boundary')\n",
    "    plt.savefig('./data/MLP_RMS.png')\n",
    "    plt.show()"
   ]
  },
  {
   "cell_type": "code",
   "execution_count": 33,
   "metadata": {},
   "outputs": [
    {
     "data": {
      "image/png": "[encoded data removed]",
      "text/plain": [
       "<matplotlib.figure.Figure at 0x11aedd668>"
      ]
     },
     "metadata": {},
     "output_type": "display_data"
    }
   ],
   "source": [
    "plot_decision_boundary(lambda x: predict_all(x))"
   ]
  }
 ],
 "metadata": {
  "kernelspec": {
   "display_name": "Python 3",
   "language": "python",
   "name": "python3"
  },
  "language_info": {
   "codemirror_mode": {
    "name": "ipython",
    "version": 3
   },
   "file_extension": ".py",
   "mimetype": "text/x-python",
   "name": "python",
   "nbconvert_exporter": "python",
   "pygments_lexer": "ipython3",
   "version": "3.6.1"
  }
 },
 "nbformat": 4,
 "nbformat_minor": 2
}
