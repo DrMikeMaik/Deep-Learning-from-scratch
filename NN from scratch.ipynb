{
 "cells": [
  {
   "cell_type": "code",
   "execution_count": 38,
   "metadata": {
    "collapsed": true
   },
   "outputs": [],
   "source": [
    "import numpy as np\n",
    "import pandas as pd\n",
    "import matplotlib.pyplot as plt\n",
    "from sklearn.datasets import make_classification\n",
    "from sklearn.datasets import make_blobs"
   ]
  },
  {
   "cell_type": "code",
   "execution_count": 39,
   "metadata": {
    "collapsed": true
   },
   "outputs": [],
   "source": [
    "# set the dimensions\n",
    "N = 100\n",
    "D = 2\n",
    "M = 4\n",
    "K = 3"
   ]
  },
  {
   "cell_type": "code",
   "execution_count": 40,
   "metadata": {
    "collapsed": true
   },
   "outputs": [],
   "source": [
    "# set the initial weights\n",
    "# np.random.seed(1234)\n",
    "W1 = np.random.randn(D,M)\n",
    "b1 = np.random.randn(M)\n",
    "W2 = np.random.randn(M,K)\n",
    "b2 = np.random.randn(K)"
   ]
  },
  {
   "cell_type": "code",
   "execution_count": 41,
   "metadata": {},
   "outputs": [
    {
     "name": "stdout",
     "output_type": "stream",
     "text": [
      "(2, 4)\n",
      "(4,)\n",
      "(4, 3)\n",
      "(3,)\n"
     ]
    }
   ],
   "source": [
    "print(W1.shape)\n",
    "print(b1.shape)\n",
    "print(W2.shape)\n",
    "print(b2.shape)"
   ]
  },
  {
   "cell_type": "code",
   "execution_count": 42,
   "metadata": {},
   "outputs": [
    {
     "name": "stdout",
     "output_type": "stream",
     "text": [
      "[[-1.33199088 -1.1411165  -0.38088623 -0.04023039]\n",
      " [ 1.04548618 -0.11453906 -1.51585473 -0.98365058]]\n",
      "\n",
      "[ 1.02497228 -1.28037254 -0.49801814 -0.10877787]\n"
     ]
    }
   ],
   "source": [
    "print(W1)\n",
    "print()\n",
    "print(b1)"
   ]
  },
  {
   "cell_type": "code",
   "execution_count": 43,
   "metadata": {},
   "outputs": [
    {
     "name": "stdout",
     "output_type": "stream",
     "text": [
      "[[ 2.32539193 -0.0625405  -0.68876843]\n",
      " [ 0.32875627 -0.87649428  0.52912815]\n",
      " [-2.16168061 -1.89391955 -1.29384287]\n",
      " [-0.42847189  0.99406832 -2.14372732]]\n",
      "\n",
      "[0.61974235 0.12006797 0.50071004]\n"
     ]
    }
   ],
   "source": [
    "print(W2)\n",
    "print()\n",
    "print(b2)"
   ]
  },
  {
   "cell_type": "code",
   "execution_count": 7,
   "metadata": {},
   "outputs": [],
   "source": [
    "# X, t = make_classification(n_samples=N, n_features=D, n_classes=K, n_redundant=0, \n",
    "#                            n_informative=D, n_clusters_per_class=1)\n",
    "X, t = make_blobs(n_features=2, centers=3)"
   ]
  },
  {
   "cell_type": "code",
   "execution_count": 8,
   "metadata": {},
   "outputs": [
    {
     "name": "stdout",
     "output_type": "stream",
     "text": [
      "(100, 2)\n",
      "(100,)\n"
     ]
    }
   ],
   "source": [
    "print(X.shape)\n",
    "print(t.shape)"
   ]
  },
  {
   "cell_type": "code",
   "execution_count": 9,
   "metadata": {
    "collapsed": true
   },
   "outputs": [],
   "source": [
    "X1 = pd.DataFrame(X, columns=['f1', 'f2'])\n",
    "t1 = pd.DataFrame(t, columns=['target'])\n",
    "df = pd.concat([X1, t1], axis=1)"
   ]
  },
  {
   "cell_type": "markdown",
   "metadata": {},
   "source": [
    "## Graph"
   ]
  },
  {
   "cell_type": "code",
   "execution_count": 10,
   "metadata": {},
   "outputs": [
    {
     "data": {
      "image/png": "[encoded data removed]",
      "text/plain": [
       "<matplotlib.figure.Figure at 0x11156ba58>"
      ]
     },
     "metadata": {},
     "output_type": "display_data"
    }
   ],
   "source": [
    "plt.scatter(df.loc[df['target']==0, 'f1'], df.loc[df['target']==0, 'f2'],\n",
    "           label = 't1')\n",
    "plt.scatter(df.loc[df['target']==1, 'f1'], df.loc[df['target']==1, 'f2'],\n",
    "            label = 't2')\n",
    "plt.scatter(df.loc[df['target']==2, 'f1'], df.loc[df['target']==2, 'f2'],\n",
    "            label = 't3')\n",
    "plt.legend()\n",
    "plt.show()"
   ]
  },
  {
   "cell_type": "markdown",
   "metadata": {},
   "source": [
    "## Log reg"
   ]
  },
  {
   "cell_type": "code",
   "execution_count": 44,
   "metadata": {
    "collapsed": true
   },
   "outputs": [],
   "source": [
    "def Z(X, W, b):\n",
    "    return np.dot(X, W) + b"
   ]
  },
  {
   "cell_type": "code",
   "execution_count": 45,
   "metadata": {
    "collapsed": true
   },
   "outputs": [],
   "source": [
    "def sig(Z):\n",
    "    return 1/(1+np.exp(-Z))"
   ]
  },
  {
   "cell_type": "code",
   "execution_count": 46,
   "metadata": {
    "collapsed": true
   },
   "outputs": [],
   "source": [
    "def soft(Z):\n",
    "    exp_Z = np.exp(Z)\n",
    "    return exp_Z/np.sum(exp_Z, axis=1, keepdims=True)"
   ]
  },
  {
   "cell_type": "code",
   "execution_count": 47,
   "metadata": {},
   "outputs": [
    {
     "data": {
      "text/plain": [
       "(100, 4)"
      ]
     },
     "execution_count": 47,
     "metadata": {},
     "output_type": "execute_result"
    }
   ],
   "source": [
    "Z1 = Z(X, W1, b1)\n",
    "Z1.shape"
   ]
  },
  {
   "cell_type": "code",
   "execution_count": 48,
   "metadata": {},
   "outputs": [
    {
     "data": {
      "text/plain": [
       "(100, 4)"
      ]
     },
     "execution_count": 48,
     "metadata": {},
     "output_type": "execute_result"
    }
   ],
   "source": [
    "y1 = sig(Z1)\n",
    "y1.shape"
   ]
  },
  {
   "cell_type": "code",
   "execution_count": 49,
   "metadata": {},
   "outputs": [
    {
     "data": {
      "text/plain": [
       "(100, 3)"
      ]
     },
     "execution_count": 49,
     "metadata": {},
     "output_type": "execute_result"
    }
   ],
   "source": [
    "Z2 = Z(y1, W2, b2)\n",
    "Z2.shape"
   ]
  },
  {
   "cell_type": "code",
   "execution_count": 50,
   "metadata": {},
   "outputs": [
    {
     "data": {
      "text/plain": [
       "(100, 3)"
      ]
     },
     "execution_count": 50,
     "metadata": {},
     "output_type": "execute_result"
    }
   ],
   "source": [
    "y2 = soft(Z2)\n",
    "y2.shape"
   ]
  },
  {
   "cell_type": "code",
   "execution_count": 51,
   "metadata": {
    "collapsed": true
   },
   "outputs": [],
   "source": [
    "def ohe(t):\n",
    "    result = np.zeros((N,K))\n",
    "    for i in range(len(t)):\n",
    "        result[i, t[i]] = 1\n",
    "    return result"
   ]
  },
  {
   "cell_type": "code",
   "execution_count": 52,
   "metadata": {
    "collapsed": true
   },
   "outputs": [],
   "source": [
    "def cost(t, y):\n",
    "    return -t*np.log(y)"
   ]
  },
  {
   "cell_type": "code",
   "execution_count": 53,
   "metadata": {},
   "outputs": [
    {
     "data": {
      "text/plain": [
       "(100, 3)"
      ]
     },
     "execution_count": 53,
     "metadata": {},
     "output_type": "execute_result"
    }
   ],
   "source": [
    "cost1 = cost(ohe(t), y2)\n",
    "cost1.shape"
   ]
  },
  {
   "cell_type": "code",
   "execution_count": 54,
   "metadata": {
    "collapsed": true
   },
   "outputs": [],
   "source": [
    "def error(cost):\n",
    "    return (cost.sum())/N"
   ]
  },
  {
   "cell_type": "code",
   "execution_count": 55,
   "metadata": {},
   "outputs": [
    {
     "data": {
      "text/plain": [
       "1.230970346389561"
      ]
     },
     "execution_count": 55,
     "metadata": {},
     "output_type": "execute_result"
    }
   ],
   "source": [
    "err0 = error(cost1)\n",
    "err0"
   ]
  },
  {
   "cell_type": "code",
   "execution_count": 56,
   "metadata": {
    "collapsed": true
   },
   "outputs": [],
   "source": [
    "def accuracy(t, y):\n",
    "    return (t==np.round(y)).mean()"
   ]
  },
  {
   "cell_type": "code",
   "execution_count": 57,
   "metadata": {},
   "outputs": [
    {
     "data": {
      "text/plain": [
       "0.67"
      ]
     },
     "execution_count": 57,
     "metadata": {},
     "output_type": "execute_result"
    }
   ],
   "source": [
    "acc0 = accuracy(ohe(t), y2)\n",
    "acc0"
   ]
  },
  {
   "cell_type": "code",
   "execution_count": 58,
   "metadata": {
    "collapsed": true
   },
   "outputs": [],
   "source": [
    "err = [err0]\n",
    "acc = [acc0]"
   ]
  },
  {
   "cell_type": "code",
   "execution_count": 59,
   "metadata": {
    "scrolled": true
   },
   "outputs": [
    {
     "name": "stdout",
     "output_type": "stream",
     "text": [
      "initial error: 0.17347376166280648\n",
      "error:1.230970346389561\n",
      "error:1.1364505702651713\n",
      "error:1.049731572096956\n",
      "error:0.9708291173036432\n",
      "error:0.8998066026851164\n",
      "error:0.8365982345852833\n",
      "error:0.7809349211815695\n",
      "error:0.7323427195560825\n",
      "error:0.6901890596593262\n",
      "error:0.6537506034632427\n",
      "error:0.6222803255880703\n",
      "error:0.5950600992345749\n",
      "error:0.5714342654316279\n",
      "error:0.5508259813324163\n",
      "error:0.5327409088066158\n",
      "error:0.516763036794059\n",
      "error:0.5025464603773975\n",
      "error:0.48980570138249446\n",
      "error:0.4783060993323158\n",
      "error:0.4678550528682446\n",
      "error:0.4582944219923915\n",
      "error:0.4494941360546791\n",
      "error:0.44134691939849446\n",
      "error:0.4337639920177604\n",
      "error:0.42667159078127037\n",
      "error:0.4200081660432363\n",
      "error:0.4137221264444046\n",
      "error:0.4077700248660031\n",
      "error:0.4021150976494207\n",
      "error:0.39672608601917586\n",
      "error:0.39157628279579354\n",
      "error:0.3866427590743111\n",
      "error:0.3819057348812373\n",
      "error:0.3773480652683203\n",
      "error:0.3729548192015637\n",
      "error:0.36871293326307053\n",
      "error:0.36461092585685323\n",
      "error:0.3606386605057839\n",
      "error:0.3567871491119511\n",
      "error:0.3530483878585987\n",
      "error:0.3494152198621478\n",
      "error:0.3458812198184846\n",
      "error:0.3424405967920199\n",
      "error:0.33908811201826267\n",
      "error:0.335819009169273\n",
      "error:0.332628954996429\n",
      "error:0.32951398863990805\n",
      "error:0.3264704781976252\n",
      "error:0.3234950833924986\n",
      "error:0.3205847233772749\n",
      "error:0.3177365488797372\n",
      "error:0.31494791802507377\n",
      "error:0.3122163752821965\n",
      "error:0.3095396330713907\n",
      "error:0.3069155556454721\n",
      "error:0.30434214491853706\n",
      "error:0.3018175279677804\n",
      "error:0.2993399459765617\n",
      "error:0.2969077444225459\n",
      "error:0.2945193643444827\n",
      "error:0.29217333454611366\n",
      "error:0.28986826461659043\n",
      "error:0.2876028386643642\n",
      "error:0.285375809676296\n",
      "error:0.28318599442623354\n",
      "error:0.28103226886786\n",
      "error:0.27891356395556527\n",
      "error:0.2768288618446881\n",
      "error:0.274777192428938\n",
      "error:0.2727576301783133\n",
      "error:0.27076929124553517\n",
      "error:0.2688113308130413\n",
      "error:0.26688294065604123\n",
      "error:0.26498334690009656\n",
      "error:0.2631118079542557\n",
      "error:0.26126761260297593\n",
      "error:0.25945007824197835\n",
      "error:0.2576585492448477\n",
      "error:0.2558923954486234\n",
      "error:0.25415101074789714\n",
      "error:0.2524338117880284\n",
      "error:0.25074023674905743\n",
      "error:0.24906974421274414\n",
      "error:0.24742181210590647\n",
      "error:0.2457959367139037\n",
      "error:0.24419163175867947\n",
      "error:0.2426084275363141\n",
      "error:0.2410458701094939\n",
      "error:0.23950352055071666\n",
      "error:0.2379809542324248\n",
      "error:0.23647776016059147\n",
      "error:0.2349935403485766\n",
      "error:0.23352790922834746\n",
      "error:0.23208049309639114\n",
      "error:0.23065092959187372\n",
      "error:0.2292388672047927\n",
      "error:0.22784396481205563\n",
      "error:0.22646589123957386\n",
      "error:0.22510432484861945\n",
      "error:0.2237589531448163\n",
      "error:0.22242947240827463\n",
      "error:0.22111558734347853\n",
      "error:0.21981701074764956\n",
      "error:0.21853346319639835\n",
      "error:0.2172646727455666\n",
      "error:0.21601037464823927\n",
      "error:0.21477031108598343\n",
      "error:0.21354423091343566\n",
      "error:0.2123318894154208\n",
      "error:0.21113304807584846\n",
      "error:0.20994747435767658\n",
      "error:0.2087749414932893\n",
      "error:0.20761522828467818\n",
      "error:0.20646811891285316\n",
      "error:0.2053334027559579\n",
      "error:0.20421087421558773\n",
      "error:0.20310033255085203\n",
      "error:0.20200158171974703\n",
      "error:0.20091443022743413\n",
      "error:0.19983869098104884\n",
      "error:0.19877418115068288\n",
      "error:0.1977207220362129\n",
      "error:0.19667813893966204\n",
      "error:0.19564626104280664\n",
      "error:0.19462492128975395\n",
      "error:0.19361395627423597\n",
      "error:0.19261320613137978\n",
      "error:0.19162251443372816\n",
      "error:0.19064172809129903\n",
      "error:0.1896706972554852\n",
      "error:0.18870927522660547\n",
      "error:0.18775731836493353\n",
      "error:0.18681468600503467\n",
      "error:0.1858812403732572\n",
      "error:0.18495684650822852\n",
      "error:0.1840413721842192\n",
      "error:0.18313468783724027\n",
      "error:0.18223666649375236\n",
      "error:0.1813471837018688\n",
      "error:0.18046611746494043\n",
      "error:0.17959334817741904\n",
      "error:0.17872875856289952\n",
      "error:0.17787223361424548\n",
      "error:0.17702366053571233\n",
      "error:0.17618292868698013\n",
      "error:0.17534992952901837\n",
      "error:0.17452455657170507\n",
      "error:0.17370670532313098\n",
      "error:0.17289627324051704\n",
      "error:0.17209315968268143\n"
     ]
    }
   ],
   "source": [
    "lr = 0.00001\n",
    "print('initial error: {}'.format(error1))\n",
    "\n",
    "for e in range(15000):\n",
    "\n",
    "    Z1 = Z(X, W1, b1)\n",
    "    y1 = sig(Z1)\n",
    "    Z2 = Z(y1, W2, b2)\n",
    "    y2 = soft(Z2)\n",
    "    cost1 = cost(ohe(t), y2)\n",
    "    error1 = error(cost1)\n",
    "    \n",
    "    dZ2 = (ohe(t) - y2)\n",
    "    dw2 = np.dot(y1.T, dZ2)\n",
    "    db2 = (dZ2.sum(axis=0))\n",
    "    \n",
    "    dZ1 = np.dot(dZ2, W2.T)*(y1*(1-y1))\n",
    "    dw1 = np.dot(X.T, dZ1)\n",
    "    db1 = (dZ1.sum(axis=0))\n",
    "    \n",
    "    W2 += lr*dw2\n",
    "    b2 += lr*db2\n",
    "    W1 += lr*dw1\n",
    "    b1 += lr*db1    \n",
    "    \n",
    "    if e % 100 == 0:\n",
    "        err.append(error1)\n",
    "        acc.append(accuracy(ohe(t), y2))\n",
    "        print('error:{}'.format(error1))"
   ]
  },
  {
   "cell_type": "code",
   "execution_count": 60,
   "metadata": {},
   "outputs": [
    {
     "data": {
      "text/plain": [
       "1.0"
      ]
     },
     "execution_count": 60,
     "metadata": {},
     "output_type": "execute_result"
    }
   ],
   "source": [
    "accuracy(ohe(t), y2)"
   ]
  },
  {
   "cell_type": "markdown",
   "metadata": {},
   "source": [
    "## Graph"
   ]
  },
  {
   "cell_type": "code",
   "execution_count": 61,
   "metadata": {},
   "outputs": [
    {
     "data": {
      "image/png": "[encoded data removed]",
      "text/plain": [
       "<matplotlib.figure.Figure at 0x111c94748>"
      ]
     },
     "metadata": {},
     "output_type": "display_data"
    }
   ],
   "source": [
    "plt.plot(err)\n",
    "plt.show()"
   ]
  },
  {
   "cell_type": "code",
   "execution_count": 63,
   "metadata": {},
   "outputs": [
    {
     "data": {
      "image/png": "[encoded data removed]",
      "text/plain": [
       "<matplotlib.figure.Figure at 0x111eb1668>"
      ]
     },
     "metadata": {},
     "output_type": "display_data"
    }
   ],
   "source": [
    "plt.plot(acc)\n",
    "plt.show()"
   ]
  },
  {
   "cell_type": "code",
   "execution_count": null,
   "metadata": {
    "collapsed": true
   },
   "outputs": [],
   "source": []
  }
 ],
 "metadata": {
  "kernelspec": {
   "display_name": "Python 3",
   "language": "python",
   "name": "python3"
  },
  "language_info": {
   "codemirror_mode": {
    "name": "ipython",
    "version": 3
   },
   "file_extension": ".py",
   "mimetype": "text/x-python",
   "name": "python",
   "nbconvert_exporter": "python",
   "pygments_lexer": "ipython3",
   "version": "3.6.1"
  }
 },
 "nbformat": 4,
 "nbformat_minor": 2
}
