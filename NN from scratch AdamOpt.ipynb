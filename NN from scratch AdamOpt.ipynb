{
 "cells": [
  {
   "cell_type": "code",
   "execution_count": 1,
   "metadata": {
    "collapsed": true
   },
   "outputs": [],
   "source": [
    "import numpy as np\n",
    "import pandas as pd\n",
    "import matplotlib.pyplot as plt\n",
    "from sklearn.datasets import make_classification\n",
    "from sklearn.datasets import make_blobs"
   ]
  },
  {
   "cell_type": "code",
   "execution_count": 2,
   "metadata": {
    "collapsed": true
   },
   "outputs": [],
   "source": [
    "# set the dimensions\n",
    "N = 100\n",
    "D = 2\n",
    "M = 4\n",
    "K = 3"
   ]
  },
  {
   "cell_type": "code",
   "execution_count": 3,
   "metadata": {
    "collapsed": true
   },
   "outputs": [],
   "source": [
    "# set the initial weights\n",
    "# np.random.seed(1234)\n",
    "W1 = np.random.randn(D,M)\n",
    "b1 = np.random.randn(M)\n",
    "W2 = np.random.randn(M,K)\n",
    "b2 = np.random.randn(K)"
   ]
  },
  {
   "cell_type": "code",
   "execution_count": 4,
   "metadata": {},
   "outputs": [
    {
     "name": "stdout",
     "output_type": "stream",
     "text": [
      "(2, 4)\n",
      "(4,)\n",
      "(4, 3)\n",
      "(3,)\n"
     ]
    }
   ],
   "source": [
    "print(W1.shape)\n",
    "print(b1.shape)\n",
    "print(W2.shape)\n",
    "print(b2.shape)"
   ]
  },
  {
   "cell_type": "code",
   "execution_count": 5,
   "metadata": {},
   "outputs": [
    {
     "name": "stdout",
     "output_type": "stream",
     "text": [
      "[[ 1.57571169  1.02764672  0.44297541 -1.2894469 ]\n",
      " [-0.56979669 -0.55951506 -0.48991643  0.47956394]]\n",
      "\n",
      "[ 0.15611355  0.06198689 -0.23423877 -0.55684249]\n"
     ]
    }
   ],
   "source": [
    "print(W1)\n",
    "print()\n",
    "print(b1)"
   ]
  },
  {
   "cell_type": "code",
   "execution_count": 6,
   "metadata": {},
   "outputs": [
    {
     "name": "stdout",
     "output_type": "stream",
     "text": [
      "[[ 0.27382919 -1.37128435 -0.0315938 ]\n",
      " [ 0.16588638  0.95201611  0.5027932 ]\n",
      " [-0.53458063  1.01280141  0.94856027]\n",
      " [ 0.73360324 -1.32687742  1.21989504]]\n",
      "\n",
      "[ 0.55801348  0.06754309 -1.81194588]\n"
     ]
    }
   ],
   "source": [
    "print(W2)\n",
    "print()\n",
    "print(b2)"
   ]
  },
  {
   "cell_type": "code",
   "execution_count": 7,
   "metadata": {
    "collapsed": true
   },
   "outputs": [],
   "source": [
    "# X, t = make_classification(n_samples=N, n_features=D, n_classes=K, n_redundant=0, \n",
    "#                            n_informative=D, n_clusters_per_class=1)\n",
    "X, t = make_blobs(n_features=2, centers=3)"
   ]
  },
  {
   "cell_type": "code",
   "execution_count": 8,
   "metadata": {},
   "outputs": [
    {
     "name": "stdout",
     "output_type": "stream",
     "text": [
      "(100, 2)\n",
      "(100,)\n"
     ]
    }
   ],
   "source": [
    "print(X.shape)\n",
    "print(t.shape)"
   ]
  },
  {
   "cell_type": "code",
   "execution_count": 9,
   "metadata": {
    "collapsed": true
   },
   "outputs": [],
   "source": [
    "X1 = pd.DataFrame(X, columns=['f1', 'f2'])\n",
    "t1 = pd.DataFrame(t, columns=['target'])\n",
    "df = pd.concat([X1, t1], axis=1)"
   ]
  },
  {
   "cell_type": "markdown",
   "metadata": {},
   "source": [
    "## Graph"
   ]
  },
  {
   "cell_type": "code",
   "execution_count": 10,
   "metadata": {},
   "outputs": [
    {
     "data": {
      "image/png": "[encoded data removed]",
      "text/plain": [
       "<matplotlib.figure.Figure at 0x11307ba20>"
      ]
     },
     "metadata": {},
     "output_type": "display_data"
    }
   ],
   "source": [
    "plt.scatter(df.loc[df['target']==0, 'f1'], df.loc[df['target']==0, 'f2'],\n",
    "           label = 't1')\n",
    "plt.scatter(df.loc[df['target']==1, 'f1'], df.loc[df['target']==1, 'f2'],\n",
    "            label = 't2')\n",
    "plt.scatter(df.loc[df['target']==2, 'f1'], df.loc[df['target']==2, 'f2'],\n",
    "            label = 't3')\n",
    "plt.legend()\n",
    "plt.show()"
   ]
  },
  {
   "cell_type": "markdown",
   "metadata": {},
   "source": [
    "## Log reg"
   ]
  },
  {
   "cell_type": "code",
   "execution_count": 11,
   "metadata": {
    "collapsed": true
   },
   "outputs": [],
   "source": [
    "def Z(X, W, b):\n",
    "    return np.dot(X, W) + b"
   ]
  },
  {
   "cell_type": "code",
   "execution_count": 12,
   "metadata": {
    "collapsed": true
   },
   "outputs": [],
   "source": [
    "def sig(Z):\n",
    "    return 1/(1+np.exp(-Z))"
   ]
  },
  {
   "cell_type": "code",
   "execution_count": 13,
   "metadata": {
    "collapsed": true
   },
   "outputs": [],
   "source": [
    "def soft(Z):\n",
    "    exp_Z = np.exp(Z)\n",
    "    return exp_Z/np.sum(exp_Z, axis=1, keepdims=True)"
   ]
  },
  {
   "cell_type": "code",
   "execution_count": 14,
   "metadata": {},
   "outputs": [
    {
     "data": {
      "text/plain": [
       "(100, 4)"
      ]
     },
     "execution_count": 14,
     "metadata": {},
     "output_type": "execute_result"
    }
   ],
   "source": [
    "Z1 = Z(X, W1, b1)\n",
    "Z1.shape"
   ]
  },
  {
   "cell_type": "code",
   "execution_count": 15,
   "metadata": {},
   "outputs": [
    {
     "data": {
      "text/plain": [
       "(100, 4)"
      ]
     },
     "execution_count": 15,
     "metadata": {},
     "output_type": "execute_result"
    }
   ],
   "source": [
    "y1 = sig(Z1)\n",
    "y1.shape"
   ]
  },
  {
   "cell_type": "code",
   "execution_count": 16,
   "metadata": {},
   "outputs": [
    {
     "data": {
      "text/plain": [
       "(100, 3)"
      ]
     },
     "execution_count": 16,
     "metadata": {},
     "output_type": "execute_result"
    }
   ],
   "source": [
    "Z2 = Z(y1, W2, b2)\n",
    "Z2.shape"
   ]
  },
  {
   "cell_type": "code",
   "execution_count": 17,
   "metadata": {},
   "outputs": [
    {
     "data": {
      "text/plain": [
       "(100, 3)"
      ]
     },
     "execution_count": 17,
     "metadata": {},
     "output_type": "execute_result"
    }
   ],
   "source": [
    "y2 = soft(Z2)\n",
    "y2.shape"
   ]
  },
  {
   "cell_type": "code",
   "execution_count": 18,
   "metadata": {
    "collapsed": true
   },
   "outputs": [],
   "source": [
    "def ohe(t):\n",
    "    result = np.zeros((N,K))\n",
    "    for i in range(len(t)):\n",
    "        result[i, t[i]] = 1\n",
    "    return result"
   ]
  },
  {
   "cell_type": "code",
   "execution_count": 19,
   "metadata": {
    "collapsed": true
   },
   "outputs": [],
   "source": [
    "def cost(t, y):\n",
    "    return -t*np.log(y)"
   ]
  },
  {
   "cell_type": "code",
   "execution_count": 20,
   "metadata": {},
   "outputs": [
    {
     "data": {
      "text/plain": [
       "(100, 3)"
      ]
     },
     "execution_count": 20,
     "metadata": {},
     "output_type": "execute_result"
    }
   ],
   "source": [
    "cost1 = cost(ohe(t), y2)\n",
    "cost1.shape"
   ]
  },
  {
   "cell_type": "code",
   "execution_count": 21,
   "metadata": {
    "collapsed": true
   },
   "outputs": [],
   "source": [
    "def error(cost):\n",
    "    return (cost.sum())/N"
   ]
  },
  {
   "cell_type": "code",
   "execution_count": 22,
   "metadata": {},
   "outputs": [
    {
     "data": {
      "text/plain": [
       "1.342629762739968"
      ]
     },
     "execution_count": 22,
     "metadata": {},
     "output_type": "execute_result"
    }
   ],
   "source": [
    "err0 = error(cost1)\n",
    "err0"
   ]
  },
  {
   "cell_type": "code",
   "execution_count": 23,
   "metadata": {
    "collapsed": true
   },
   "outputs": [],
   "source": [
    "def accuracy(t, y):\n",
    "    return (t==np.round(y)).mean()"
   ]
  },
  {
   "cell_type": "code",
   "execution_count": 24,
   "metadata": {},
   "outputs": [
    {
     "data": {
      "text/plain": [
       "0.56"
      ]
     },
     "execution_count": 24,
     "metadata": {},
     "output_type": "execute_result"
    }
   ],
   "source": [
    "acc0 = accuracy(ohe(t), y2)\n",
    "acc0"
   ]
  },
  {
   "cell_type": "code",
   "execution_count": 25,
   "metadata": {
    "collapsed": true
   },
   "outputs": [],
   "source": [
    "err_reg = [err0]\n",
    "acc_reg = [acc0]\n",
    "tt = 1"
   ]
  },
  {
   "cell_type": "code",
   "execution_count": 26,
   "metadata": {},
   "outputs": [
    {
     "name": "stdout",
     "output_type": "stream",
     "text": [
      "initial error: 1.342629762739968\n"
     ]
    }
   ],
   "source": [
    "lr = 0.001\n",
    "\n",
    "m_W1 = 0\n",
    "m_b1 = 0\n",
    "m_W2 = 0\n",
    "m_b2 = 0\n",
    "\n",
    "v_W1 = 0\n",
    "v_b1 = 0\n",
    "v_W2 = 0\n",
    "v_b2 = 0\n",
    "\n",
    "decay_m = 0.9\n",
    "decay_v = 0.999\n",
    "eps = 10e-8\n",
    "\n",
    "print('initial error: {}'.format(err0))"
   ]
  },
  {
   "cell_type": "code",
   "execution_count": 27,
   "metadata": {
    "scrolled": true
   },
   "outputs": [
    {
     "name": "stdout",
     "output_type": "stream",
     "text": [
      "error:1.342629762739968\n",
      "error:1.1448912239670286\n",
      "error:0.9595394576207511\n",
      "error:0.8542911880435706\n",
      "error:0.7913290319227394\n",
      "error:0.7475499252079026\n",
      "error:0.7136161586435482\n",
      "error:0.685509857251407\n",
      "error:0.6609724278042941\n",
      "error:0.6384560726545078\n",
      "error:0.6165520700846785\n",
      "error:0.5927272162047785\n",
      "error:0.5580114031847716\n",
      "error:0.49687901230683124\n",
      "error:0.4364582914843538\n",
      "error:0.3839688574045641\n",
      "error:0.3380774573296469\n",
      "error:0.3001596431402711\n",
      "error:0.26940706737528886\n",
      "error:0.24409194021041525\n",
      "error:0.2227497893869198\n",
      "error:0.20438107779006487\n",
      "error:0.18832783932860353\n",
      "error:0.1741413492456986\n",
      "error:0.16149870944198638\n",
      "error:0.15015632403002943\n",
      "error:0.13992377208401538\n",
      "error:0.13064826005380994\n",
      "error:0.1222047072210197\n",
      "error:0.11448897695795114\n",
      "error:0.1074128549821684\n",
      "error:0.1008996066662902\n",
      "error:0.09487760907232952\n",
      "error:0.08925834511309957\n",
      "error:0.08373866755013822\n",
      "error:0.07561514395971977\n",
      "error:0.06494464065912461\n",
      "error:0.05748614299709848\n",
      "error:0.05179705979645359\n",
      "error:0.047161450258215366\n",
      "error:0.043265242165030256\n",
      "error:0.03992179199526211\n",
      "error:0.03700688308540711\n",
      "error:0.03443367224075429\n",
      "error:0.032139142418110195\n",
      "error:0.03007615618736941\n",
      "error:0.02820855007153846\n",
      "error:0.026507978325393155\n",
      "error:0.024951810605420236\n",
      "error:0.023521689500580135\n",
      "error:0.02220251507246389\n",
      "error:0.020981713743580332\n",
      "error:0.01984870134879478\n",
      "error:0.01879448174908208\n",
      "error:0.017811341989923152\n",
      "error:0.016892617453248257\n",
      "error:0.01603250857740029\n",
      "error:0.015225936129495347\n",
      "error:0.014468425686443185\n",
      "error:0.013756014517236029\n",
      "error:0.01308517583943586\n",
      "error:0.012452756691004896\n",
      "error:0.011855926574395555\n",
      "error:0.011292134699454058\n",
      "error:0.010759074147084354\n",
      "error:0.01025465164610293\n",
      "error:0.009776961935592347\n",
      "error:0.009324265898500921\n",
      "error:0.008894971816451516\n",
      "error:0.00848761922312101\n",
      "error:0.00810086493316263\n",
      "error:0.007733470902103547\n",
      "error:0.00738429363488098\n",
      "error:0.007052274910365295\n",
      "error:0.006736433629135414\n",
      "error:0.0064358586240308435\n",
      "error:0.0061497022992216925\n",
      "error:0.005877174984960007\n",
      "error:0.005617539912766502\n",
      "error:0.00537010873032568\n",
      "error:0.0051342374873967565\n",
      "error:0.004909323034070397\n",
      "error:0.004694799781083095\n",
      "error:0.004490136778936826\n",
      "error:0.004294835078502895\n",
      "error:0.004108425340806998\n",
      "error:0.003930465667951097\n",
      "error:0.0037605396307568238\n",
      "error:0.003598254471815681\n",
      "error:0.003443239465289679\n",
      "error:0.003295144417091413\n",
      "error:0.0031536382910433845\n",
      "error:0.0030184079483208553\n",
      "error:0.0028891569889586766\n",
      "error:0.0027656046854883966\n",
      "error:0.0026474849998879123\n",
      "error:0.0025345456760059613\n",
      "error:0.0024265474004760788\n",
      "error:0.0023232630258866057\n",
      "error:0.0022244768506319455\n",
      "error:0.0021299839504510254\n",
      "error:0.002039589557171755\n",
      "error:0.0019531084806334144\n",
      "error:0.0018703645701604599\n",
      "error:0.0017911902123175253\n",
      "error:0.0017154258619919954\n",
      "error:0.0016429196041331069\n",
      "error:0.0015735267437271367\n",
      "error:0.001507109421814072\n",
      "error:0.0014435362555512104\n",
      "error:0.001382682000510003\n",
      "error:0.0013244272335533442\n",
      "error:0.0012686580547866067\n",
      "error:0.0012152658072055041\n",
      "error:0.0011641468127822985\n",
      "error:0.0011152021238376413\n",
      "error:0.001068337288641484\n",
      "error:0.0010234621302735245\n",
      "error:0.0009804905378516394\n",
      "error:0.000939340269308761\n",
      "error:0.0008999327649629824\n",
      "error:0.0008621929711844401\n",
      "error:0.0008260491735166378\n",
      "error:0.000791432838657732\n",
      "error:0.0007582784647528995\n",
      "error:0.0007265234394884621\n",
      "error:0.0006961079055166973\n",
      "error:0.0006669746327730699\n",
      "error:0.0006390688972799406\n",
      "error:0.0006123383660585516\n",
      "error:0.0005867329877971317\n",
      "error:0.0005622048889481482\n",
      "error:0.0005387082749482221\n",
      "error:0.0005161993362758109\n",
      "error:0.0004946361590797356\n",
      "error:0.0004739786401289141\n",
      "error:0.0004541884058498462\n",
      "error:0.0004352287352324332\n",
      "error:0.00041706448639871783\n",
      "error:0.0003996620266410284\n",
      "error:0.00038298916574850496\n",
      "error:0.0003670150924504781\n",
      "error:0.00035171031381600945\n",
      "error:0.0003370465974582774\n",
      "error:0.00032299691640060415\n",
      "error:0.00030953539646950056\n",
      "error:0.0002966372660878401\n",
      "error:0.00028427880834830393\n",
      "error:0.0002724373152540701\n",
      "error:0.00026109104402040264\n"
     ]
    }
   ],
   "source": [
    "for e in range(15000):\n",
    "\n",
    "    Z1 = Z(X, W1, b1)\n",
    "    y1 = sig(Z1)\n",
    "    Z2 = Z(y1, W2, b2)\n",
    "    y2 = soft(Z2)\n",
    "    cost1 = cost(ohe(t), y2)\n",
    "    error1 = error(cost1)\n",
    "    \n",
    "    # gradients\n",
    "    dZ2 = (ohe(t) - y2)\n",
    "    dw2 = np.dot(y1.T, dZ2)\n",
    "    db2 = (dZ2.sum(axis=0))\n",
    "    dZ1 = np.dot(dZ2, W2.T)*(y1*(1-y1))\n",
    "    dw1 = np.dot(X.T, dZ1)\n",
    "    db1 = (dZ1.sum(axis=0))\n",
    "    \n",
    "    # First moment - m\n",
    "    m_W2 = decay_m*m_W2 + (1-decay_m)*dw2\n",
    "    m_b2 = decay_m*m_b2 + (1-decay_m)*db2\n",
    "    m_W1 = decay_m*m_W1 + (1-decay_m)*dw1\n",
    "    m_b1 = decay_m*m_b1 + (1-decay_m)*db1\n",
    "\n",
    "    # Second moment - v\n",
    "    v_W2 = decay_v*v_W2 + (1-decay_v)*dw2*dw2\n",
    "    v_b2 = decay_v*v_b2 + (1-decay_v)*db2*db2\n",
    "    v_W1 = decay_v*v_W1 + (1-decay_v)*dw1*dw1\n",
    "    v_b1 = decay_v*v_b1 + (1-decay_v)*db1*db1\n",
    "\n",
    "    # Bias correction for m\n",
    "    m_hat_W2 = m_W2/(1-decay_m**tt)\n",
    "    m_hat_b2 = m_b2/(1-decay_m**tt)\n",
    "    m_hat_W1 = m_W1/(1-decay_m**tt)\n",
    "    m_hat_b1 = m_b1/(1-decay_m**tt)\n",
    "\n",
    "    # Bias correction for v\n",
    "    v_hat_W1 = v_W1/(1-decay_v**tt)\n",
    "    v_hat_b1 = v_b1/(1-decay_v**tt)\n",
    "    v_hat_W2 = v_W2/(1-decay_v**tt)\n",
    "    v_hat_b2 = v_b2/(1-decay_v**tt)\n",
    "    \n",
    "    # Update t\n",
    "    tt += 1\n",
    "    \n",
    "    W2 += (lr*m_hat_W2)/(np.sqrt(v_hat_W2 + eps))\n",
    "    b2 += (lr*m_hat_b2)/(np.sqrt(v_hat_b2 + eps))\n",
    "    W1 += (lr*m_hat_W1)/(np.sqrt(v_hat_W1 + eps))\n",
    "    b1 += (lr*m_hat_b1)/(np.sqrt(v_hat_b1 + eps))\n",
    "    \n",
    "    if e % 100 == 0:\n",
    "        err_reg.append(error1)\n",
    "        acc_reg.append(accuracy(ohe(t), y2))\n",
    "        print('error:{}'.format(error1))"
   ]
  },
  {
   "cell_type": "code",
   "execution_count": 28,
   "metadata": {},
   "outputs": [
    {
     "data": {
      "text/plain": [
       "1.0"
      ]
     },
     "execution_count": 28,
     "metadata": {},
     "output_type": "execute_result"
    }
   ],
   "source": [
    "accuracy(ohe(t), y2)"
   ]
  },
  {
   "cell_type": "markdown",
   "metadata": {},
   "source": [
    "## Graph"
   ]
  },
  {
   "cell_type": "markdown",
   "metadata": {},
   "source": [
    "### Constant learning rate"
   ]
  },
  {
   "cell_type": "code",
   "execution_count": 29,
   "metadata": {},
   "outputs": [
    {
     "data": {
      "image/png": "[encoded data removed]",
      "text/plain": [
       "<matplotlib.figure.Figure at 0x113201a20>"
      ]
     },
     "metadata": {},
     "output_type": "display_data"
    }
   ],
   "source": [
    "plt.plot(err_reg)\n",
    "plt.show()"
   ]
  },
  {
   "cell_type": "code",
   "execution_count": 30,
   "metadata": {},
   "outputs": [
    {
     "data": {
      "image/png": "[encoded data removed]",
      "text/plain": [
       "<matplotlib.figure.Figure at 0x1132e8588>"
      ]
     },
     "metadata": {},
     "output_type": "display_data"
    }
   ],
   "source": [
    "plt.plot(acc_reg)\n",
    "plt.show()"
   ]
  },
  {
   "cell_type": "markdown",
   "metadata": {},
   "source": [
    "# test"
   ]
  },
  {
   "cell_type": "code",
   "execution_count": 14,
   "metadata": {
    "collapsed": true
   },
   "outputs": [],
   "source": [
    "lr1 = [0.1]"
   ]
  },
  {
   "cell_type": "code",
   "execution_count": 15,
   "metadata": {
    "collapsed": true
   },
   "outputs": [],
   "source": [
    "for i in range(100):\n",
    "    k = 0.1\n",
    "    lr1.append(lr1[0]*np.exp(- k * i))"
   ]
  },
  {
   "cell_type": "code",
   "execution_count": 16,
   "metadata": {},
   "outputs": [
    {
     "data": {
      "image/png": "[encoded data removed]",
      "text/plain": [
       "<matplotlib.figure.Figure at 0x11562e748>"
      ]
     },
     "metadata": {},
     "output_type": "display_data"
    }
   ],
   "source": [
    "plt.plot(lr)\n",
    "plt.show()"
   ]
  },
  {
   "cell_type": "code",
   "execution_count": 17,
   "metadata": {
    "collapsed": true
   },
   "outputs": [],
   "source": [
    "lr2 = [0.1]"
   ]
  },
  {
   "cell_type": "code",
   "execution_count": 18,
   "metadata": {
    "collapsed": true
   },
   "outputs": [],
   "source": [
    "for i in range(100):\n",
    "    k = 0.1\n",
    "    lr2.append(lr2[0]/((k * i) + 1))"
   ]
  },
  {
   "cell_type": "code",
   "execution_count": 19,
   "metadata": {},
   "outputs": [
    {
     "data": {
      "image/png": "[encoded data removed]",
      "text/plain": [
       "<matplotlib.figure.Figure at 0x115a45780>"
      ]
     },
     "metadata": {},
     "output_type": "display_data"
    }
   ],
   "source": [
    "plt.plot(lr2)\n",
    "plt.show()"
   ]
  },
  {
   "cell_type": "code",
   "execution_count": 20,
   "metadata": {},
   "outputs": [
    {
     "data": {
      "image/png": "[encoded data removed]",
      "text/plain": [
       "<matplotlib.figure.Figure at 0x11574c278>"
      ]
     },
     "metadata": {},
     "output_type": "display_data"
    }
   ],
   "source": [
    "plt.plot(lr1)\n",
    "plt.plot(lr2)\n",
    "plt.show()"
   ]
  },
  {
   "cell_type": "code",
   "execution_count": null,
   "metadata": {
    "collapsed": true
   },
   "outputs": [],
   "source": []
  },
  {
   "cell_type": "code",
   "execution_count": null,
   "metadata": {
    "collapsed": true
   },
   "outputs": [],
   "source": []
  }
 ],
 "metadata": {
  "kernelspec": {
   "display_name": "Python 3",
   "language": "python",
   "name": "python3"
  },
  "language_info": {
   "codemirror_mode": {
    "name": "ipython",
    "version": 3
   },
   "file_extension": ".py",
   "mimetype": "text/x-python",
   "name": "python",
   "nbconvert_exporter": "python",
   "pygments_lexer": "ipython3",
   "version": "3.6.1"
  }
 },
 "nbformat": 4,
 "nbformat_minor": 2
}
