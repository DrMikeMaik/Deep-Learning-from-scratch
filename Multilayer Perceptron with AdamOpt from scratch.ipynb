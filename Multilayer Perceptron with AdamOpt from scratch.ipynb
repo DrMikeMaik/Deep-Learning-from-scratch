{
 "cells": [
  {
   "cell_type": "code",
   "execution_count": 1,
   "metadata": {
    "collapsed": true
   },
   "outputs": [],
   "source": [
    "import numpy as np\n",
    "import pandas as pd\n",
    "import matplotlib.pyplot as plt\n",
    "from sklearn.datasets import make_classification\n",
    "from sklearn.datasets import make_blobs"
   ]
  },
  {
   "cell_type": "code",
   "execution_count": 2,
   "metadata": {
    "collapsed": true
   },
   "outputs": [],
   "source": [
    "# set the dimensions\n",
    "N = 100\n",
    "D = 2\n",
    "M = 4\n",
    "K = 3"
   ]
  },
  {
   "cell_type": "code",
   "execution_count": 3,
   "metadata": {
    "collapsed": true
   },
   "outputs": [],
   "source": [
    "# set the initial weights\n",
    "np.random.seed(9)\n",
    "W1 = np.random.randn(D,M)\n",
    "b1 = np.random.randn(M)\n",
    "W2 = np.random.randn(M,K)\n",
    "b2 = np.random.randn(K)"
   ]
  },
  {
   "cell_type": "code",
   "execution_count": 4,
   "metadata": {},
   "outputs": [
    {
     "name": "stdout",
     "output_type": "stream",
     "text": [
      "(2, 4)\n",
      "(4,)\n",
      "(4, 3)\n",
      "(3,)\n"
     ]
    }
   ],
   "source": [
    "print(W1.shape)\n",
    "print(b1.shape)\n",
    "print(W2.shape)\n",
    "print(b2.shape)"
   ]
  },
  {
   "cell_type": "code",
   "execution_count": 5,
   "metadata": {},
   "outputs": [
    {
     "name": "stdout",
     "output_type": "stream",
     "text": [
      "[[ 1.10855471e-03 -2.89544069e-01 -1.11606630e+00 -1.28827567e-02]\n",
      " [-3.78361464e-01 -4.81135363e-01 -1.51733118e+00 -4.90871981e-01]]\n",
      "\n",
      "[-0.24068058 -0.64794746  0.63589108  1.74011731]\n"
     ]
    }
   ],
   "source": [
    "print(W1)\n",
    "print()\n",
    "print(b1)"
   ]
  },
  {
   "cell_type": "code",
   "execution_count": 6,
   "metadata": {},
   "outputs": [
    {
     "name": "stdout",
     "output_type": "stream",
     "text": [
      "[[ 0.29668222  0.70750366  1.82281576]\n",
      " [ 0.43076903  1.54272963 -0.90072117]\n",
      " [-0.13712501  1.29757901  0.67527117]\n",
      " [ 0.03195812  0.9181459   0.38050947]]\n",
      "\n",
      "[ 0.51636749 -0.35523946  0.208777  ]\n"
     ]
    }
   ],
   "source": [
    "print(W2)\n",
    "print()\n",
    "print(b2)"
   ]
  },
  {
   "cell_type": "code",
   "execution_count": 7,
   "metadata": {
    "collapsed": true
   },
   "outputs": [],
   "source": [
    "# Create three clusters\n",
    "X, t = make_blobs(n_features=2, centers=3)"
   ]
  },
  {
   "cell_type": "code",
   "execution_count": 8,
   "metadata": {},
   "outputs": [
    {
     "name": "stdout",
     "output_type": "stream",
     "text": [
      "(100, 2)\n",
      "(100,)\n"
     ]
    }
   ],
   "source": [
    "print(X.shape)\n",
    "print(t.shape)"
   ]
  },
  {
   "cell_type": "code",
   "execution_count": 9,
   "metadata": {
    "collapsed": true
   },
   "outputs": [],
   "source": [
    "X1 = pd.DataFrame(X, columns=['f1', 'f2'])\n",
    "t1 = pd.DataFrame(t, columns=['target'])\n",
    "df = pd.concat([X1, t1], axis=1)"
   ]
  },
  {
   "cell_type": "markdown",
   "metadata": {},
   "source": [
    "## Graph"
   ]
  },
  {
   "cell_type": "code",
   "execution_count": 10,
   "metadata": {},
   "outputs": [
    {
     "data": {
      "image/png": "[encoded data removed]",
      "text/plain": [
       "<matplotlib.figure.Figure at 0x1185836a0>"
      ]
     },
     "metadata": {},
     "output_type": "display_data"
    }
   ],
   "source": [
    "plt.figure(figsize=(8, 6), dpi=80)\n",
    "plt.scatter(df.loc[df['target']==0, 'f1'], df.loc[df['target']==0, 'f2'],\n",
    "           label = 't1')\n",
    "plt.scatter(df.loc[df['target']==1, 'f1'], df.loc[df['target']==1, 'f2'],\n",
    "            label = 't2')\n",
    "plt.scatter(df.loc[df['target']==2, 'f1'], df.loc[df['target']==2, 'f2'],\n",
    "            label = 't3')\n",
    "plt.legend()\n",
    "plt.show()"
   ]
  },
  {
   "cell_type": "markdown",
   "metadata": {},
   "source": [
    "## Log reg"
   ]
  },
  {
   "cell_type": "code",
   "execution_count": 11,
   "metadata": {
    "collapsed": true
   },
   "outputs": [],
   "source": [
    "def Z(X, W, b):\n",
    "    return np.dot(X, W) + b"
   ]
  },
  {
   "cell_type": "code",
   "execution_count": 12,
   "metadata": {
    "collapsed": true
   },
   "outputs": [],
   "source": [
    "def sig(Z):\n",
    "    return 1/(1+np.exp(-Z))"
   ]
  },
  {
   "cell_type": "code",
   "execution_count": 13,
   "metadata": {
    "collapsed": true
   },
   "outputs": [],
   "source": [
    "def soft(Z):\n",
    "    exp_Z = np.exp(Z)\n",
    "    return exp_Z/np.sum(exp_Z, axis=1, keepdims=True)"
   ]
  },
  {
   "cell_type": "code",
   "execution_count": 14,
   "metadata": {},
   "outputs": [
    {
     "data": {
      "text/plain": [
       "(100, 4)"
      ]
     },
     "execution_count": 14,
     "metadata": {},
     "output_type": "execute_result"
    }
   ],
   "source": [
    "Z1 = Z(X, W1, b1)\n",
    "Z1.shape"
   ]
  },
  {
   "cell_type": "code",
   "execution_count": 15,
   "metadata": {},
   "outputs": [
    {
     "data": {
      "text/plain": [
       "(100, 4)"
      ]
     },
     "execution_count": 15,
     "metadata": {},
     "output_type": "execute_result"
    }
   ],
   "source": [
    "y1 = sig(Z1)\n",
    "y1.shape"
   ]
  },
  {
   "cell_type": "code",
   "execution_count": 16,
   "metadata": {},
   "outputs": [
    {
     "data": {
      "text/plain": [
       "(100, 3)"
      ]
     },
     "execution_count": 16,
     "metadata": {},
     "output_type": "execute_result"
    }
   ],
   "source": [
    "Z2 = Z(y1, W2, b2)\n",
    "Z2.shape"
   ]
  },
  {
   "cell_type": "code",
   "execution_count": 17,
   "metadata": {},
   "outputs": [
    {
     "data": {
      "text/plain": [
       "(100, 3)"
      ]
     },
     "execution_count": 17,
     "metadata": {},
     "output_type": "execute_result"
    }
   ],
   "source": [
    "y2 = soft(Z2)\n",
    "y2.shape"
   ]
  },
  {
   "cell_type": "code",
   "execution_count": 18,
   "metadata": {
    "collapsed": true
   },
   "outputs": [],
   "source": [
    "def ohe(t):\n",
    "    result = np.zeros((N,K))\n",
    "    for i in range(len(t)):\n",
    "        result[i, t[i]] = 1\n",
    "    return result"
   ]
  },
  {
   "cell_type": "code",
   "execution_count": 19,
   "metadata": {
    "collapsed": true
   },
   "outputs": [],
   "source": [
    "def cost(t, y):\n",
    "    return -t*np.log(y)"
   ]
  },
  {
   "cell_type": "code",
   "execution_count": 20,
   "metadata": {},
   "outputs": [
    {
     "data": {
      "text/plain": [
       "(100, 3)"
      ]
     },
     "execution_count": 20,
     "metadata": {},
     "output_type": "execute_result"
    }
   ],
   "source": [
    "cost1 = cost(ohe(t), y2)\n",
    "cost1.shape"
   ]
  },
  {
   "cell_type": "code",
   "execution_count": 21,
   "metadata": {
    "collapsed": true
   },
   "outputs": [],
   "source": [
    "def error(cost):\n",
    "    return (cost.sum())/N"
   ]
  },
  {
   "cell_type": "code",
   "execution_count": 22,
   "metadata": {},
   "outputs": [
    {
     "data": {
      "text/plain": [
       "1.6850577128658057"
      ]
     },
     "execution_count": 22,
     "metadata": {},
     "output_type": "execute_result"
    }
   ],
   "source": [
    "err0 = error(cost1)\n",
    "err0"
   ]
  },
  {
   "cell_type": "code",
   "execution_count": 23,
   "metadata": {
    "collapsed": true
   },
   "outputs": [],
   "source": [
    "def accuracy(t, y):\n",
    "    return (t==np.round(y)).mean()"
   ]
  },
  {
   "cell_type": "code",
   "execution_count": 24,
   "metadata": {},
   "outputs": [
    {
     "data": {
      "text/plain": [
       "0.4666666666666667"
      ]
     },
     "execution_count": 24,
     "metadata": {},
     "output_type": "execute_result"
    }
   ],
   "source": [
    "acc0 = accuracy(ohe(t), y2)\n",
    "acc0"
   ]
  },
  {
   "cell_type": "code",
   "execution_count": 25,
   "metadata": {
    "collapsed": true
   },
   "outputs": [],
   "source": [
    "err_reg = []\n",
    "acc_reg = []\n",
    "tt = 1"
   ]
  },
  {
   "cell_type": "code",
   "execution_count": 26,
   "metadata": {},
   "outputs": [
    {
     "name": "stdout",
     "output_type": "stream",
     "text": [
      "initial error: 1.6850577128658057\n"
     ]
    }
   ],
   "source": [
    "lr = 0.001\n",
    "\n",
    "m_W1 = 0\n",
    "m_b1 = 0\n",
    "m_W2 = 0\n",
    "m_b2 = 0\n",
    "\n",
    "v_W1 = 0\n",
    "v_b1 = 0\n",
    "v_W2 = 0\n",
    "v_b2 = 0\n",
    "\n",
    "decay_m = 0.9\n",
    "decay_v = 0.999\n",
    "eps = 10e-8\n",
    "\n",
    "print('initial error: {}'.format(err0))"
   ]
  },
  {
   "cell_type": "code",
   "execution_count": 27,
   "metadata": {
    "scrolled": true
   },
   "outputs": [
    {
     "name": "stdout",
     "output_type": "stream",
     "text": [
      "error:1.6850577128658057\n",
      "error:1.403291353849536\n",
      "error:1.2555913470756996\n",
      "error:1.169223283377946\n",
      "error:1.1048978565058716\n",
      "error:1.0391082914066738\n",
      "error:0.9625385940764598\n",
      "error:0.8785450933121481\n",
      "error:0.8020705620748579\n",
      "error:0.7387083821691246\n",
      "error:0.6855913845764274\n",
      "error:0.6396067899827199\n",
      "error:0.5989518203353833\n",
      "error:0.5627794260319028\n",
      "error:0.5306906826460615\n",
      "error:0.5023999253076223\n",
      "error:0.47757958316345495\n",
      "error:0.4558365354425095\n",
      "error:0.4367509758102169\n",
      "error:0.4199195092284309\n",
      "error:0.40498024524879483\n",
      "error:0.39162165337723037\n",
      "error:0.379582421419818\n",
      "error:0.36864757275252613\n",
      "error:0.3586435494184279\n",
      "error:0.3494333912543124\n",
      "error:0.34091231534209526\n",
      "error:0.3330035669999672\n",
      "error:0.32565418565176146\n",
      "error:0.3188302681386419\n",
      "error:0.31251146785543005\n",
      "error:0.30668488104681246\n",
      "error:0.3013390376160149\n",
      "error:0.29645911359243277\n",
      "error:0.2920243446377285\n",
      "error:0.28800788597548715\n",
      "error:0.2843784648576497\n",
      "error:0.2811026962384468\n",
      "error:0.27814709584400643\n",
      "error:0.27547934737760627\n",
      "error:0.27306884659477887\n",
      "error:0.2708867556979139\n",
      "error:0.2689058044124621\n",
      "error:0.26709999974199056\n",
      "error:0.2654443448847307\n",
      "error:0.2639146480326771\n",
      "error:0.2624875161009387\n",
      "error:0.26114064904845447\n",
      "error:0.25985352781904064\n",
      "error:0.2586084574440038\n",
      "error:0.2573916612958584\n",
      "error:0.25619384849751736\n",
      "error:0.2550096925875583\n",
      "error:0.25383616479056204\n",
      "error:0.2526703772071168\n",
      "error:0.2515078927943718\n",
      "error:0.25034210551107\n",
      "error:0.24916469872404012\n",
      "error:0.247966869253589\n",
      "error:0.2467410227473764\n",
      "error:0.24548269362211003\n",
      "error:0.24419225831983604\n",
      "error:0.24287570521960425\n",
      "error:0.24154377192927612\n",
      "error:0.2402094884253586\n",
      "error:0.2388851314202908\n",
      "error:0.23757989533553114\n",
      "error:0.23629897714358705\n",
      "error:0.23504394111669322\n",
      "error:0.23381382455787056\n",
      "error:0.2326064692167362\n",
      "error:0.23141971403462525\n",
      "error:0.23025220863711443\n",
      "error:0.22910373486569077\n",
      "error:0.22797509188325127\n",
      "error:0.22686774165043178\n",
      "error:0.225783431255021\n",
      "error:0.2247239157244721\n",
      "error:0.22369079809613254\n",
      "error:0.22268545192182795\n",
      "error:0.2217089897234843\n",
      "error:0.22076225563882484\n",
      "error:0.21984583190370835\n",
      "error:0.2189600540475766\n",
      "error:0.21810503156640407\n",
      "error:0.2172806716451345\n",
      "error:0.2164867040812825\n",
      "error:0.21572270607541222\n",
      "error:0.21498812599063832\n",
      "error:0.21428230552659755\n",
      "error:0.21360450000702053\n",
      "error:0.21295389665770503\n",
      "error:0.2123296308695136\n",
      "error:0.21173080051436524\n",
      "error:0.2111564784243209\n",
      "error:0.21060572316537246\n",
      "error:0.2100775882462667\n",
      "error:0.20957112990391566\n",
      "error:0.20908541360391297\n",
      "error:0.20861951938919174\n",
      "error:0.20817254620278336\n",
      "error:0.2077436153023752\n",
      "error:0.20733187287505384\n",
      "error:0.20693649195032804\n",
      "error:0.20655667369823447\n",
      "error:0.2061916481868998\n",
      "error:0.20584067466001116\n",
      "error:0.2055030413784418\n",
      "error:0.2051780650502781\n",
      "error:0.20486508984686375\n",
      "error:0.20456348596400523\n",
      "error:0.20427264762755207\n",
      "error:0.20399199034314314\n",
      "error:0.20372094701663734\n",
      "error:0.20345896225787435\n",
      "error:0.2032054835947637\n",
      "error:0.20295994720937627\n",
      "error:0.20272175367246667\n",
      "error:0.2024902251759489\n",
      "error:0.2022645291748503\n",
      "error:0.202043546886327\n",
      "error:0.20182568209576995\n",
      "error:0.20160874429918915\n",
      "error:0.20139048188386346\n",
      "error:0.20117055543585827\n",
      "error:0.20095226047028691\n",
      "error:0.20074006256053864\n",
      "error:0.20053594935535635\n",
      "error:0.20033958348343262\n",
      "error:0.20014995325920032\n",
      "error:0.19996617141021658\n",
      "error:0.1997875995060444\n",
      "error:0.1996137813776486\n",
      "error:0.19944436854287365\n",
      "error:0.19927907175995455\n",
      "error:0.19911763422479165\n",
      "error:0.198959817642829\n",
      "error:0.19880539506032555\n",
      "error:0.19865414704316336\n",
      "error:0.19850585948579721\n",
      "error:0.19836032223842992\n",
      "error:0.1982173281882487\n",
      "error:0.19807667264453688\n",
      "error:0.1979381529810535\n",
      "error:0.19780156854367498\n",
      "error:0.19766672086545412\n",
      "error:0.19753341425714013\n",
      "error:0.19740145686259042\n",
      "error:0.19727066228436743\n",
      "error:0.19714093033842184\n"
     ]
    }
   ],
   "source": [
    "for e in range(15000):\n",
    "\n",
    "    Z1 = Z(X, W1, b1)\n",
    "    y1 = sig(Z1)\n",
    "    Z2 = Z(y1, W2, b2)\n",
    "    y2 = soft(Z2)\n",
    "    cost1 = cost(ohe(t), y2)\n",
    "    error1 = error(cost1)\n",
    "    \n",
    "    # gradients\n",
    "    dZ2 = (ohe(t) - y2)\n",
    "    dw2 = np.dot(y1.T, dZ2)\n",
    "    db2 = (dZ2.sum(axis=0))\n",
    "    dZ1 = np.dot(dZ2, W2.T)*(y1*(1-y1))\n",
    "    dw1 = np.dot(X.T, dZ1)\n",
    "    db1 = (dZ1.sum(axis=0))\n",
    "    \n",
    "    # First moment - m\n",
    "    m_W2 = decay_m*m_W2 + (1-decay_m)*dw2\n",
    "    m_b2 = decay_m*m_b2 + (1-decay_m)*db2\n",
    "    m_W1 = decay_m*m_W1 + (1-decay_m)*dw1\n",
    "    m_b1 = decay_m*m_b1 + (1-decay_m)*db1\n",
    "\n",
    "    # Second moment - v\n",
    "    v_W2 = decay_v*v_W2 + (1-decay_v)*dw2*dw2\n",
    "    v_b2 = decay_v*v_b2 + (1-decay_v)*db2*db2\n",
    "    v_W1 = decay_v*v_W1 + (1-decay_v)*dw1*dw1\n",
    "    v_b1 = decay_v*v_b1 + (1-decay_v)*db1*db1\n",
    "\n",
    "    # Bias correction for m\n",
    "    m_hat_W2 = m_W2/(1-decay_m**tt)\n",
    "    m_hat_b2 = m_b2/(1-decay_m**tt)\n",
    "    m_hat_W1 = m_W1/(1-decay_m**tt)\n",
    "    m_hat_b1 = m_b1/(1-decay_m**tt)\n",
    "\n",
    "    # Bias correction for v\n",
    "    v_hat_W1 = v_W1/(1-decay_v**tt)\n",
    "    v_hat_b1 = v_b1/(1-decay_v**tt)\n",
    "    v_hat_W2 = v_W2/(1-decay_v**tt)\n",
    "    v_hat_b2 = v_b2/(1-decay_v**tt)\n",
    "    \n",
    "    # Update t\n",
    "    tt += 1\n",
    "    \n",
    "    W2 += (lr*m_hat_W2)/(np.sqrt(v_hat_W2 + eps))\n",
    "    b2 += (lr*m_hat_b2)/(np.sqrt(v_hat_b2 + eps))\n",
    "    W1 += (lr*m_hat_W1)/(np.sqrt(v_hat_W1 + eps))\n",
    "    b1 += (lr*m_hat_b1)/(np.sqrt(v_hat_b1 + eps))\n",
    "    \n",
    "    if e % 100 == 0:\n",
    "        err_reg.append(error1)\n",
    "        acc_reg.append(accuracy(ohe(t), y2))\n",
    "        print('error:{}'.format(error1))"
   ]
  },
  {
   "cell_type": "code",
   "execution_count": 28,
   "metadata": {},
   "outputs": [
    {
     "data": {
      "text/plain": [
       "0.9533333333333334"
      ]
     },
     "execution_count": 28,
     "metadata": {},
     "output_type": "execute_result"
    }
   ],
   "source": [
    "accuracy(ohe(t), y2)"
   ]
  },
  {
   "cell_type": "markdown",
   "metadata": {},
   "source": [
    "## Graph"
   ]
  },
  {
   "cell_type": "markdown",
   "metadata": {},
   "source": [
    "### Constant learning rate"
   ]
  },
  {
   "cell_type": "code",
   "execution_count": 29,
   "metadata": {},
   "outputs": [
    {
     "data": {
      "image/png": "[encoded data removed]",
      "text/plain": [
       "<matplotlib.figure.Figure at 0x118529eb8>"
      ]
     },
     "metadata": {},
     "output_type": "display_data"
    }
   ],
   "source": [
    "plt.plot(err_reg)\n",
    "plt.show()"
   ]
  },
  {
   "cell_type": "code",
   "execution_count": 30,
   "metadata": {},
   "outputs": [
    {
     "data": {
      "image/png": "[encoded data removed]",
      "text/plain": [
       "<matplotlib.figure.Figure at 0x11874f240>"
      ]
     },
     "metadata": {},
     "output_type": "display_data"
    }
   ],
   "source": [
    "plt.plot(acc_reg)\n",
    "plt.show()"
   ]
  },
  {
   "cell_type": "markdown",
   "metadata": {
    "collapsed": true
   },
   "source": [
    "## Decision Boundary"
   ]
  },
  {
   "cell_type": "code",
   "execution_count": 31,
   "metadata": {
    "collapsed": true
   },
   "outputs": [],
   "source": [
    "def predict_all(X):\n",
    "    Z1 = Z(X, W1, b1)\n",
    "    y1 = sig(Z1)\n",
    "    Z2 = Z(y1, W2, b2)\n",
    "    y2 = soft(Z2)\n",
    "    return np.argmax(y2, axis=1)"
   ]
  },
  {
   "cell_type": "code",
   "execution_count": 32,
   "metadata": {
    "collapsed": true
   },
   "outputs": [],
   "source": [
    "# Helper function to plot a decision boundary.\n",
    "# If you don't fully understand this function don't worry, it just generates the contour plot below.\n",
    "def plot_decision_boundary(pred_func):\n",
    "    # Set min and max values and give it some padding\n",
    "    x_min, x_max = X[:, 0].min() - .5, X[:, 0].max() + .5\n",
    "    y_min, y_max = X[:, 1].min() - .5, X[:, 1].max() + .5\n",
    "    h = 0.01\n",
    "    # Generate a grid of points with distance h between them\n",
    "    xx, yy = np.meshgrid(np.arange(x_min, x_max, h), np.arange(y_min, y_max, h))\n",
    "    # Predict the function value for the whole gid\n",
    "    Z = pred_func(np.c_[xx.ravel(), yy.ravel()])\n",
    "    Z = Z.reshape(xx.shape)\n",
    "    # Plot the contour and training examples\n",
    "    plt.figure(figsize=(8, 6), dpi=80)\n",
    "    plt.contourf(xx, yy, Z, cmap=plt.cm.brg, alpha=0.18)\n",
    "    plt.scatter(X[:, 0], X[:, 1], c=t, cmap=plt.cm.brg)\n",
    "    plt.title('MLP with Adam Decision Boundary')\n",
    "    plt.savefig('./data/MLP_Adam.png')\n",
    "    plt.show()"
   ]
  },
  {
   "cell_type": "code",
   "execution_count": 33,
   "metadata": {},
   "outputs": [
    {
     "data": {
      "image/png": "[encoded data removed]",
      "text/plain": [
       "<matplotlib.figure.Figure at 0x118903940>"
      ]
     },
     "metadata": {},
     "output_type": "display_data"
    }
   ],
   "source": [
    "plot_decision_boundary(lambda x: predict_all(x))"
   ]
  }
 ],
 "metadata": {
  "kernelspec": {
   "display_name": "Python 3",
   "language": "python",
   "name": "python3"
  },
  "language_info": {
   "codemirror_mode": {
    "name": "ipython",
    "version": 3
   },
   "file_extension": ".py",
   "mimetype": "text/x-python",
   "name": "python",
   "nbconvert_exporter": "python",
   "pygments_lexer": "ipython3",
   "version": "3.6.1"
  }
 },
 "nbformat": 4,
 "nbformat_minor": 2
}
