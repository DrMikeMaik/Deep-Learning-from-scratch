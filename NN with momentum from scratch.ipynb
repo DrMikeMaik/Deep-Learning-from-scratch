{
 "cells": [
  {
   "cell_type": "code",
   "execution_count": 1,
   "metadata": {
    "collapsed": true
   },
   "outputs": [],
   "source": [
    "import numpy as np\n",
    "import pandas as pd\n",
    "import matplotlib.pyplot as plt\n",
    "from sklearn.datasets import make_classification\n",
    "from sklearn.datasets import make_blobs"
   ]
  },
  {
   "cell_type": "code",
   "execution_count": 260,
   "metadata": {
    "collapsed": true
   },
   "outputs": [],
   "source": [
    "# set the dimensions\n",
    "N = 100\n",
    "D = 2\n",
    "M = 4\n",
    "K = 3"
   ]
  },
  {
   "cell_type": "code",
   "execution_count": 261,
   "metadata": {},
   "outputs": [],
   "source": [
    "# set the initial weights\n",
    "np.random.seed(1234)\n",
    "W1 = np.random.randn(D,M)\n",
    "b1 = np.random.randn(M)\n",
    "W2 = np.random.randn(M,K)\n",
    "b2 = np.random.randn(K)"
   ]
  },
  {
   "cell_type": "code",
   "execution_count": 262,
   "metadata": {},
   "outputs": [
    {
     "name": "stdout",
     "output_type": "stream",
     "text": [
      "(2, 4)\n",
      "(4,)\n",
      "(4, 3)\n",
      "(3,)\n"
     ]
    }
   ],
   "source": [
    "print(W1.shape)\n",
    "print(b1.shape)\n",
    "print(W2.shape)\n",
    "print(b2.shape)"
   ]
  },
  {
   "cell_type": "code",
   "execution_count": 263,
   "metadata": {},
   "outputs": [
    {
     "name": "stdout",
     "output_type": "stream",
     "text": [
      "[[ 0.47143516 -1.19097569  1.43270697 -0.3126519 ]\n",
      " [-0.72058873  0.88716294  0.85958841 -0.6365235 ]]\n",
      "\n",
      "[ 0.01569637 -2.24268495  1.15003572  0.99194602]\n"
     ]
    }
   ],
   "source": [
    "print(W1)\n",
    "print()\n",
    "print(b1)"
   ]
  },
  {
   "cell_type": "code",
   "execution_count": 264,
   "metadata": {},
   "outputs": [
    {
     "name": "stdout",
     "output_type": "stream",
     "text": [
      "[[ 0.95332413 -2.02125482 -0.33407737]\n",
      " [ 0.00211836  0.40545341  0.28909194]\n",
      " [ 1.32115819 -1.54690555 -0.20264632]\n",
      " [-0.65596934  0.19342138  0.55343891]]\n",
      "\n",
      "[ 1.31815155 -0.46930528  0.67555409]\n"
     ]
    }
   ],
   "source": [
    "print(W2)\n",
    "print()\n",
    "print(b2)"
   ]
  },
  {
   "cell_type": "code",
   "execution_count": 7,
   "metadata": {
    "collapsed": true
   },
   "outputs": [],
   "source": [
    "# X, t = make_classification(n_samples=N, n_features=D, n_classes=K, n_redundant=0, \n",
    "#                            n_informative=D, n_clusters_per_class=1)\n",
    "X, t = make_blobs(n_features=2, centers=3)"
   ]
  },
  {
   "cell_type": "code",
   "execution_count": 8,
   "metadata": {},
   "outputs": [
    {
     "name": "stdout",
     "output_type": "stream",
     "text": [
      "(100, 2)\n",
      "(100,)\n"
     ]
    }
   ],
   "source": [
    "print(X.shape)\n",
    "print(t.shape)"
   ]
  },
  {
   "cell_type": "code",
   "execution_count": 9,
   "metadata": {
    "collapsed": true
   },
   "outputs": [],
   "source": [
    "X1 = pd.DataFrame(X, columns=['f1', 'f2'])\n",
    "t1 = pd.DataFrame(t, columns=['target'])\n",
    "df = pd.concat([X1, t1], axis=1)"
   ]
  },
  {
   "cell_type": "markdown",
   "metadata": {},
   "source": [
    "## Graph"
   ]
  },
  {
   "cell_type": "code",
   "execution_count": 35,
   "metadata": {},
   "outputs": [
    {
     "data": {
      "image/png": "[encoded data removed]",
      "text/plain": [
       "<matplotlib.figure.Figure at 0x10e5c77b8>"
      ]
     },
     "metadata": {},
     "output_type": "display_data"
    }
   ],
   "source": [
    "plt.scatter(df.loc[df['target']==0, 'f1'], df.loc[df['target']==0, 'f2'],\n",
    "           label = 't1')\n",
    "plt.scatter(df.loc[df['target']==1, 'f1'], df.loc[df['target']==1, 'f2'],\n",
    "            label = 't2')\n",
    "plt.scatter(df.loc[df['target']==2, 'f1'], df.loc[df['target']==2, 'f2'],\n",
    "            label = 't3')\n",
    "plt.legend()\n",
    "plt.show()"
   ]
  },
  {
   "cell_type": "markdown",
   "metadata": {},
   "source": [
    "## Log reg"
   ]
  },
  {
   "cell_type": "code",
   "execution_count": 265,
   "metadata": {
    "collapsed": true
   },
   "outputs": [],
   "source": [
    "def Z(X, W, b):\n",
    "    return np.dot(X, W) + b"
   ]
  },
  {
   "cell_type": "code",
   "execution_count": 266,
   "metadata": {
    "collapsed": true
   },
   "outputs": [],
   "source": [
    "def sig(Z):\n",
    "    return 1/(1+np.exp(-Z))"
   ]
  },
  {
   "cell_type": "code",
   "execution_count": 267,
   "metadata": {
    "collapsed": true
   },
   "outputs": [],
   "source": [
    "def soft(Z):\n",
    "    exp_Z = np.exp(Z)\n",
    "    return exp_Z/np.sum(exp_Z, axis=1, keepdims=True)"
   ]
  },
  {
   "cell_type": "code",
   "execution_count": 268,
   "metadata": {},
   "outputs": [
    {
     "data": {
      "text/plain": [
       "(100, 4)"
      ]
     },
     "execution_count": 268,
     "metadata": {},
     "output_type": "execute_result"
    }
   ],
   "source": [
    "Z1 = Z(X, W1, b1)\n",
    "Z1.shape"
   ]
  },
  {
   "cell_type": "code",
   "execution_count": 269,
   "metadata": {},
   "outputs": [
    {
     "data": {
      "text/plain": [
       "(100, 4)"
      ]
     },
     "execution_count": 269,
     "metadata": {},
     "output_type": "execute_result"
    }
   ],
   "source": [
    "y1 = sig(Z1)\n",
    "y1.shape"
   ]
  },
  {
   "cell_type": "code",
   "execution_count": 270,
   "metadata": {},
   "outputs": [
    {
     "data": {
      "text/plain": [
       "(100, 3)"
      ]
     },
     "execution_count": 270,
     "metadata": {},
     "output_type": "execute_result"
    }
   ],
   "source": [
    "Z2 = Z(y1, W2, b2)\n",
    "Z2.shape"
   ]
  },
  {
   "cell_type": "code",
   "execution_count": 271,
   "metadata": {},
   "outputs": [
    {
     "data": {
      "text/plain": [
       "(100, 3)"
      ]
     },
     "execution_count": 271,
     "metadata": {},
     "output_type": "execute_result"
    }
   ],
   "source": [
    "y2 = soft(Z2)\n",
    "y2.shape"
   ]
  },
  {
   "cell_type": "code",
   "execution_count": 272,
   "metadata": {
    "collapsed": true
   },
   "outputs": [],
   "source": [
    "def ohe(t):\n",
    "    result = np.zeros((N,K))\n",
    "    for i in range(len(t)):\n",
    "        result[i, t[i]] = 1\n",
    "    return result"
   ]
  },
  {
   "cell_type": "code",
   "execution_count": 273,
   "metadata": {
    "collapsed": true
   },
   "outputs": [],
   "source": [
    "def cost(t, y):\n",
    "    return -t*np.log(y)"
   ]
  },
  {
   "cell_type": "code",
   "execution_count": 274,
   "metadata": {},
   "outputs": [
    {
     "data": {
      "text/plain": [
       "(100, 3)"
      ]
     },
     "execution_count": 274,
     "metadata": {},
     "output_type": "execute_result"
    }
   ],
   "source": [
    "cost1 = cost(ohe(t), y2)\n",
    "cost1.shape"
   ]
  },
  {
   "cell_type": "code",
   "execution_count": 275,
   "metadata": {
    "collapsed": true
   },
   "outputs": [],
   "source": [
    "def error(cost):\n",
    "    return (cost.sum())/N"
   ]
  },
  {
   "cell_type": "code",
   "execution_count": 276,
   "metadata": {},
   "outputs": [
    {
     "data": {
      "text/plain": [
       "2.813553115408155"
      ]
     },
     "execution_count": 276,
     "metadata": {},
     "output_type": "execute_result"
    }
   ],
   "source": [
    "err0 = error(cost1)\n",
    "err0"
   ]
  },
  {
   "cell_type": "code",
   "execution_count": 277,
   "metadata": {
    "collapsed": true
   },
   "outputs": [],
   "source": [
    "def accuracy(t, y):\n",
    "    return (t==np.round(y)).mean()"
   ]
  },
  {
   "cell_type": "code",
   "execution_count": 278,
   "metadata": {},
   "outputs": [
    {
     "data": {
      "text/plain": [
       "0.56"
      ]
     },
     "execution_count": 278,
     "metadata": {},
     "output_type": "execute_result"
    }
   ],
   "source": [
    "acc0 = accuracy(ohe(t), y2)\n",
    "acc0"
   ]
  },
  {
   "cell_type": "code",
   "execution_count": 279,
   "metadata": {
    "collapsed": true
   },
   "outputs": [],
   "source": [
    "err_reg = [err0]\n",
    "acc_reg = [acc0]\n",
    "\n",
    "# err_mom = [err0]\n",
    "# acc_mom = [acc0]\n",
    "\n",
    "# err_nest = [err0]\n",
    "# acc_nest = [acc0]"
   ]
  },
  {
   "cell_type": "code",
   "execution_count": 280,
   "metadata": {
    "scrolled": true
   },
   "outputs": [
    {
     "name": "stdout",
     "output_type": "stream",
     "text": [
      "initial error: 2.813553115408155\n",
      "error:2.813553115408155\n",
      "error:2.285110243590148\n",
      "error:2.0904492230029357\n",
      "error:1.971531964689126\n",
      "error:1.8743220724294736\n",
      "error:1.7884435825878546\n",
      "error:1.7105949820138955\n",
      "error:1.639258204765564\n",
      "error:1.573513169381364\n",
      "error:1.512689897410827\n",
      "error:1.4562471205223637\n",
      "error:1.4037233756292045\n",
      "error:1.3547142315957599\n",
      "error:1.3088603151488842\n",
      "error:1.2658406208143622\n",
      "error:1.225368695465633\n",
      "error:1.1871902950944202\n",
      "error:1.1510815781465822\n",
      "error:1.1168472641825518\n",
      "error:1.084318498202735\n",
      "error:1.0533503872869863\n",
      "error:1.0238193046092916\n",
      "error:0.9956201031797508\n",
      "error:0.9686633770535831\n",
      "error:0.942872878154615\n",
      "error:0.9181831607480714\n",
      "error:0.8945374929012799\n",
      "error:0.871886048827273\n",
      "error:0.8501843781701038\n",
      "error:0.8293921368630345\n",
      "error:0.8094720575585391\n",
      "error:0.7903891343150856\n",
      "error:0.7721099950822372\n",
      "error:0.7546024357462778\n",
      "error:0.7378350905561243\n",
      "error:0.7217772153167354\n",
      "error:0.7063985616171996\n",
      "error:0.6916693224319799\n",
      "error:0.6775601316153756\n",
      "error:0.6640421020386452\n",
      "error:0.6510868893416537\n",
      "error:0.6386667704353274\n",
      "error:0.6267547279504853\n",
      "error:0.6153245337414555\n",
      "error:0.6043508262859675\n",
      "error:0.5938091783525936\n",
      "error:0.5836761526203703\n",
      "error:0.5739293440292645\n",
      "error:0.5645474085210688\n",
      "error:0.555510078511749\n",
      "error:0.5467981659373801\n",
      "error:0.5383935540591989\n",
      "error:0.5302791794232478\n",
      "error:0.5224390054709264\n",
      "error:0.5148579893117001\n",
      "error:0.5075220431194163\n",
      "error:0.5004179915178043\n",
      "error:0.49353352619458357\n",
      "error:0.4868571588402002\n",
      "error:0.48037817335683164\n",
      "error:0.4740865781337905\n",
      "error:0.4679730590425071\n",
      "error:0.46202893367174286\n",
      "error:0.4562461072039882\n",
      "error:0.45061703022830235\n",
      "error:0.4451346586935084\n",
      "error:0.43979241612828557\n",
      "error:0.43458415819052365\n",
      "error:0.4295041395561994\n",
      "error:0.4245469831167743\n",
      "error:0.41970765142233746\n",
      "error:0.4149814202841378\n",
      "error:0.4103638544334822\n",
      "error:0.4058507851230567\n",
      "error:0.40143828955051064\n",
      "error:0.3971226719816508\n",
      "error:0.3929004464510524\n",
      "error:0.3887683209205579\n",
      "error:0.38472318278045015\n",
      "error:0.38076208558353786\n",
      "error:0.37688223690859646\n",
      "error:0.373080987256235\n",
      "error:0.36935581988707583\n",
      "error:0.365704341518919\n",
      "error:0.3621242738062208\n",
      "error:0.3586134455315819\n",
      "error:0.3551697854450083\n",
      "error:0.35179131569239075\n",
      "error:0.3484761457799362\n",
      "error:0.345222467026183\n",
      "error:0.3420285474577167\n",
      "error:0.33889272710882695\n",
      "error:0.33581341368906886\n",
      "error:0.3327890785861196\n",
      "error:0.329818253174376\n",
      "error:0.3268995254025461\n",
      "error:0.3240315366359846\n",
      "error:0.32121297873181137\n",
      "error:0.31844259132688363\n",
      "error:0.3157191593205467\n",
      "error:0.3130415105357538\n",
      "error:0.3104085135436396\n",
      "error:0.30781907563799515\n",
      "error:0.30527214094731225\n",
      "error:0.30276668867316975\n",
      "error:0.3003017314447376\n",
      "error:0.29787631378007867\n",
      "error:0.2954895106457463\n",
      "error:0.29314042610692426\n",
      "error:0.2908281920610259\n",
      "error:0.2885519670482858\n",
      "error:0.2863109351334312\n",
      "error:0.28410430485303056\n",
      "error:0.2819313082235748\n",
      "error:0.2797911998057684\n",
      "error:0.2776832558208876\n",
      "error:0.2756067733154142\n",
      "error:0.27356106937047064\n",
      "error:0.27154548035286846\n",
      "error:0.2695593612048486\n",
      "error:0.26760208476983705\n",
      "error:0.26567304115175033\n",
      "error:0.2637716371055948\n",
      "error:0.26189729545727963\n",
      "error:0.26004945455073886\n",
      "error:0.2582275677206017\n",
      "error:0.2564311027887953\n",
      "error:0.2546595415835906\n",
      "error:0.2529123794797186\n",
      "error:0.2511891249582869\n",
      "error:0.24948929918532955\n",
      "error:0.24781243560790894\n",
      "error:0.24615807956676566\n",
      "error:0.2445257879245952\n",
      "error:0.24291512870909104\n",
      "error:0.24132568076995964\n",
      "error:0.23975703344916513\n",
      "error:0.2382087862637214\n",
      "error:0.23668054860038876\n",
      "error:0.23517193942168135\n",
      "error:0.23368258698262948\n",
      "error:0.23221212855777884\n",
      "error:0.23076021017794218\n",
      "error:0.2293264863762478\n",
      "error:0.2279106199430637\n",
      "error:0.22651228168939544\n",
      "error:0.2251311502183851\n",
      "error:0.2237669117045587\n",
      "error:0.22241925968049156\n",
      "error:0.2210878948305781\n"
     ]
    }
   ],
   "source": [
    "lr = 0.00001\n",
    "mu = 0.9\n",
    "vw1 = 0\n",
    "vw2 = 0\n",
    "vb1 = 0\n",
    "vb2 = 0\n",
    "\n",
    "print('initial error: {}'.format(err0))\n",
    "\n",
    "for e in range(15000):\n",
    "\n",
    "    Z1 = Z(X, W1, b1)\n",
    "    y1 = sig(Z1)\n",
    "    Z2 = Z(y1, W2, b2)\n",
    "    y2 = soft(Z2)\n",
    "    cost1 = cost(ohe(t), y2)\n",
    "    error1 = error(cost1)\n",
    "    \n",
    "    dZ2 = (ohe(t) - y2)\n",
    "    dw2 = np.dot(y1.T, dZ2)\n",
    "    db2 = (dZ2.sum(axis=0))\n",
    "    \n",
    "    dZ1 = np.dot(dZ2, W2.T)*(y1*(1-y1))\n",
    "    dw1 = np.dot(X.T, dZ1)\n",
    "    db1 = (dZ1.sum(axis=0))  \n",
    "\n",
    "    # No momentum\n",
    "#     W2 += lr*dw2\n",
    "#     b2 += lr*db2\n",
    "#     W1 += lr*dw1\n",
    "#     b1 += lr*db1\n",
    "\n",
    "    vw2 = lr*dw2 - mu*vw2\n",
    "    vb2 = lr*db2 - mu*vb2\n",
    "    vw1 = lr*dw1 - mu*vw1\n",
    "    vb1 = lr*db1 - mu*vb1\n",
    "    \n",
    "#     # Regular Momentum\n",
    "#     W2 += vw2\n",
    "#     b2 += vb2\n",
    "#     W1 += vw1\n",
    "#     b1 += vb1\n",
    "\n",
    "    # Nesterov Momentum\n",
    "    W2 += lr*dw2 - mu*vw2\n",
    "    b2 += lr*db2 - mu*vb2\n",
    "    W1 += lr*dw1 - mu*vw1\n",
    "    b1 += lr*db1 - mu*vb1\n",
    "    \n",
    "    if e % 100 == 0:\n",
    "        err_reg.append(error1)\n",
    "        acc_reg.append(accuracy(ohe(t), y2))\n",
    "        print('error:{}'.format(error1))"
   ]
  },
  {
   "cell_type": "code",
   "execution_count": 281,
   "metadata": {},
   "outputs": [
    {
     "data": {
      "text/plain": [
       "1.0"
      ]
     },
     "execution_count": 281,
     "metadata": {},
     "output_type": "execute_result"
    }
   ],
   "source": [
    "accuracy(ohe(t), y2)"
   ]
  },
  {
   "cell_type": "markdown",
   "metadata": {
    "collapsed": true
   },
   "source": [
    "## Graph"
   ]
  },
  {
   "cell_type": "markdown",
   "metadata": {},
   "source": [
    "### Regular"
   ]
  },
  {
   "cell_type": "code",
   "execution_count": 282,
   "metadata": {},
   "outputs": [
    {
     "data": {
      "image/png": "[encoded data removed]",
      "text/plain": [
       "<matplotlib.figure.Figure at 0x10ed25f60>"
      ]
     },
     "metadata": {},
     "output_type": "display_data"
    }
   ],
   "source": [
    "plt.plot(err_reg)\n",
    "plt.show()"
   ]
  },
  {
   "cell_type": "code",
   "execution_count": 283,
   "metadata": {},
   "outputs": [
    {
     "data": {
      "image/png": "[encoded data removed]",
      "text/plain": [
       "<matplotlib.figure.Figure at 0x10f6fe240>"
      ]
     },
     "metadata": {},
     "output_type": "display_data"
    }
   ],
   "source": [
    "plt.plot(acc_reg)\n",
    "plt.show()"
   ]
  },
  {
   "cell_type": "markdown",
   "metadata": {},
   "source": [
    "### Momentum"
   ]
  },
  {
   "cell_type": "code",
   "execution_count": 284,
   "metadata": {},
   "outputs": [
    {
     "data": {
      "image/png": "[encoded data removed]",
      "text/plain": [
       "<matplotlib.figure.Figure at 0x10e629e10>"
      ]
     },
     "metadata": {},
     "output_type": "display_data"
    }
   ],
   "source": [
    "plt.plot(err_mom)\n",
    "plt.show()"
   ]
  },
  {
   "cell_type": "code",
   "execution_count": 285,
   "metadata": {},
   "outputs": [
    {
     "data": {
      "image/png": "[encoded data removed]",
      "text/plain": [
       "<matplotlib.figure.Figure at 0x10f6b6e80>"
      ]
     },
     "metadata": {},
     "output_type": "display_data"
    }
   ],
   "source": [
    "plt.plot(acc_mom)\n",
    "plt.show()"
   ]
  },
  {
   "cell_type": "markdown",
   "metadata": {},
   "source": [
    "### Nesterov momentum"
   ]
  },
  {
   "cell_type": "code",
   "execution_count": 286,
   "metadata": {},
   "outputs": [
    {
     "data": {
      "image/png": "[encoded data removed]",
      "text/plain": [
       "<matplotlib.figure.Figure at 0x1030f1668>"
      ]
     },
     "metadata": {},
     "output_type": "display_data"
    }
   ],
   "source": [
    "plt.plot(err_nest)\n",
    "plt.show()"
   ]
  },
  {
   "cell_type": "code",
   "execution_count": 287,
   "metadata": {},
   "outputs": [
    {
     "data": {
      "image/png": "[encoded data removed]",
      "text/plain": [
       "<matplotlib.figure.Figure at 0x10eb07080>"
      ]
     },
     "metadata": {},
     "output_type": "display_data"
    }
   ],
   "source": [
    "plt.plot(acc_nest)\n",
    "plt.show()"
   ]
  },
  {
   "cell_type": "markdown",
   "metadata": {},
   "source": [
    "### ALL"
   ]
  },
  {
   "cell_type": "code",
   "execution_count": 298,
   "metadata": {},
   "outputs": [
    {
     "data": {
      "image/png": "[encoded data removed]",
      "text/plain": [
       "<matplotlib.figure.Figure at 0x10eb2d5c0>"
      ]
     },
     "metadata": {},
     "output_type": "display_data"
    }
   ],
   "source": [
    "plt.figure(figsize=(10,6))\n",
    "plt.plot(err_reg, label='reg')\n",
    "plt.plot(err_mom, label='mom')\n",
    "plt.plot(err_nest, label='nest')\n",
    "plt.legend()\n",
    "plt.show()"
   ]
  },
  {
   "cell_type": "code",
   "execution_count": 299,
   "metadata": {},
   "outputs": [
    {
     "data": {
      "image/png": "[encoded data removed]",
      "text/plain": [
       "<matplotlib.figure.Figure at 0x10eb474a8>"
      ]
     },
     "metadata": {},
     "output_type": "display_data"
    }
   ],
   "source": [
    "plt.figure(figsize=(10,6))\n",
    "plt.plot(acc_reg, label='reg')\n",
    "plt.plot(acc_mom, label='mom')\n",
    "plt.plot(acc_nest, label='nest')\n",
    "plt.legend()\n",
    "plt.show()"
   ]
  },
  {
   "cell_type": "code",
   "execution_count": null,
   "metadata": {
    "collapsed": true
   },
   "outputs": [],
   "source": []
  }
 ],
 "metadata": {
  "kernelspec": {
   "display_name": "Python 3",
   "language": "python",
   "name": "python3"
  },
  "language_info": {
   "codemirror_mode": {
    "name": "ipython",
    "version": 3
   },
   "file_extension": ".py",
   "mimetype": "text/x-python",
   "name": "python",
   "nbconvert_exporter": "python",
   "pygments_lexer": "ipython3",
   "version": "3.6.1"
  }
 },
 "nbformat": 4,
 "nbformat_minor": 2
}
