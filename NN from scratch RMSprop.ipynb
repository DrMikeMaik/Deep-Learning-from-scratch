{
 "cells": [
  {
   "cell_type": "code",
   "execution_count": 59,
   "metadata": {
    "collapsed": true
   },
   "outputs": [],
   "source": [
    "import numpy as np\n",
    "import pandas as pd\n",
    "import matplotlib.pyplot as plt\n",
    "from sklearn.datasets import make_classification\n",
    "from sklearn.datasets import make_blobs"
   ]
  },
  {
   "cell_type": "code",
   "execution_count": 60,
   "metadata": {
    "collapsed": true
   },
   "outputs": [],
   "source": [
    "# set the dimensions\n",
    "N = 100\n",
    "D = 2\n",
    "M = 4\n",
    "K = 3"
   ]
  },
  {
   "cell_type": "code",
   "execution_count": 61,
   "metadata": {
    "collapsed": true
   },
   "outputs": [],
   "source": [
    "# set the initial weights\n",
    "# np.random.seed(1234)\n",
    "W1 = np.random.randn(D,M)\n",
    "b1 = np.random.randn(M)\n",
    "W2 = np.random.randn(M,K)\n",
    "b2 = np.random.randn(K)"
   ]
  },
  {
   "cell_type": "code",
   "execution_count": 62,
   "metadata": {},
   "outputs": [
    {
     "name": "stdout",
     "output_type": "stream",
     "text": [
      "(2, 4)\n",
      "(4,)\n",
      "(4, 3)\n",
      "(3,)\n"
     ]
    }
   ],
   "source": [
    "print(W1.shape)\n",
    "print(b1.shape)\n",
    "print(W2.shape)\n",
    "print(b2.shape)"
   ]
  },
  {
   "cell_type": "code",
   "execution_count": 63,
   "metadata": {},
   "outputs": [
    {
     "name": "stdout",
     "output_type": "stream",
     "text": [
      "[[ 2.07394583 -0.09839348  0.43811088  1.14706488]\n",
      " [ 0.87551437  1.9246731  -0.22744765  0.58334861]]\n",
      "\n",
      "[-0.14101262 -1.76571508  0.96020213 -1.0573882 ]\n"
     ]
    }
   ],
   "source": [
    "print(W1)\n",
    "print()\n",
    "print(b1)"
   ]
  },
  {
   "cell_type": "code",
   "execution_count": 64,
   "metadata": {},
   "outputs": [
    {
     "name": "stdout",
     "output_type": "stream",
     "text": [
      "[[ 1.63207233 -1.04087209 -0.87127164]\n",
      " [-1.19594236 -0.94797405 -0.34267317]\n",
      " [-0.35590583  1.15603368  0.76223269]\n",
      " [-0.53995729 -1.27245464  1.09381318]]\n",
      "\n",
      "[ 0.79408433 -0.35811502 -0.2841488 ]\n"
     ]
    }
   ],
   "source": [
    "print(W2)\n",
    "print()\n",
    "print(b2)"
   ]
  },
  {
   "cell_type": "code",
   "execution_count": 69,
   "metadata": {
    "collapsed": true
   },
   "outputs": [],
   "source": [
    "# X, t = make_classification(n_samples=N, n_features=D, n_classes=K, n_redundant=0, \n",
    "#                            n_informative=D, n_clusters_per_class=1)\n",
    "X, t = make_blobs(n_features=2, centers=3)"
   ]
  },
  {
   "cell_type": "code",
   "execution_count": 70,
   "metadata": {},
   "outputs": [
    {
     "name": "stdout",
     "output_type": "stream",
     "text": [
      "(100, 2)\n",
      "(100,)\n"
     ]
    }
   ],
   "source": [
    "print(X.shape)\n",
    "print(t.shape)"
   ]
  },
  {
   "cell_type": "code",
   "execution_count": 71,
   "metadata": {
    "collapsed": true
   },
   "outputs": [],
   "source": [
    "X1 = pd.DataFrame(X, columns=['f1', 'f2'])\n",
    "t1 = pd.DataFrame(t, columns=['target'])\n",
    "df = pd.concat([X1, t1], axis=1)"
   ]
  },
  {
   "cell_type": "markdown",
   "metadata": {},
   "source": [
    "## Graph"
   ]
  },
  {
   "cell_type": "code",
   "execution_count": 72,
   "metadata": {},
   "outputs": [
    {
     "data": {
      "image/png": "[encoded data removed]",
      "text/plain": [
       "<matplotlib.figure.Figure at 0x111358b38>"
      ]
     },
     "metadata": {},
     "output_type": "display_data"
    }
   ],
   "source": [
    "plt.scatter(df.loc[df['target']==0, 'f1'], df.loc[df['target']==0, 'f2'],\n",
    "           label = 't1')\n",
    "plt.scatter(df.loc[df['target']==1, 'f1'], df.loc[df['target']==1, 'f2'],\n",
    "            label = 't2')\n",
    "plt.scatter(df.loc[df['target']==2, 'f1'], df.loc[df['target']==2, 'f2'],\n",
    "            label = 't3')\n",
    "plt.legend()\n",
    "plt.show()"
   ]
  },
  {
   "cell_type": "markdown",
   "metadata": {},
   "source": [
    "## Log reg"
   ]
  },
  {
   "cell_type": "code",
   "execution_count": 73,
   "metadata": {
    "collapsed": true
   },
   "outputs": [],
   "source": [
    "def Z(X, W, b):\n",
    "    return np.dot(X, W) + b"
   ]
  },
  {
   "cell_type": "code",
   "execution_count": 74,
   "metadata": {
    "collapsed": true
   },
   "outputs": [],
   "source": [
    "def sig(Z):\n",
    "    return 1/(1+np.exp(-Z))"
   ]
  },
  {
   "cell_type": "code",
   "execution_count": 75,
   "metadata": {
    "collapsed": true
   },
   "outputs": [],
   "source": [
    "def soft(Z):\n",
    "    exp_Z = np.exp(Z)\n",
    "    return exp_Z/np.sum(exp_Z, axis=1, keepdims=True)"
   ]
  },
  {
   "cell_type": "code",
   "execution_count": 76,
   "metadata": {},
   "outputs": [
    {
     "data": {
      "text/plain": [
       "(100, 4)"
      ]
     },
     "execution_count": 76,
     "metadata": {},
     "output_type": "execute_result"
    }
   ],
   "source": [
    "Z1 = Z(X, W1, b1)\n",
    "Z1.shape"
   ]
  },
  {
   "cell_type": "code",
   "execution_count": 77,
   "metadata": {},
   "outputs": [
    {
     "data": {
      "text/plain": [
       "(100, 4)"
      ]
     },
     "execution_count": 77,
     "metadata": {},
     "output_type": "execute_result"
    }
   ],
   "source": [
    "y1 = sig(Z1)\n",
    "y1.shape"
   ]
  },
  {
   "cell_type": "code",
   "execution_count": 78,
   "metadata": {},
   "outputs": [
    {
     "data": {
      "text/plain": [
       "(100, 3)"
      ]
     },
     "execution_count": 78,
     "metadata": {},
     "output_type": "execute_result"
    }
   ],
   "source": [
    "Z2 = Z(y1, W2, b2)\n",
    "Z2.shape"
   ]
  },
  {
   "cell_type": "code",
   "execution_count": 79,
   "metadata": {},
   "outputs": [
    {
     "data": {
      "text/plain": [
       "(100, 3)"
      ]
     },
     "execution_count": 79,
     "metadata": {},
     "output_type": "execute_result"
    }
   ],
   "source": [
    "y2 = soft(Z2)\n",
    "y2.shape"
   ]
  },
  {
   "cell_type": "code",
   "execution_count": 80,
   "metadata": {
    "collapsed": true
   },
   "outputs": [],
   "source": [
    "def ohe(t):\n",
    "    result = np.zeros((N,K))\n",
    "    for i in range(len(t)):\n",
    "        result[i, t[i]] = 1\n",
    "    return result"
   ]
  },
  {
   "cell_type": "code",
   "execution_count": 81,
   "metadata": {
    "collapsed": true
   },
   "outputs": [],
   "source": [
    "def cost(t, y):\n",
    "    return -t*np.log(y)"
   ]
  },
  {
   "cell_type": "code",
   "execution_count": 82,
   "metadata": {},
   "outputs": [
    {
     "data": {
      "text/plain": [
       "(100, 3)"
      ]
     },
     "execution_count": 82,
     "metadata": {},
     "output_type": "execute_result"
    }
   ],
   "source": [
    "cost1 = cost(ohe(t), y2)\n",
    "cost1.shape"
   ]
  },
  {
   "cell_type": "code",
   "execution_count": 83,
   "metadata": {
    "collapsed": true
   },
   "outputs": [],
   "source": [
    "def error(cost):\n",
    "    return (cost.sum())/N"
   ]
  },
  {
   "cell_type": "code",
   "execution_count": 84,
   "metadata": {},
   "outputs": [
    {
     "data": {
      "text/plain": [
       "1.1084351843942966"
      ]
     },
     "execution_count": 84,
     "metadata": {},
     "output_type": "execute_result"
    }
   ],
   "source": [
    "err0 = error(cost1)\n",
    "err0"
   ]
  },
  {
   "cell_type": "code",
   "execution_count": 85,
   "metadata": {
    "collapsed": true
   },
   "outputs": [],
   "source": [
    "def accuracy(t, y):\n",
    "    return (t==np.round(y)).mean()"
   ]
  },
  {
   "cell_type": "code",
   "execution_count": 86,
   "metadata": {},
   "outputs": [
    {
     "data": {
      "text/plain": [
       "0.52"
      ]
     },
     "execution_count": 86,
     "metadata": {},
     "output_type": "execute_result"
    }
   ],
   "source": [
    "acc0 = accuracy(ohe(t), y2)\n",
    "acc0"
   ]
  },
  {
   "cell_type": "code",
   "execution_count": 87,
   "metadata": {
    "collapsed": true
   },
   "outputs": [],
   "source": [
    "err_reg = [err0]\n",
    "acc_reg = [acc0]"
   ]
  },
  {
   "cell_type": "code",
   "execution_count": 88,
   "metadata": {},
   "outputs": [
    {
     "name": "stdout",
     "output_type": "stream",
     "text": [
      "initial error: 1.1084351843942966\n"
     ]
    }
   ],
   "source": [
    "lr = 0.001\n",
    "cache_W1 = 0\n",
    "cache_b1 = 0\n",
    "cache_W2 = 0\n",
    "cache_b2 = 0\n",
    "decay = 0.99\n",
    "eps = 10e-8\n",
    "\n",
    "print('initial error: {}'.format(err0))"
   ]
  },
  {
   "cell_type": "code",
   "execution_count": 89,
   "metadata": {
    "scrolled": true
   },
   "outputs": [
    {
     "name": "stdout",
     "output_type": "stream",
     "text": [
      "error:1.1084351843942966\n",
      "error:0.6880694231456559\n",
      "error:0.5521938758622398\n",
      "error:0.4726685660741265\n",
      "error:0.41304078931924665\n",
      "error:0.35913526623803077\n",
      "error:0.3125842953196966\n",
      "error:0.2734962491710765\n",
      "error:0.24005519138821477\n",
      "error:0.21122882054686787\n",
      "error:0.18633022661770832\n",
      "error:0.1647962692021741\n",
      "error:0.1461378216757888\n",
      "error:0.1299348801231036\n",
      "error:0.11581968254477794\n",
      "error:0.10349297499025459\n",
      "error:0.0926936750497903\n",
      "error:0.08320305828959398\n",
      "error:0.07483565877570542\n",
      "error:0.06743339917152076\n",
      "error:0.06085985341929316\n",
      "error:0.05499497052120605\n",
      "error:0.04973630626124631\n",
      "error:0.045005849358267375\n",
      "error:0.0407433972065102\n",
      "error:0.036897201971699496\n",
      "error:0.033421649168596634\n",
      "error:0.030276668129267294\n",
      "error:0.02742715474696933\n",
      "error:0.02484259424016596\n",
      "error:0.02249702534345925\n",
      "error:0.020368614950071563\n",
      "error:0.018438315801485517\n",
      "error:0.01668871395489189\n",
      "error:0.015103644864072598\n",
      "error:0.013668155121541223\n",
      "error:0.012368503046311272\n",
      "error:0.011192124403033814\n",
      "error:0.010127564668538409\n",
      "error:0.009164394178094752\n",
      "error:0.008293120609723516\n",
      "error:0.007505106705181424\n",
      "error:0.006792495692904072\n",
      "error:0.0061481441643151495\n",
      "error:0.0055655612908472995\n",
      "error:0.005038853249609275\n",
      "error:0.004562672045603149\n",
      "error:0.004132168258110379\n",
      "error:0.0037429474229211\n",
      "error:0.003391029816174499\n",
      "error:0.0030728134164200037\n",
      "error:0.0027850398312433823\n",
      "error:0.002524762988347\n",
      "error:0.0022893204044039527\n",
      "error:0.002076306856196917\n",
      "error:0.00188355028755289\n",
      "error:0.001709089793193877\n",
      "error:0.0015511555275306377\n",
      "error:0.0014081503929293893\n",
      "error:0.0012786333679879064\n",
      "error:0.0011613043416218694\n",
      "error:0.0010549903235727168\n",
      "error:0.000958632908866016\n",
      "error:0.0008712768911716895\n",
      "error:0.0007920599656489932\n",
      "error:0.0007202035510392932\n",
      "error:0.0006550048449728963\n",
      "error:0.0005958301205418261\n",
      "error:0.0005421088572976989\n",
      "error:0.0004933279915840951\n",
      "error:0.00044902592643409863\n",
      "error:0.0004087865928730721\n",
      "error:0.0003722340490913632\n",
      "error:0.00033902785627623914\n",
      "error:0.00030885920675028446\n",
      "error:0.0002814476743345612\n",
      "error:0.0002565384527728855\n",
      "error:0.00023389997260112508\n",
      "error:0.00021332182522934302\n",
      "error:0.00019461298686333762\n",
      "error:0.0001775998545886073\n",
      "error:0.00016212478417746464\n",
      "error:0.00014804477300268533\n",
      "error:0.00013523014666478892\n",
      "error:0.00012356339989742877\n",
      "error:0.0001129381217902827\n",
      "error:0.00010325800420972753\n",
      "error:9.443592636912365e-05\n",
      "error:8.639310872740947e-05\n",
      "error:7.905833112939565e-05\n",
      "error:7.236721171231991e-05\n",
      "error:6.626154411284398e-05\n",
      "error:6.068869089467889e-05\n",
      "error:5.5601031031915236e-05\n",
      "error:5.095545893867059e-05\n",
      "error:4.6712932108452735e-05\n",
      "error:4.283806404761433e-05\n",
      "error:3.9298758920874104e-05\n",
      "error:3.606588419573811e-05\n",
      "error:3.3112977567468087e-05\n",
      "error:3.0415984544971496e-05\n",
      "error:2.795302325399868e-05\n",
      "error:2.5704173242933918e-05\n",
      "error:2.365128534398673e-05\n",
      "error:2.1777809934545076e-05\n",
      "error:2.0068641262334105e-05\n",
      "error:1.8509975839672304e-05\n",
      "error:1.7089183284452375e-05\n",
      "error:1.579468838503497e-05\n",
      "error:1.4615863586529623e-05\n",
      "error:1.3542931508822294e-05\n",
      "error:1.2566877470097741e-05\n",
      "error:1.167937224231375e-05\n",
      "error:1.0872705338349571e-05\n",
      "error:1.013972897909793e-05\n",
      "error:9.473812503957507e-06\n",
      "error:8.868806431817173e-06\n",
      "error:8.319014765838659e-06\n",
      "error:7.819173623392254e-06\n",
      "error:7.364433989149674e-06\n",
      "error:6.9503464201987635e-06\n",
      "error:6.572845852071247e-06\n",
      "error:6.22823518618616e-06\n",
      "error:5.913166946673657e-06\n",
      "error:5.624622859769969e-06\n",
      "error:5.359891645409255e-06\n",
      "error:5.116545581858688e-06\n",
      "error:4.892416519685505e-06\n",
      "error:4.685572011763421e-06\n",
      "error:4.494292137040668e-06\n",
      "error:4.317047467095733e-06\n",
      "error:4.152478485861499e-06\n",
      "error:3.999376646469569e-06\n",
      "error:3.856667141941817e-06\n",
      "error:3.723393387033263e-06\n",
      "error:3.5987031481372053e-06\n",
      "error:3.4818362224725188e-06\n",
      "error:3.3721135445815346e-06\n",
      "error:3.268927589403545e-06\n",
      "error:3.171733939052226e-06\n",
      "error:3.0800438857855824e-06\n",
      "error:2.9934179508955723e-06\n",
      "error:2.9114602093407092e-06\n",
      "error:2.833813320422772e-06\n",
      "error:2.76015417569506e-06\n",
      "error:2.690190084939047e-06\n",
      "error:2.6236554313372773e-06\n",
      "error:2.5603087345546266e-06\n",
      "error:2.499930069630688e-06\n",
      "error:2.4423187947909688e-06\n"
     ]
    }
   ],
   "source": [
    "for e in range(15000):\n",
    "\n",
    "    Z1 = Z(X, W1, b1)\n",
    "    y1 = sig(Z1)\n",
    "    Z2 = Z(y1, W2, b2)\n",
    "    y2 = soft(Z2)\n",
    "    cost1 = cost(ohe(t), y2)\n",
    "    error1 = error(cost1)\n",
    "    \n",
    "    dZ2 = (ohe(t) - y2)\n",
    "    dw2 = np.dot(y1.T, dZ2)\n",
    "    db2 = (dZ2.sum(axis=0))\n",
    "    cache_W2 = decay*cache_W2 + (1-decay)*dw2*dw2\n",
    "    cache_b2 = decay*cache_b2 + (1-decay)*db2*db2\n",
    "    \n",
    "    dZ1 = np.dot(dZ2, W2.T)*(y1*(1-y1))\n",
    "    dw1 = np.dot(X.T, dZ1)\n",
    "    db1 = (dZ1.sum(axis=0))\n",
    "    cache_W1 = decay*cache_W1 + (1-decay)*dw1*dw1\n",
    "    cache_b1 = decay*cache_b1 + (1-decay)*db1*db1\n",
    "    \n",
    "    W2 += (lr*dw2)/(np.sqrt(cache_W2 + eps))\n",
    "    b2 += (lr*db2)/(np.sqrt(cache_b2 + eps))\n",
    "    W1 += (lr*dw1)/(np.sqrt(cache_W1 + eps))\n",
    "    b1 += (lr*db1) /(np.sqrt(cache_b1 + eps))   \n",
    "    \n",
    "    if e % 100 == 0:\n",
    "        err_reg.append(error1)\n",
    "        acc_reg.append(accuracy(ohe(t), y2))\n",
    "        print('error:{}'.format(error1))"
   ]
  },
  {
   "cell_type": "code",
   "execution_count": 90,
   "metadata": {},
   "outputs": [
    {
     "data": {
      "text/plain": [
       "1.0"
      ]
     },
     "execution_count": 90,
     "metadata": {},
     "output_type": "execute_result"
    }
   ],
   "source": [
    "accuracy(ohe(t), y2)"
   ]
  },
  {
   "cell_type": "markdown",
   "metadata": {},
   "source": [
    "## Graph"
   ]
  },
  {
   "cell_type": "markdown",
   "metadata": {},
   "source": [
    "### Constant learning rate"
   ]
  },
  {
   "cell_type": "code",
   "execution_count": 91,
   "metadata": {},
   "outputs": [
    {
     "data": {
      "image/png": "[encoded data removed]",
      "text/plain": [
       "<matplotlib.figure.Figure at 0x111144ef0>"
      ]
     },
     "metadata": {},
     "output_type": "display_data"
    }
   ],
   "source": [
    "plt.plot(err_reg)\n",
    "plt.show()"
   ]
  },
  {
   "cell_type": "code",
   "execution_count": 92,
   "metadata": {},
   "outputs": [
    {
     "data": {
      "image/png": "[encoded data removed]",
      "text/plain": [
       "<matplotlib.figure.Figure at 0x111001d30>"
      ]
     },
     "metadata": {},
     "output_type": "display_data"
    }
   ],
   "source": [
    "plt.plot(acc_reg)\n",
    "plt.show()"
   ]
  },
  {
   "cell_type": "markdown",
   "metadata": {},
   "source": [
    "# test"
   ]
  },
  {
   "cell_type": "code",
   "execution_count": 14,
   "metadata": {
    "collapsed": true
   },
   "outputs": [],
   "source": [
    "lr1 = [0.1]"
   ]
  },
  {
   "cell_type": "code",
   "execution_count": 15,
   "metadata": {
    "collapsed": true
   },
   "outputs": [],
   "source": [
    "for i in range(100):\n",
    "    k = 0.1\n",
    "    lr1.append(lr1[0]*np.exp(- k * i))"
   ]
  },
  {
   "cell_type": "code",
   "execution_count": 16,
   "metadata": {},
   "outputs": [
    {
     "data": {
      "image/png": "[encoded data removed]",
      "text/plain": [
       "<matplotlib.figure.Figure at 0x11562e748>"
      ]
     },
     "metadata": {},
     "output_type": "display_data"
    }
   ],
   "source": [
    "plt.plot(lr)\n",
    "plt.show()"
   ]
  },
  {
   "cell_type": "code",
   "execution_count": 17,
   "metadata": {
    "collapsed": true
   },
   "outputs": [],
   "source": [
    "lr2 = [0.1]"
   ]
  },
  {
   "cell_type": "code",
   "execution_count": 18,
   "metadata": {
    "collapsed": true
   },
   "outputs": [],
   "source": [
    "for i in range(100):\n",
    "    k = 0.1\n",
    "    lr2.append(lr2[0]/((k * i) + 1))"
   ]
  },
  {
   "cell_type": "code",
   "execution_count": 19,
   "metadata": {},
   "outputs": [
    {
     "data": {
      "image/png": "[encoded data removed]",
      "text/plain": [
       "<matplotlib.figure.Figure at 0x115a45780>"
      ]
     },
     "metadata": {},
     "output_type": "display_data"
    }
   ],
   "source": [
    "plt.plot(lr2)\n",
    "plt.show()"
   ]
  },
  {
   "cell_type": "code",
   "execution_count": 20,
   "metadata": {},
   "outputs": [
    {
     "data": {
      "image/png": "[encoded data removed]",
      "text/plain": [
       "<matplotlib.figure.Figure at 0x11574c278>"
      ]
     },
     "metadata": {},
     "output_type": "display_data"
    }
   ],
   "source": [
    "plt.plot(lr1)\n",
    "plt.plot(lr2)\n",
    "plt.show()"
   ]
  },
  {
   "cell_type": "code",
   "execution_count": null,
   "metadata": {
    "collapsed": true
   },
   "outputs": [],
   "source": []
  },
  {
   "cell_type": "code",
   "execution_count": 93,
   "metadata": {},
   "outputs": [
    {
     "data": {
      "text/plain": [
       "array([[3.22051323e-19, 6.51607985e-13, 6.65269537e-12, 7.48713551e-15],\n",
       "       [2.69011250e-18, 6.54932293e-11, 6.26667734e-14, 1.60739986e-15]])"
      ]
     },
     "execution_count": 93,
     "metadata": {},
     "output_type": "execute_result"
    }
   ],
   "source": [
    "cache_W1"
   ]
  },
  {
   "cell_type": "code",
   "execution_count": null,
   "metadata": {
    "collapsed": true
   },
   "outputs": [],
   "source": []
  }
 ],
 "metadata": {
  "kernelspec": {
   "display_name": "Python 3",
   "language": "python",
   "name": "python3"
  },
  "language_info": {
   "codemirror_mode": {
    "name": "ipython",
    "version": 3
   },
   "file_extension": ".py",
   "mimetype": "text/x-python",
   "name": "python",
   "nbconvert_exporter": "python",
   "pygments_lexer": "ipython3",
   "version": "3.6.1"
  }
 },
 "nbformat": 4,
 "nbformat_minor": 2
}
