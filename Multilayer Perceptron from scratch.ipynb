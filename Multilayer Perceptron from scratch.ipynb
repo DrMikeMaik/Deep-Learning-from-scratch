{
 "cells": [
  {
   "cell_type": "code",
   "execution_count": 1,
   "metadata": {
    "collapsed": true
   },
   "outputs": [],
   "source": [
    "import numpy as np\n",
    "import pandas as pd\n",
    "import matplotlib.pyplot as plt\n",
    "from sklearn.datasets import make_classification\n",
    "from sklearn.datasets import make_blobs"
   ]
  },
  {
   "cell_type": "code",
   "execution_count": 2,
   "metadata": {
    "collapsed": true
   },
   "outputs": [],
   "source": [
    "# set the dimensions\n",
    "N = 100\n",
    "D = 2\n",
    "M = 4\n",
    "K = 3"
   ]
  },
  {
   "cell_type": "code",
   "execution_count": 3,
   "metadata": {
    "collapsed": true
   },
   "outputs": [],
   "source": [
    "# set the initial weights\n",
    "np.random.seed(9)\n",
    "W1 = np.random.randn(D,M)\n",
    "b1 = np.random.randn(M)\n",
    "W2 = np.random.randn(M,K)\n",
    "b2 = np.random.randn(K)"
   ]
  },
  {
   "cell_type": "code",
   "execution_count": 4,
   "metadata": {},
   "outputs": [
    {
     "name": "stdout",
     "output_type": "stream",
     "text": [
      "(2, 4)\n",
      "(4,)\n",
      "(4, 3)\n",
      "(3,)\n"
     ]
    }
   ],
   "source": [
    "print(W1.shape)\n",
    "print(b1.shape)\n",
    "print(W2.shape)\n",
    "print(b2.shape)"
   ]
  },
  {
   "cell_type": "code",
   "execution_count": 5,
   "metadata": {},
   "outputs": [
    {
     "name": "stdout",
     "output_type": "stream",
     "text": [
      "[[ 1.10855471e-03 -2.89544069e-01 -1.11606630e+00 -1.28827567e-02]\n",
      " [-3.78361464e-01 -4.81135363e-01 -1.51733118e+00 -4.90871981e-01]]\n",
      "\n",
      "[-0.24068058 -0.64794746  0.63589108  1.74011731]\n"
     ]
    }
   ],
   "source": [
    "print(W1)\n",
    "print()\n",
    "print(b1)"
   ]
  },
  {
   "cell_type": "code",
   "execution_count": 6,
   "metadata": {},
   "outputs": [
    {
     "name": "stdout",
     "output_type": "stream",
     "text": [
      "[[ 0.29668222  0.70750366  1.82281576]\n",
      " [ 0.43076903  1.54272963 -0.90072117]\n",
      " [-0.13712501  1.29757901  0.67527117]\n",
      " [ 0.03195812  0.9181459   0.38050947]]\n",
      "\n",
      "[ 0.51636749 -0.35523946  0.208777  ]\n"
     ]
    }
   ],
   "source": [
    "print(W2)\n",
    "print()\n",
    "print(b2)"
   ]
  },
  {
   "cell_type": "code",
   "execution_count": 7,
   "metadata": {
    "collapsed": true
   },
   "outputs": [],
   "source": [
    "# Create three clusters\n",
    "X, t = make_blobs(n_features=2, centers=3)"
   ]
  },
  {
   "cell_type": "code",
   "execution_count": 8,
   "metadata": {},
   "outputs": [
    {
     "name": "stdout",
     "output_type": "stream",
     "text": [
      "(100, 2)\n",
      "(100,)\n"
     ]
    }
   ],
   "source": [
    "print(X.shape)\n",
    "print(t.shape)"
   ]
  },
  {
   "cell_type": "code",
   "execution_count": 9,
   "metadata": {
    "collapsed": true
   },
   "outputs": [],
   "source": [
    "X1 = pd.DataFrame(X, columns=['f1', 'f2'])\n",
    "t1 = pd.DataFrame(t, columns=['target'])\n",
    "df = pd.concat([X1, t1], axis=1)"
   ]
  },
  {
   "cell_type": "markdown",
   "metadata": {},
   "source": [
    "## Graph"
   ]
  },
  {
   "cell_type": "code",
   "execution_count": 10,
   "metadata": {},
   "outputs": [
    {
     "data": {
      "image/png": "[encoded data removed]",
      "text/plain": [
       "<matplotlib.figure.Figure at 0x116930710>"
      ]
     },
     "metadata": {},
     "output_type": "display_data"
    }
   ],
   "source": [
    "plt.figure(figsize=(8, 6), dpi=80)\n",
    "plt.scatter(df.loc[df['target']==0, 'f1'], df.loc[df['target']==0, 'f2'],\n",
    "           label = 't1')\n",
    "plt.scatter(df.loc[df['target']==1, 'f1'], df.loc[df['target']==1, 'f2'],\n",
    "            label = 't2')\n",
    "plt.scatter(df.loc[df['target']==2, 'f1'], df.loc[df['target']==2, 'f2'],\n",
    "            label = 't3')\n",
    "plt.legend()\n",
    "plt.savefig('blobs.png')\n",
    "plt.show()"
   ]
  },
  {
   "cell_type": "markdown",
   "metadata": {},
   "source": [
    "## Log reg"
   ]
  },
  {
   "cell_type": "code",
   "execution_count": 11,
   "metadata": {
    "collapsed": true
   },
   "outputs": [],
   "source": [
    "def Z(X, W, b):\n",
    "    return np.dot(X, W) + b"
   ]
  },
  {
   "cell_type": "code",
   "execution_count": 12,
   "metadata": {
    "collapsed": true
   },
   "outputs": [],
   "source": [
    "def sig(Z):\n",
    "    return 1/(1+np.exp(-Z))"
   ]
  },
  {
   "cell_type": "code",
   "execution_count": 13,
   "metadata": {
    "collapsed": true
   },
   "outputs": [],
   "source": [
    "def soft(Z):\n",
    "    exp_Z = np.exp(Z)\n",
    "    return exp_Z/np.sum(exp_Z, axis=1, keepdims=True)"
   ]
  },
  {
   "cell_type": "code",
   "execution_count": 14,
   "metadata": {},
   "outputs": [
    {
     "data": {
      "text/plain": [
       "(100, 4)"
      ]
     },
     "execution_count": 14,
     "metadata": {},
     "output_type": "execute_result"
    }
   ],
   "source": [
    "Z1 = Z(X, W1, b1)\n",
    "Z1.shape"
   ]
  },
  {
   "cell_type": "code",
   "execution_count": 15,
   "metadata": {},
   "outputs": [
    {
     "data": {
      "text/plain": [
       "(100, 4)"
      ]
     },
     "execution_count": 15,
     "metadata": {},
     "output_type": "execute_result"
    }
   ],
   "source": [
    "y1 = sig(Z1)\n",
    "y1.shape"
   ]
  },
  {
   "cell_type": "code",
   "execution_count": 16,
   "metadata": {},
   "outputs": [
    {
     "data": {
      "text/plain": [
       "(100, 3)"
      ]
     },
     "execution_count": 16,
     "metadata": {},
     "output_type": "execute_result"
    }
   ],
   "source": [
    "Z2 = Z(y1, W2, b2)\n",
    "Z2.shape"
   ]
  },
  {
   "cell_type": "code",
   "execution_count": 17,
   "metadata": {},
   "outputs": [
    {
     "data": {
      "text/plain": [
       "(100, 3)"
      ]
     },
     "execution_count": 17,
     "metadata": {},
     "output_type": "execute_result"
    }
   ],
   "source": [
    "y2 = soft(Z2)\n",
    "y2.shape"
   ]
  },
  {
   "cell_type": "code",
   "execution_count": 18,
   "metadata": {
    "collapsed": true
   },
   "outputs": [],
   "source": [
    "def ohe(t):\n",
    "    result = np.zeros((N,K))\n",
    "    for i in range(len(t)):\n",
    "        result[i, t[i]] = 1\n",
    "    return result"
   ]
  },
  {
   "cell_type": "code",
   "execution_count": 19,
   "metadata": {
    "collapsed": true
   },
   "outputs": [],
   "source": [
    "def cost(t, y):\n",
    "    return -t*np.log(y)"
   ]
  },
  {
   "cell_type": "code",
   "execution_count": 20,
   "metadata": {},
   "outputs": [
    {
     "data": {
      "text/plain": [
       "(100, 3)"
      ]
     },
     "execution_count": 20,
     "metadata": {},
     "output_type": "execute_result"
    }
   ],
   "source": [
    "cost1 = cost(ohe(t), y2)\n",
    "cost1.shape"
   ]
  },
  {
   "cell_type": "code",
   "execution_count": 21,
   "metadata": {
    "collapsed": true
   },
   "outputs": [],
   "source": [
    "def error(cost):\n",
    "    return (cost.sum())/N"
   ]
  },
  {
   "cell_type": "code",
   "execution_count": 22,
   "metadata": {},
   "outputs": [
    {
     "data": {
      "text/plain": [
       "1.6850577128658057"
      ]
     },
     "execution_count": 22,
     "metadata": {},
     "output_type": "execute_result"
    }
   ],
   "source": [
    "# initial error\n",
    "err0 = error(cost1)\n",
    "err0"
   ]
  },
  {
   "cell_type": "code",
   "execution_count": 23,
   "metadata": {
    "collapsed": true
   },
   "outputs": [],
   "source": [
    "def accuracy(t, y):\n",
    "    return (t==np.round(y)).mean()"
   ]
  },
  {
   "cell_type": "code",
   "execution_count": 24,
   "metadata": {},
   "outputs": [
    {
     "data": {
      "text/plain": [
       "0.4666666666666667"
      ]
     },
     "execution_count": 24,
     "metadata": {},
     "output_type": "execute_result"
    }
   ],
   "source": [
    "# initial accuracy\n",
    "acc0 = accuracy(ohe(t), y2)\n",
    "acc0"
   ]
  },
  {
   "cell_type": "code",
   "execution_count": 25,
   "metadata": {
    "collapsed": true
   },
   "outputs": [],
   "source": [
    "err = []\n",
    "acc = []"
   ]
  },
  {
   "cell_type": "code",
   "execution_count": 26,
   "metadata": {
    "scrolled": true
   },
   "outputs": [
    {
     "name": "stdout",
     "output_type": "stream",
     "text": [
      "initial error: 1.6850577128658057\n",
      "error:1.6850577128658057\n",
      "error:0.6131363114879698\n",
      "error:0.4379751566824528\n",
      "error:0.37867608118526946\n",
      "error:0.34962778643511866\n",
      "error:0.33155885383474887\n",
      "error:0.31849141079159304\n",
      "error:0.308110275943183\n",
      "error:0.29941781323382377\n",
      "error:0.2919559975556832\n",
      "error:0.2854910063056164\n",
      "error:0.27987386842930173\n",
      "error:0.27498296127535043\n",
      "error:0.2707063843121342\n",
      "error:0.26694071424642535\n",
      "error:0.2635941404465968\n",
      "error:0.26058950462337876\n",
      "error:0.25786607262076466\n",
      "error:0.2553796144004607\n",
      "error:0.25310051218508245\n",
      "error:0.2510101043593758\n",
      "error:0.2490962103942412\n",
      "error:0.2473491424943519\n",
      "error:0.24575913157626303\n",
      "error:0.24431530678225272\n",
      "error:0.2430057694828792\n",
      "error:0.24181815836388826\n",
      "error:0.24074026866761528\n",
      "error:0.23976052092136385\n",
      "error:0.23886823736785082\n",
      "error:0.23805375965230258\n",
      "error:0.23730845964884315\n",
      "error:0.2366246883626411\n",
      "error:0.23599569443747634\n",
      "error:0.2354155318184848\n",
      "error:0.23487896757559681\n",
      "error:0.23438139547168016\n",
      "error:0.2339187576747522\n",
      "error:0.23348747525802702\n",
      "error:0.2330843872281992\n",
      "error:0.23270669740309785\n",
      "error:0.23235192830430784\n",
      "error:0.23201788121198574\n",
      "error:0.23170260157739928\n",
      "error:0.23140434906545593\n",
      "error:0.23112157158456603\n",
      "error:0.23085288274449847\n",
      "error:0.23059704225975375\n",
      "error:0.2303529388845919\n",
      "error:0.23011957552590454\n",
      "error:0.22989605623202194\n",
      "error:0.22968157480003643\n",
      "error:0.22947540478215578\n",
      "error:0.22927689070381313\n",
      "error:0.22908544033355235\n",
      "error:0.22890051786779358\n",
      "error:0.2287216379130955\n",
      "error:0.22854836016502553\n",
      "error:0.22838028469670177\n",
      "error:0.2282170477818905\n",
      "error:0.2280583181875756\n",
      "error:0.22790379387946424\n",
      "error:0.22775319909118374\n",
      "error:0.22760628171418695\n",
      "error:0.22746281097076293\n",
      "error:0.22732257533720626\n",
      "error:0.22718538068822938\n",
      "error:0.22705104863721956\n",
      "error:0.22691941505000388\n",
      "error:0.2267903287124683\n",
      "error:0.22666365013473302\n",
      "error:0.22653925047664214\n",
      "error:0.22641701058114552\n",
      "error:0.22629682010373797\n",
      "error:0.22617857672752098\n",
      "error:0.22606218545467896\n",
      "error:0.22594755796624086\n",
      "error:0.22583461204293886\n",
      "error:0.22572327104080947\n",
      "error:0.22561346341590272\n",
      "error:0.22550512229310563\n",
      "error:0.22539818507464005\n",
      "error:0.2252925930842874\n",
      "error:0.2251882912438191\n",
      "error:0.22508522777849088\n",
      "error:0.2249833539487903\n",
      "error:0.22488262380591909\n",
      "error:0.22478299396875356\n",
      "error:0.22468442342025047\n",
      "error:0.22458687332147448\n",
      "error:0.22449030684159993\n",
      "error:0.2243946890024042\n",
      "error:0.22429998653591096\n",
      "error:0.22420616775397284\n",
      "error:0.22411320242869862\n",
      "error:0.22402106168273242\n",
      "error:0.2239297178884868\n",
      "error:0.22383914457551757\n",
      "error:0.22374931634530104\n",
      "error:0.22366020879274576\n",
      "error:0.22357179843383185\n",
      "error:0.22348406263882617\n",
      "error:0.22339697957057494\n",
      "error:0.22331052812741845\n",
      "error:0.22322468789031538\n",
      "error:0.2231394390738027\n",
      "error:0.22305476248044898\n",
      "error:0.22297063945849246\n",
      "error:0.22288705186237967\n",
      "error:0.22280398201594992\n",
      "error:0.22272141267802936\n",
      "error:0.22263932701022257\n",
      "error:0.2225577085467056\n",
      "error:0.22247654116584362\n",
      "error:0.22239580906346937\n",
      "error:0.22231549672767414\n",
      "error:0.2222355889149746\n",
      "error:0.22215607062773046\n",
      "error:0.22207692709269725\n",
      "error:0.2219981437406098\n",
      "error:0.22191970618669743\n",
      "error:0.22184160021204172\n",
      "error:0.22176381174569415\n",
      "error:0.22168632684747522\n",
      "error:0.2216091316913846\n",
      "error:0.22153221254955546\n",
      "error:0.22145555577669163\n",
      "error:0.2213791477949281\n",
      "error:0.22130297507906227\n",
      "error:0.22122702414210438\n",
      "error:0.2211512815210986\n",
      "error:0.22107573376317102\n",
      "error:0.22100036741175969\n",
      "error:0.220925168992988\n",
      "error:0.22085012500214177\n",
      "error:0.22077522189021273\n",
      "error:0.22070044605047445\n",
      "error:0.2206257838050557\n",
      "error:0.22055122139147865\n",
      "error:0.2204767449491321\n",
      "error:0.220402340505647\n",
      "error:0.220327993963147\n",
      "error:0.22025369108434475\n",
      "error:0.22017941747845526\n",
      "error:0.22010515858690202\n",
      "error:0.22003089966878658\n",
      "error:0.2199566257860978\n",
      "error:0.21988232178863562\n",
      "error:0.21980797229862362\n",
      "error:0.21973356169498814\n"
     ]
    }
   ],
   "source": [
    "lr = 0.001\n",
    "print('initial error: {}'.format(err0))\n",
    "\n",
    "for e in range(15000):\n",
    "\n",
    "    Z1 = Z(X, W1, b1)\n",
    "    y1 = sig(Z1)\n",
    "    Z2 = Z(y1, W2, b2)\n",
    "    y2 = soft(Z2)\n",
    "    cost1 = cost(ohe(t), y2)\n",
    "    error1 = error(cost1)\n",
    "    \n",
    "    dZ2 = (ohe(t) - y2)\n",
    "    dw2 = np.dot(y1.T, dZ2)\n",
    "    db2 = (dZ2.sum(axis=0))\n",
    "    \n",
    "    dZ1 = np.dot(dZ2, W2.T)*(y1*(1-y1))\n",
    "    dw1 = np.dot(X.T, dZ1)\n",
    "    db1 = (dZ1.sum(axis=0))\n",
    "    \n",
    "    W2 += lr*dw2\n",
    "    b2 += lr*db2\n",
    "    W1 += lr*dw1\n",
    "    b1 += lr*db1    \n",
    "    \n",
    "    if e % 100 == 0:\n",
    "        err.append(error1)\n",
    "        acc.append(accuracy(ohe(t), y2))\n",
    "        print('error:{}'.format(error1))"
   ]
  },
  {
   "cell_type": "code",
   "execution_count": 27,
   "metadata": {},
   "outputs": [
    {
     "data": {
      "text/plain": [
       "0.9333333333333333"
      ]
     },
     "execution_count": 27,
     "metadata": {},
     "output_type": "execute_result"
    }
   ],
   "source": [
    "accuracy(ohe(t), y2)"
   ]
  },
  {
   "cell_type": "markdown",
   "metadata": {},
   "source": [
    "## Graph"
   ]
  },
  {
   "cell_type": "code",
   "execution_count": 28,
   "metadata": {},
   "outputs": [
    {
     "data": {
      "image/png": "[encoded data removed]",
      "text/plain": [
       "<matplotlib.figure.Figure at 0x1169253c8>"
      ]
     },
     "metadata": {},
     "output_type": "display_data"
    }
   ],
   "source": [
    "plt.plot(err)\n",
    "plt.show()"
   ]
  },
  {
   "cell_type": "code",
   "execution_count": 29,
   "metadata": {},
   "outputs": [
    {
     "data": {
      "image/png": "[encoded data removed]",
      "text/plain": [
       "<matplotlib.figure.Figure at 0x1169300b8>"
      ]
     },
     "metadata": {},
     "output_type": "display_data"
    }
   ],
   "source": [
    "plt.plot(acc)\n",
    "plt.show()"
   ]
  },
  {
   "cell_type": "markdown",
   "metadata": {},
   "source": [
    "# Decision Boundary"
   ]
  },
  {
   "cell_type": "code",
   "execution_count": 30,
   "metadata": {
    "collapsed": true
   },
   "outputs": [],
   "source": [
    "def predict_all(X):\n",
    "    Z1 = Z(X, W1, b1)\n",
    "    y1 = sig(Z1)\n",
    "    Z2 = Z(y1, W2, b2)\n",
    "    y2 = soft(Z2)\n",
    "    return np.argmax(y2, axis=1)"
   ]
  },
  {
   "cell_type": "code",
   "execution_count": 31,
   "metadata": {},
   "outputs": [],
   "source": [
    "# Helper function to plot a decision boundary.\n",
    "# If you don't fully understand this function don't worry, it just generates the contour plot below.\n",
    "def plot_decision_boundary(pred_func):\n",
    "    # Set min and max values and give it some padding\n",
    "    x_min, x_max = X[:, 0].min() - .5, X[:, 0].max() + .5\n",
    "    y_min, y_max = X[:, 1].min() - .5, X[:, 1].max() + .5\n",
    "    h = 0.01\n",
    "    # Generate a grid of points with distance h between them\n",
    "    xx, yy = np.meshgrid(np.arange(x_min, x_max, h), np.arange(y_min, y_max, h))\n",
    "    # Predict the function value for the whole gid\n",
    "    Z = pred_func(np.c_[xx.ravel(), yy.ravel()])\n",
    "    Z = Z.reshape(xx.shape)\n",
    "    # Plot the contour and training examples\n",
    "    plt.figure(figsize=(8, 6), dpi=80)\n",
    "    plt.contourf(xx, yy, Z, cmap=plt.cm.brg, alpha=0.18)\n",
    "    plt.scatter(X[:, 0], X[:, 1], c=t, cmap=plt.cm.brg)\n",
    "    plt.title('MLP Decision Boundary')\n",
    "    plt.savefig('./data/MLP.png')\n",
    "    plt.show()"
   ]
  },
  {
   "cell_type": "code",
   "execution_count": 32,
   "metadata": {},
   "outputs": [
    {
     "data": {
      "image/png": "[encoded data removed]",
      "text/plain": [
       "<matplotlib.figure.Figure at 0x116fd1208>"
      ]
     },
     "metadata": {},
     "output_type": "display_data"
    }
   ],
   "source": [
    "plot_decision_boundary(lambda x: predict_all(x))"
   ]
  },
  {
   "cell_type": "code",
   "execution_count": null,
   "metadata": {
    "collapsed": true
   },
   "outputs": [],
   "source": []
  }
 ],
 "metadata": {
  "kernelspec": {
   "display_name": "Python 3",
   "language": "python",
   "name": "python3"
  },
  "language_info": {
   "codemirror_mode": {
    "name": "ipython",
    "version": 3
   },
   "file_extension": ".py",
   "mimetype": "text/x-python",
   "name": "python",
   "nbconvert_exporter": "python",
   "pygments_lexer": "ipython3",
   "version": "3.6.1"
  }
 },
 "nbformat": 4,
 "nbformat_minor": 2
}
